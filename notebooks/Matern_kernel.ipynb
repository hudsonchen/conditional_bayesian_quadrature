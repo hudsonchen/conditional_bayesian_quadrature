{
 "cells": [
  {
   "cell_type": "code",
   "execution_count": 1,
   "id": "a2613fcf",
   "metadata": {},
   "outputs": [],
   "source": [
    "import numpy as np\n",
    "import matplotlib.pyplot as plt\n",
    "import math\n",
    "import sklearn\n",
    "from sklearn.gaussian_process.kernels import Matern"
   ]
  },
  {
   "cell_type": "markdown",
   "id": "1ff850e5",
   "metadata": {},
   "source": [
    "The formula for estimation is:\n",
    "\n",
    "<p align=\"center\"><font size=\"5\">\n",
    "\n",
    "\\begin{aligned}\n",
    "\\mathbb{E}\\left[\\Pi\\left[g_n\\right]\\right]=& \\Pi[\\boldsymbol{c}(\\cdot, X)] \\boldsymbol{C}^{-1} \\boldsymbol{f} \\\\\n",
    "\\mathbb{V}\\left[\\Pi\\left[g_n\\right]\\right]=& \\Pi \\Pi[c(\\cdot, \\cdot)] -\\Pi[\\boldsymbol{c}(\\cdot, X)] \\boldsymbol{C}^{-1} \\Pi[\\boldsymbol{c}(X, \\cdot)]\n",
    "\\end{aligned}\n",
    "\n",
    "</p></font>"
   ]
  },
  {
   "cell_type": "markdown",
   "id": "a1b2ebeb",
   "metadata": {},
   "source": [
    "The Matern kernel for dimension \\$d=1$ is:\n",
    "\n",
    "<font size=\"5\">\n",
    "\\begin{aligned}\n",
    "k_{\\nu=p+1 / 2}(r)=\\exp \\left(-\\frac{\\sqrt{2 \\nu} r}{\\ell}\\right) \\frac{\\Gamma(p+1)}{\\Gamma(2 p+1)} \\sum_{i=0}^p \\frac{(p+i) !}{i !(p-i) !}\\left(\\frac{\\sqrt{8 \\nu} r}{\\ell}\\right)^{p-i}.\n",
    "\\end{aligned}\n",
    "<font>"
   ]
  },
  {
   "cell_type": "markdown",
   "id": "481e1c32",
   "metadata": {},
   "source": [
    "In this specific example, \\$p=3, \\nu=7/2$, so we have:\n",
    "\n",
    "<font size=\"5\">\n",
    "\\begin{aligned}\n",
    "k_{\\nu = 7/2}(r) = \\left(1+\\frac{\\sqrt{7} r}{\\ell}+\\frac{14 r^2}{5 \\ell^2} + \\frac{7 \\sqrt{7} r^3}{15 \\ell^3} \\right) \\exp \\left(-\\frac{\\sqrt{7} r}{\\ell}\\right)\n",
    "\\end{aligned}\n",
    "<font>"
   ]
  },
  {
   "cell_type": "markdown",
   "id": "d64052ab",
   "metadata": {},
   "source": [
    "Under the computation aid of mathematica, the kernel mean function is:\n",
    "\n",
    "<font size=\"5\">\n",
    "\n",
    "\\begin{aligned}\n",
    "&\\frac{1}{10}\\left(\\frac{16 l}{5 \\sqrt{7}}+\\frac{e^{\\frac{\\sqrt{7}(-5+x)}{l}}\\left(-48 \\sqrt{7} l^3+231 l^2(-5+x)-63 \\sqrt{7}(-5+x)^2+49(-5+x)^3\\right)}{105 l^2}\\right)+ \\\\\n",
    "&\\frac{1}{10}\\left(\\frac{16 l}{5 \\sqrt{7}}-\\frac{1}{15} e^{-\\frac{\\sqrt{7}(5+x)}{l}}\\left(\\frac{48 l}{\\sqrt{7}}+33(5+x)+\\frac{9 \\sqrt{7}(5+x)^2}{l}+\\frac{7(5+x)^3}{l^2}\\right)\\right)\n",
    "\\end{aligned}\n",
    "\n",
    "<font>"
   ]
  },
  {
   "cell_type": "code",
   "execution_count": 73,
   "id": "9de2b0c4",
   "metadata": {},
   "outputs": [
    {
     "name": "stdout",
     "output_type": "stream",
     "text": [
      "Empirical mean is 0.9246601489812045\n",
      "Analytic mean is 0.9247503087478797\n",
      "==================================================\n",
      "The Kernel mean function has the correct analytic form!\n"
     ]
    }
   ],
   "source": [
    "def Matern_kernel(x, y, l):\n",
    "    ## This is Hudson's custom Matern kernel\n",
    "    r = np.abs(x - y)\n",
    "    part1 = 1 + np.sqrt(7) * r / l + 14 * r ** 2 / (5 * l ** 2) + 7 * np.sqrt(7) * r ** 3 / (15 * l ** 3)\n",
    "    part2 = np.exp(-np.sqrt(7) * r / l)\n",
    "    return part1 * part2\n",
    "\n",
    "def sklearn_Matern(x, y, l):\n",
    "    ## This is the official Matern kernel in sklearn\n",
    "    kernel = 1.0 * Matern(length_scale=l, nu=3.5)\n",
    "    return kernel(x, y)\n",
    "\n",
    "\n",
    "def Matern_kernel_mean(x, l):\n",
    "    part3 = np.exp(-np.sqrt(7) * (-x + 5) / l)\n",
    "    part4 = 48 * l / np.sqrt(7) + 33 * (-x+5) + 9 * np.sqrt(7) * (-x+5) ** 2 / l + 7 * (-x+5) ** 3 / (l ** 2)\n",
    "    t1 = (16 * l / (5 * np.sqrt(7)) - part3 * part4 / 15) / 10\n",
    "    part3 = np.exp(-np.sqrt(7) * (x + 5) / l)\n",
    "    part4 = 48 * l / np.sqrt(7) + 33 * (x+5) + 9 * np.sqrt(7) * (x+5) ** 2 / l + 7 * (x+5) ** 3 / (l ** 2)\n",
    "    t2 = (16 * l / (5 * np.sqrt(7)) - part3 * part4 / 15) / 10\n",
    "    return t1 + t2\n",
    "\n",
    "\n",
    "X = np.linspace(-5, 5, 1000)\n",
    "y = np.array([2.0])\n",
    "l = 10.0\n",
    "\n",
    "K_X_y = sklearn_Matern(X[:, None], y[:, None], l)\n",
    "K_mu_y = Matern_kernel_mean(y, l)\n",
    "\n",
    "print(f\"Empirical mean is {K_X_y.mean()}\")\n",
    "print(f\"Analytic mean is {K_mu_y[0]}\")\n",
    "print(\"=\" * 50)\n",
    "print(\"The Kernel mean function has the correct analytic form!\")\n"
   ]
  },
  {
   "cell_type": "markdown",
   "id": "4628e504",
   "metadata": {},
   "source": [
    "Under the computation aid of mathematica, the kernel mean function is:\n",
    "\n",
    "<font size=\"5\">\n",
    "\\begin{aligned}\n",
    "\\frac{1}{50}\\left(\\frac{32 l}{\\sqrt{7}}-l^2+e^{-\\frac{10 \\sqrt{7}}{l}}\\left(80+\\frac{200 \\sqrt{7}}{3 l}+\\frac{38 l}{\\sqrt{7}}+l^2\\right)\\right)\n",
    "\\end{aligned}\n",
    "<font>"
   ]
  },
  {
   "cell_type": "code",
   "execution_count": 74,
   "id": "15c30146",
   "metadata": {},
   "outputs": [
    {
     "name": "stdout",
     "output_type": "stream",
     "text": [
      "Empirical mean from Kernel is 0.9031598317616358\n",
      "Empirical mean from Kernel mean is 0.9032005470718839\n",
      "Analytic mean mean is 0.9032412704005702\n",
      "==================================================\n",
      "The Kernel mean mean function has the correct analytic form!\n"
     ]
    }
   ],
   "source": [
    "def Matern_kernel_mean_mean(l):\n",
    "    part1 = 32 * l / np.sqrt(7) - l ** 2\n",
    "    part2 = np.exp(-10 * np.sqrt(7) / l)\n",
    "    part3 = 80 + 200 * np.sqrt(7) / (3 * l) + 38 * l / np.sqrt(7) + l ** 2\n",
    "    return (part1 + part2 * part3) / 50\n",
    "\n",
    "X = np.linspace(-5, 5, 2000)\n",
    "l = 10.0\n",
    "\n",
    "K = sklearn_Matern(X[:, None], X[:, None], l)\n",
    "K_mu_X = Matern_kernel_mean(X[:, None], l)\n",
    "K_mu_mu = Matern_kernel_mean_mean(l)\n",
    "\n",
    "print(f\"Empirical mean from Kernel is {K.mean()}\")\n",
    "print(f\"Empirical mean from Kernel mean is {K_mu_X.mean()}\")\n",
    "print(f\"Analytic mean mean is {K_mu_mu}\")\n",
    "print(\"=\" * 50)\n",
    "print(\"The Kernel mean mean function has the correct analytic form!\")"
   ]
  },
  {
   "cell_type": "markdown",
   "id": "fc50e2e0",
   "metadata": {},
   "source": [
    "This notebook is for the purpose of deriving the correct kernel mean function and kernel mean mean function for Matern kernel 3.5! "
   ]
  },
  {
   "cell_type": "code",
   "execution_count": null,
   "id": "81d45e2b",
   "metadata": {},
   "outputs": [],
   "source": []
  }
 ],
 "metadata": {
  "kernelspec": {
   "display_name": "Python 3 (ipykernel)",
   "language": "python",
   "name": "python3"
  },
  "language_info": {
   "codemirror_mode": {
    "name": "ipython",
    "version": 3
   },
   "file_extension": ".py",
   "mimetype": "text/x-python",
   "name": "python",
   "nbconvert_exporter": "python",
   "pygments_lexer": "ipython3",
   "version": "3.8.5"
  }
 },
 "nbformat": 4,
 "nbformat_minor": 5
}
