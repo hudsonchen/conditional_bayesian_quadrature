{
 "cells": [
  {
   "cell_type": "code",
   "execution_count": 1,
   "id": "295644c0-867c-4458-b949-638c57614cde",
   "metadata": {},
   "outputs": [],
   "source": [
    "import jax.numpy as jnp\n",
    "from jax import random\n",
    "from jax.config import config\n",
    "config.update(\"jax_enable_x64\", True)\n",
    "\n",
    "x = random.uniform(random.PRNGKey(0), (1000,))\n"
   ]
  },
  {
   "cell_type": "code",
   "execution_count": 3,
   "id": "12e73ee1-8635-4e1d-989c-32c1b3a9b8c5",
   "metadata": {},
   "outputs": [
    {
     "data": {
      "text/plain": [
       "dtype('float64')"
      ]
     },
     "execution_count": 3,
     "metadata": {},
     "output_type": "execute_result"
    }
   ],
   "source": [
    "x.dtype"
   ]
  },
  {
   "cell_type": "code",
   "execution_count": 9,
   "id": "195b05c0-e47a-411e-92b7-1e0ce5b924e3",
   "metadata": {},
   "outputs": [],
   "source": [
    "import pandas as pd\n",
    "\n",
    "d = {'col1': [0, 1, 2, 3], 'col2': [2,3,4,5]}\n",
    "d = pd.DataFrame(data=d)\n"
   ]
  },
  {
   "cell_type": "code",
   "execution_count": 12,
   "id": "fbb4d2dd-0ded-4218-a5b9-bce17532e1cf",
   "metadata": {},
   "outputs": [],
   "source": [
    "pd.DataFrame(data=d).to_csv('haha.csv', encoding='utf-8', index=False)"
   ]
  },
  {
   "cell_type": "code",
   "execution_count": 11,
   "id": "9c2ff0b3-5aa9-4dcf-88ba-1e1a44b53a90",
   "metadata": {},
   "outputs": [
    {
     "name": "stdout",
     "output_type": "stream",
     "text": [
      "/Users/hudsonchen/research/fx_bayesian_quaduature/CBQ/notebooks\n"
     ]
    }
   ],
   "source": [
    "!pwd"
   ]
  },
  {
   "cell_type": "code",
   "execution_count": null,
   "id": "23066d98-460b-4a8a-bba9-1f344af69e4d",
   "metadata": {},
   "outputs": [],
   "source": []
  }
 ],
 "metadata": {
  "kernelspec": {
   "display_name": "Python 3 (ipykernel)",
   "language": "python",
   "name": "python3"
  },
  "language_info": {
   "codemirror_mode": {
    "name": "ipython",
    "version": 3
   },
   "file_extension": ".py",
   "mimetype": "text/x-python",
   "name": "python",
   "nbconvert_exporter": "python",
   "pygments_lexer": "ipython3",
   "version": "3.8.5"
  }
 },
 "nbformat": 4,
 "nbformat_minor": 5
}
