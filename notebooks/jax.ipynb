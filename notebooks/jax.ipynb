{
 "cells": [
  {
   "cell_type": "code",
   "execution_count": 2,
   "id": "3dde6ea1-520f-4076-861f-d7d6361e0e65",
   "metadata": {},
   "outputs": [
    {
     "ename": "NameError",
     "evalue": "name 'jax' is not defined",
     "output_type": "error",
     "traceback": [
      "\u001b[0;31m---------------------------------------------------------------------------\u001b[0m",
      "\u001b[0;31mNameError\u001b[0m                                 Traceback (most recent call last)",
      "\u001b[0;32m/var/folders/3t/9g44xm4n6f74bm1skbg0kxdc0000gn/T/ipykernel_5065/3977840384.py\u001b[0m in \u001b[0;36m<module>\u001b[0;34m\u001b[0m\n\u001b[0;32m----> 1\u001b[0;31m \u001b[0mrng_key\u001b[0m \u001b[0;34m=\u001b[0m \u001b[0mjax\u001b[0m\u001b[0;34m.\u001b[0m\u001b[0mrandom\u001b[0m\u001b[0;34m.\u001b[0m\u001b[0mPRNGKey\u001b[0m\u001b[0;34m(\u001b[0m\u001b[0;36m0\u001b[0m\u001b[0;34m)\u001b[0m\u001b[0;34m\u001b[0m\u001b[0;34m\u001b[0m\u001b[0m\n\u001b[0m\u001b[1;32m      2\u001b[0m \u001b[0mA\u001b[0m \u001b[0;34m=\u001b[0m \u001b[0mjax\u001b[0m\u001b[0;34m.\u001b[0m\u001b[0mrandom\u001b[0m\u001b[0;34m.\u001b[0m\u001b[0mnormal\u001b[0m\u001b[0;34m(\u001b[0m\u001b[0mrng_key\u001b[0m\u001b[0;34m,\u001b[0m \u001b[0mshape\u001b[0m\u001b[0;34m=\u001b[0m\u001b[0;34m(\u001b[0m\u001b[0;36m3\u001b[0m\u001b[0;34m,\u001b[0m \u001b[0;36m2\u001b[0m\u001b[0;34m)\u001b[0m\u001b[0;34m)\u001b[0m\u001b[0;34m\u001b[0m\u001b[0;34m\u001b[0m\u001b[0m\n\u001b[1;32m      3\u001b[0m \u001b[0;34m\u001b[0m\u001b[0m\n\u001b[1;32m      4\u001b[0m \u001b[0mB\u001b[0m \u001b[0;34m=\u001b[0m \u001b[0mjnp\u001b[0m\u001b[0;34m.\u001b[0m\u001b[0meinsum\u001b[0m\u001b[0;34m(\u001b[0m\u001b[0;34m'ij,jk->ijk'\u001b[0m\u001b[0;34m,\u001b[0m \u001b[0mA\u001b[0m\u001b[0;34m,\u001b[0m \u001b[0mjnp\u001b[0m\u001b[0;34m.\u001b[0m\u001b[0meye\u001b[0m\u001b[0;34m(\u001b[0m\u001b[0;36m2\u001b[0m\u001b[0;34m)\u001b[0m\u001b[0;34m)\u001b[0m\u001b[0;34m\u001b[0m\u001b[0;34m\u001b[0m\u001b[0m\n\u001b[1;32m      5\u001b[0m \u001b[0;34m\u001b[0m\u001b[0m\n",
      "\u001b[0;31mNameError\u001b[0m: name 'jax' is not defined"
     ]
    }
   ],
   "source": [
    "rng_key = jax.random.PRNGKey(0)\n",
    "A = jax.random.normal(rng_key, shape=(3, 2))\n",
    "\n",
    "B = jnp.einsum('ij,jk->ijk', A, jnp.eye(2))\n",
    "\n",
    "print(A)"
   ]
  },
  {
   "cell_type": "code",
   "execution_count": 3,
   "id": "6f79169e-037b-43d0-a7de-856b822ea2fb",
   "metadata": {},
   "outputs": [
    {
     "ename": "NameError",
     "evalue": "name 'B' is not defined",
     "output_type": "error",
     "traceback": [
      "\u001b[0;31m---------------------------------------------------------------------------\u001b[0m",
      "\u001b[0;31mNameError\u001b[0m                                 Traceback (most recent call last)",
      "\u001b[0;32m/var/folders/3t/9g44xm4n6f74bm1skbg0kxdc0000gn/T/ipykernel_5065/3827267679.py\u001b[0m in \u001b[0;36m<module>\u001b[0;34m\u001b[0m\n\u001b[0;32m----> 1\u001b[0;31m \u001b[0mprint\u001b[0m\u001b[0;34m(\u001b[0m\u001b[0mB\u001b[0m\u001b[0;34m)\u001b[0m\u001b[0;34m\u001b[0m\u001b[0;34m\u001b[0m\u001b[0m\n\u001b[0m",
      "\u001b[0;31mNameError\u001b[0m: name 'B' is not defined"
     ]
    }
   ],
   "source": [
    "print(B)"
   ]
  },
  {
   "cell_type": "code",
   "execution_count": 4,
   "id": "864bf72f-c3b8-4052-b2da-929928a2a258",
   "metadata": {},
   "outputs": [
    {
     "ename": "NameError",
     "evalue": "name 'B' is not defined",
     "output_type": "error",
     "traceback": [
      "\u001b[0;31m---------------------------------------------------------------------------\u001b[0m",
      "\u001b[0;31mNameError\u001b[0m                                 Traceback (most recent call last)",
      "\u001b[0;32m/var/folders/3t/9g44xm4n6f74bm1skbg0kxdc0000gn/T/ipykernel_5065/1583108871.py\u001b[0m in \u001b[0;36m<module>\u001b[0;34m\u001b[0m\n\u001b[0;32m----> 1\u001b[0;31m \u001b[0mB\u001b[0m\u001b[0;34m[\u001b[0m\u001b[0;36m0\u001b[0m\u001b[0;34m,\u001b[0m \u001b[0;34m:\u001b[0m\u001b[0;34m,\u001b[0m \u001b[0;34m:\u001b[0m\u001b[0;34m]\u001b[0m\u001b[0;34m\u001b[0m\u001b[0;34m\u001b[0m\u001b[0m\n\u001b[0m",
      "\u001b[0;31mNameError\u001b[0m: name 'B' is not defined"
     ]
    }
   ],
   "source": [
    "B[0, :, :]"
   ]
  },
  {
   "cell_type": "code",
   "execution_count": 5,
   "id": "c58b2767-c96e-4c56-8160-02c46692045a",
   "metadata": {},
   "outputs": [
    {
     "ename": "NameError",
     "evalue": "name 'jax' is not defined",
     "output_type": "error",
     "traceback": [
      "\u001b[0;31m---------------------------------------------------------------------------\u001b[0m",
      "\u001b[0;31mNameError\u001b[0m                                 Traceback (most recent call last)",
      "\u001b[0;32m/var/folders/3t/9g44xm4n6f74bm1skbg0kxdc0000gn/T/ipykernel_5065/746431305.py\u001b[0m in \u001b[0;36m<module>\u001b[0;34m\u001b[0m\n\u001b[0;32m----> 1\u001b[0;31m \u001b[0mrng_key\u001b[0m \u001b[0;34m=\u001b[0m \u001b[0mjax\u001b[0m\u001b[0;34m.\u001b[0m\u001b[0mrandom\u001b[0m\u001b[0;34m.\u001b[0m\u001b[0mPRNGKey\u001b[0m\u001b[0;34m(\u001b[0m\u001b[0;36m0\u001b[0m\u001b[0;34m)\u001b[0m\u001b[0;34m\u001b[0m\u001b[0;34m\u001b[0m\u001b[0m\n\u001b[0m\u001b[1;32m      2\u001b[0m \u001b[0mA\u001b[0m \u001b[0;34m=\u001b[0m \u001b[0mjax\u001b[0m\u001b[0;34m.\u001b[0m\u001b[0mrandom\u001b[0m\u001b[0;34m.\u001b[0m\u001b[0mnormal\u001b[0m\u001b[0;34m(\u001b[0m\u001b[0mrng_key\u001b[0m\u001b[0;34m,\u001b[0m \u001b[0mshape\u001b[0m\u001b[0;34m=\u001b[0m\u001b[0;34m(\u001b[0m\u001b[0;36m3\u001b[0m\u001b[0;34m,\u001b[0m \u001b[0;36m3\u001b[0m\u001b[0;34m,\u001b[0m \u001b[0;36m2\u001b[0m\u001b[0;34m,\u001b[0m \u001b[0;36m2\u001b[0m\u001b[0;34m)\u001b[0m\u001b[0;34m)\u001b[0m\u001b[0;34m\u001b[0m\u001b[0;34m\u001b[0m\u001b[0m\n\u001b[1;32m      3\u001b[0m \u001b[0mprint\u001b[0m\u001b[0;34m(\u001b[0m\u001b[0mA\u001b[0m\u001b[0;34m)\u001b[0m\u001b[0;34m\u001b[0m\u001b[0;34m\u001b[0m\u001b[0m\n",
      "\u001b[0;31mNameError\u001b[0m: name 'jax' is not defined"
     ]
    }
   ],
   "source": [
    "rng_key = jax.random.PRNGKey(0)\n",
    "A = jax.random.normal(rng_key, shape=(3, 3, 2, 2))\n",
    "print(A)"
   ]
  },
  {
   "cell_type": "code",
   "execution_count": 84,
   "id": "f15b86ee-2052-41df-babe-433e288f6f98",
   "metadata": {},
   "outputs": [
    {
     "data": {
      "text/plain": [
       "Array([[-0.19596423, -0.847186  , -0.88885146],\n",
       "       [-0.44171792,  1.0892068 , -1.222362  ],\n",
       "       [-0.33807516,  0.2918976 ,  0.11422886]], dtype=float32)"
      ]
     },
     "execution_count": 84,
     "metadata": {},
     "output_type": "execute_result"
    }
   ],
   "source": [
    "A[:, :, 0, 0]"
   ]
  },
  {
   "cell_type": "code",
   "execution_count": 85,
   "id": "35166c4f-d01b-4159-b7b2-4f8dcc2dc24f",
   "metadata": {},
   "outputs": [
    {
     "data": {
      "text/plain": [
       "(2, 2, 3)"
      ]
     },
     "execution_count": 85,
     "metadata": {},
     "output_type": "execute_result"
    }
   ],
   "source": [
    "jnp.diagonal(A, axis1=0, axis2=1).shape"
   ]
  },
  {
   "cell_type": "code",
   "execution_count": 86,
   "id": "4159c7f9-18ae-4efc-8759-6e9a4ea48c1e",
   "metadata": {},
   "outputs": [
    {
     "data": {
      "text/plain": [
       "Array([[[-0.19596423,  0.254582  ],\n",
       "        [ 0.573146  ,  0.44064867]],\n",
       "\n",
       "       [[ 1.0892068 , -0.8457174 ],\n",
       "        [ 1.490981  ,  0.07877276]],\n",
       "\n",
       "       [[ 0.11422886,  0.25447085],\n",
       "        [-1.3060236 , -2.473075  ]]], dtype=float32)"
      ]
     },
     "execution_count": 86,
     "metadata": {},
     "output_type": "execute_result"
    }
   ],
   "source": [
    "jnp.diagonal(A, axis1=0, axis2=1).transpose((2, 0, 1))"
   ]
  },
  {
   "cell_type": "code",
   "execution_count": 87,
   "id": "60d131a4-157c-4c93-bc69-14ad9d934874",
   "metadata": {},
   "outputs": [
    {
     "data": {
      "text/plain": [
       "Array([-0.19596423,  1.0892068 ,  0.11422886], dtype=float32)"
      ]
     },
     "execution_count": 87,
     "metadata": {},
     "output_type": "execute_result"
    }
   ],
   "source": [
    "jnp.diagonal(A, axis1=0, axis2=1).transpose((2, 0, 1))[:, 0, 0]"
   ]
  },
  {
   "cell_type": "code",
   "execution_count": 76,
   "id": "197ceadf-22cd-4dc4-a0c0-018a241b4a18",
   "metadata": {},
   "outputs": [
    {
     "data": {
      "text/plain": [
       "(2, 4)"
      ]
     },
     "execution_count": 76,
     "metadata": {},
     "output_type": "execute_result"
    }
   ],
   "source": []
  },
  {
   "cell_type": "code",
   "execution_count": 24,
   "id": "616c4cc6-c19c-4f76-8229-27029cfea701",
   "metadata": {},
   "outputs": [
    {
     "data": {
      "text/plain": [
       "Array([[[2., 2., 2., 2.],\n",
       "        [2., 2., 2., 2.],\n",
       "        [2., 2., 2., 2.],\n",
       "        [2., 2., 2., 2.]],\n",
       "\n",
       "       [[2., 2., 2., 2.],\n",
       "        [2., 2., 2., 2.],\n",
       "        [2., 2., 2., 2.],\n",
       "        [2., 2., 2., 2.]],\n",
       "\n",
       "       [[2., 2., 2., 2.],\n",
       "        [2., 2., 2., 2.],\n",
       "        [2., 2., 2., 2.],\n",
       "        [2., 2., 2., 2.]]], dtype=float32)"
      ]
     },
     "execution_count": 24,
     "metadata": {},
     "output_type": "execute_result"
    }
   ],
   "source": [
    "A + B"
   ]
  },
  {
   "cell_type": "code",
   "execution_count": 28,
   "id": "9a2bfead-61ce-4d2b-a17e-0fa75dfa6711",
   "metadata": {},
   "outputs": [
    {
     "data": {
      "text/plain": [
       "(3,)"
      ]
     },
     "execution_count": 28,
     "metadata": {},
     "output_type": "execute_result"
    }
   ],
   "source": [
    "jnp.linalg.det(B).shape"
   ]
  },
  {
   "cell_type": "code",
   "execution_count": 32,
   "id": "86511e9e-af3c-4d97-9652-d4b1b9040263",
   "metadata": {},
   "outputs": [
    {
     "name": "stdout",
     "output_type": "stream",
     "text": [
      "0.001641988754272461\n",
      "0.0017199516296386719\n"
     ]
    }
   ],
   "source": [
    "import jax.numpy as jnp\n",
    "import jax\n",
    "import time\n",
    "# Example usage:\n",
    "N1 = 3\n",
    "N2 = 4\n",
    "N3 = 2\n",
    "D = 6\n",
    "\n",
    "rng_key = jax.random.PRNGKey(0)\n",
    "x = jax.random.normal(rng_key, shape=(N1, N2, D))\n",
    "\n",
    "rng_key, _ = jax.random.split(rng_key)\n",
    "mean = jax.random.normal(rng_key, shape=(N3, D))\n",
    "\n",
    "rng_key, _ = jax.random.split(rng_key)\n",
    "covariance = jax.random.uniform(rng_key, shape=(N3, D))\n",
    "covariance = jnp.stack([jnp.diag(c) for c in covariance.reshape(-1, D)], axis=0).reshape(N3, D, D)\n",
    "\n",
    "\n",
    "x_expanded = jnp.expand_dims(x, 2)\n",
    "mean_expanded = jnp.expand_dims(mean, (0, 1))\n",
    "# covariance_expanded = jnp.expand_dims(covariance, 0)\n",
    "\n",
    "\n",
    "t0 = time.time()\n",
    "diff = x_expanded - mean_expanded\n",
    "precision_matrix = jnp.linalg.inv(covariance)\n",
    "exponent = -0.5 * jnp.einsum('nijk,jkl,nijl->nij', diff, precision_matrix, diff)\n",
    "normalization = -0.5 * (D * jnp.log(2 * jnp.pi) - 0.5 * jnp.log(jnp.linalg.det(covariance)))\n",
    "log_likelihood = exponent + normalization\n",
    "print(time.time() - t0)\n",
    "# print(log_likelihood, log_likelihood.shape)\n",
    "# print(exponent, exponent.shape)\n",
    "\n",
    "t0 = time.time()\n",
    "diff_1 = diff.reshape([N1, N2, N3, D, 1])\n",
    "precision_matrix_ = precision_matrix.reshape([1, 1, N3, D, D])\n",
    "E = (diff_1 * precision_matrix_).sum(3)\n",
    "# E_ = jnp.expand_dims(E, 2)\n",
    "normalization = -0.5 * (D * jnp.log(2 * jnp.pi) - 0.5 * jnp.log(jnp.linalg.det(covariance)))\n",
    "exponent = -0.5 * (E * diff).sum(-1)\n",
    "log_likelihood = exponent + normalization\n",
    "print(time.time() - t0)\n",
    "# print(exponent, exponent.shape)\n"
   ]
  },
  {
   "cell_type": "code",
   "execution_count": 24,
   "id": "6cc9e842-d84e-4cb0-9490-6d076e5a1337",
   "metadata": {},
   "outputs": [
    {
     "data": {
      "text/plain": [
       "(3, 4, 2, 6)"
      ]
     },
     "execution_count": 24,
     "metadata": {},
     "output_type": "execute_result"
    }
   ],
   "source": [
    "diff.shape"
   ]
  },
  {
   "cell_type": "code",
   "execution_count": 7,
   "id": "ac86dc68-4800-4cd5-84e7-36052689b503",
   "metadata": {},
   "outputs": [
    {
     "data": {
      "text/plain": [
       "(2, 6, 6)"
      ]
     },
     "execution_count": 7,
     "metadata": {},
     "output_type": "execute_result"
    }
   ],
   "source": [
    "precision_matrix.shape"
   ]
  },
  {
   "cell_type": "code",
   "execution_count": 21,
   "id": "f51cb608-9cfd-4290-8791-f57d434d878b",
   "metadata": {},
   "outputs": [
    {
     "name": "stdout",
     "output_type": "stream",
     "text": [
      "[[[ -44.087975  -29.820477]\n",
      "  [ -16.644535  -11.319531]\n",
      "  [ -47.74982   -22.784111]\n",
      "  [ -17.861134  -19.58884 ]]\n",
      "\n",
      " [[ -54.307503  -15.372691]\n",
      "  [-222.3221    -15.377424]\n",
      "  [ -37.44995   -13.018433]\n",
      "  [ -20.321373  -38.71425 ]]\n",
      "\n",
      " [[ -61.859123  -16.834034]\n",
      "  [ -34.70679   -15.578803]\n",
      "  [ -48.57657   -33.38154 ]\n",
      "  [ -78.95834   -14.548405]]]\n"
     ]
    }
   ],
   "source": [
    "log_likelihood = jnp.zeros([N1, N2, N3])\n",
    "\n",
    "for n1 in range(N1):\n",
    "    for n2 in range(N2):\n",
    "        for n3 in range(N3):\n",
    "            diff = x[n1, n2, :] - mean[n3, :]\n",
    "            precision_matrix = jnp.linalg.inv(covariance[n3, :, :])\n",
    "            exponent = -0.5 * jnp.dot(diff.T, jnp.dot(precision_matrix, diff))\n",
    "            normalization = -0.5 * (D * jnp.log(2 * jnp.pi) + 0.5 * jnp.log(jnp.linalg.det(precision_matrix)))\n",
    "            log_likelihood = log_likelihood.at[n1, n2, n3].set(exponent + normalization)\n",
    "            \n",
    "print(log_likelihood)\n"
   ]
  },
  {
   "cell_type": "code",
   "execution_count": 113,
   "id": "7108b2f4-c8a0-404b-bb86-39f3c5a134b5",
   "metadata": {},
   "outputs": [
    {
     "data": {
      "text/plain": [
       "(3, 4, 2)"
      ]
     },
     "execution_count": 113,
     "metadata": {},
     "output_type": "execute_result"
    }
   ],
   "source": [
    "log_likelihood.shape"
   ]
  },
  {
   "cell_type": "code",
   "execution_count": 57,
   "id": "f2664143-261f-4298-a57d-14789fd837c6",
   "metadata": {},
   "outputs": [
    {
     "data": {
      "text/plain": [
       "(4, 2)"
      ]
     },
     "execution_count": 57,
     "metadata": {},
     "output_type": "execute_result"
    }
   ],
   "source": [
    "normalization.shape"
   ]
  },
  {
   "cell_type": "code",
   "execution_count": 54,
   "id": "6d987f85-28dc-4bd0-8b3a-ef437bf147a3",
   "metadata": {},
   "outputs": [
    {
     "data": {
      "text/plain": [
       "(4, 2, 3, 3)"
      ]
     },
     "execution_count": 54,
     "metadata": {},
     "output_type": "execute_result"
    }
   ],
   "source": [
    "covariance.shape"
   ]
  },
  {
   "cell_type": "code",
   "execution_count": 33,
   "id": "d33e7649-2fe9-47e9-9018-6720cb5d954a",
   "metadata": {},
   "outputs": [
    {
     "name": "stdout",
     "output_type": "stream",
     "text": [
      "Time for einsum: 0.006879 seconds\n",
      "Time for dot: 0.005470 seconds\n"
     ]
    }
   ],
   "source": [
    "import jax\n",
    "import jax.numpy as jnp\n",
    "import timeit\n",
    "\n",
    "# Define two random matrices for the comparison\n",
    "A = jax.random.normal(jax.random.PRNGKey(0), (1000, 1000))\n",
    "B = jax.random.normal(jax.random.PRNGKey(1), (1000, 1000))\n",
    "\n",
    "def einsum_multiply():\n",
    "    global A, B\n",
    "    C = jnp.einsum('ij,jk->ik', A, B)\n",
    "\n",
    "def dot_multiply():\n",
    "    global A, B\n",
    "    C = jnp.dot(A, B)\n",
    "\n",
    "# Compile the functions using jax.jit\n",
    "einsum_multiply_compiled = jax.jit(einsum_multiply)\n",
    "dot_multiply_compiled = jax.jit(dot_multiply)\n",
    "\n",
    "# Run the compiled functions once to compile the JAX computations\n",
    "_ = einsum_multiply_compiled()\n",
    "_ = dot_multiply_compiled()\n",
    "\n",
    "# Use timeit to measure the time it takes to execute the compiled functions\n",
    "einsum_time = timeit.timeit(einsum_multiply_compiled, number=100)\n",
    "dot_time = timeit.timeit(dot_multiply_compiled, number=100)\n",
    "\n",
    "print(f\"Time for einsum: {einsum_time:.6f} seconds\")\n",
    "print(f\"Time for dot: {dot_time:.6f} seconds\")\n"
   ]
  },
  {
   "cell_type": "code",
   "execution_count": null,
   "id": "59a960bb-9f80-4728-bb3b-1126e4379a33",
   "metadata": {},
   "outputs": [],
   "source": []
  },
  {
   "cell_type": "code",
   "execution_count": 87,
   "id": "5554947a-b155-4f12-93b4-bfea0ca860a8",
   "metadata": {},
   "outputs": [],
   "source": [
    "seed = 1\n",
    "rng_key = jax.random.PRNGKey(seed)\n",
    "\n",
    "X = jax.random.normal(rng_key, shape=(10, 2))\n",
    "poly = 3\n",
    "X_poly = jnp.ones_like(X)\n",
    "for i in range(1, poly + 1):\n",
    "    X_poly = jnp.concatenate((X_poly, X ** i), axis=1)"
   ]
  },
  {
   "cell_type": "code",
   "execution_count": 88,
   "id": "21a729ca-5361-4d34-b343-9e68c2793aa4",
   "metadata": {},
   "outputs": [],
   "source": [
    "\n",
    "powers = jnp.arange(0, poly + 1)\n",
    "X_ = X[:, :, None]\n",
    "X_power = X_ ** powers"
   ]
  },
  {
   "cell_type": "code",
   "execution_count": 89,
   "id": "a91ee304-0e5b-4b5a-9abd-b8419b2073f9",
   "metadata": {},
   "outputs": [
    {
     "data": {
      "text/plain": [
       "Array([[-0.9859176 , -1.0066605 ],\n",
       "       [-0.2213709 , -1.3452404 ],\n",
       "       [ 0.74275523, -2.1406245 ],\n",
       "       [-0.6595632 , -0.06608305],\n",
       "       [-0.21085918, -0.35348117],\n",
       "       [-1.4126911 , -1.9433796 ],\n",
       "       [ 1.6297984 ,  0.24093218],\n",
       "       [-1.7616359 , -0.7132233 ],\n",
       "       [ 0.86033255, -0.19197786],\n",
       "       [ 0.5360398 , -0.5192681 ]], dtype=float32)"
      ]
     },
     "execution_count": 89,
     "metadata": {},
     "output_type": "execute_result"
    }
   ],
   "source": [
    "X"
   ]
  },
  {
   "cell_type": "code",
   "execution_count": 90,
   "id": "b9bcafdd-844b-4429-a3ab-a1a02c3986a0",
   "metadata": {},
   "outputs": [
    {
     "data": {
      "text/plain": [
       "Array([[ 1.0000000e+00,  1.0000000e+00, -9.8591763e-01, -1.0066605e+00,\n",
       "         9.7203356e-01,  1.0133653e+00, -9.5834500e-01, -1.0201148e+00],\n",
       "       [ 1.0000000e+00,  1.0000000e+00, -2.2137091e-01, -1.3452404e+00,\n",
       "         4.9005076e-02,  1.8096716e+00, -1.0848298e-02, -2.4344432e+00],\n",
       "       [ 1.0000000e+00,  1.0000000e+00,  7.4275523e-01, -2.1406245e+00,\n",
       "         5.5168533e-01,  4.5822735e+00,  4.0976718e-01, -9.8089266e+00],\n",
       "       [ 1.0000000e+00,  1.0000000e+00, -6.5956318e-01, -6.6083051e-02,\n",
       "         4.3502361e-01,  4.3669697e-03, -2.8692555e-01, -2.8858267e-04],\n",
       "       [ 1.0000000e+00,  1.0000000e+00, -2.1085918e-01, -3.5348117e-01,\n",
       "         4.4461593e-02,  1.2494894e-01, -9.3751354e-03, -4.4167098e-02],\n",
       "       [ 1.0000000e+00,  1.0000000e+00, -1.4126911e+00, -1.9433796e+00,\n",
       "         1.9956962e+00,  3.7767243e+00, -2.8193023e+00, -7.3396091e+00],\n",
       "       [ 1.0000000e+00,  1.0000000e+00,  1.6297984e+00,  2.4093218e-01,\n",
       "         2.6562428e+00,  5.8048315e-02,  4.3291402e+00,  1.3985707e-02],\n",
       "       [ 1.0000000e+00,  1.0000000e+00, -1.7616359e+00, -7.1322328e-01,\n",
       "         3.1033611e+00,  5.0868744e-01, -5.4669924e+00, -3.6280772e-01],\n",
       "       [ 1.0000000e+00,  1.0000000e+00,  8.6033255e-01, -1.9197786e-01,\n",
       "         7.4017209e-01,  3.6855496e-02,  6.3679415e-01, -7.0754392e-03],\n",
       "       [ 1.0000000e+00,  1.0000000e+00,  5.3603983e-01, -5.1926810e-01,\n",
       "         2.8733870e-01,  2.6963934e-01,  1.5402499e-01, -1.4001511e-01]],      dtype=float32)"
      ]
     },
     "execution_count": 90,
     "metadata": {},
     "output_type": "execute_result"
    }
   ],
   "source": [
    "X_poly"
   ]
  },
  {
   "cell_type": "code",
   "execution_count": 91,
   "id": "5ade0409-fbb1-43c3-a6d1-7ecf063088fe",
   "metadata": {},
   "outputs": [
    {
     "data": {
      "text/plain": [
       "(10, 2, 4)"
      ]
     },
     "execution_count": 91,
     "metadata": {},
     "output_type": "execute_result"
    }
   ],
   "source": [
    "X_power.shape"
   ]
  },
  {
   "cell_type": "code",
   "execution_count": 92,
   "id": "a5737bf4-5f75-434e-a845-10e54f4ca836",
   "metadata": {},
   "outputs": [
    {
     "data": {
      "text/plain": [
       "Array([[ 1.0000000e+00, -9.8591763e-01,  9.7203356e-01, -9.5834506e-01,\n",
       "         1.0000000e+00, -1.0066605e+00,  1.0133653e+00, -1.0201148e+00],\n",
       "       [ 1.0000000e+00, -2.2137091e-01,  4.9005076e-02, -1.0848299e-02,\n",
       "         1.0000000e+00, -1.3452404e+00,  1.8096716e+00, -2.4344432e+00],\n",
       "       [ 1.0000000e+00,  7.4275523e-01,  5.5168533e-01,  4.0976718e-01,\n",
       "         1.0000000e+00, -2.1406245e+00,  4.5822735e+00, -9.8089266e+00],\n",
       "       [ 1.0000000e+00, -6.5956318e-01,  4.3502361e-01, -2.8692555e-01,\n",
       "         1.0000000e+00, -6.6083051e-02,  4.3669697e-03, -2.8858267e-04],\n",
       "       [ 1.0000000e+00, -2.1085918e-01,  4.4461593e-02, -9.3751354e-03,\n",
       "         1.0000000e+00, -3.5348117e-01,  1.2494894e-01, -4.4167098e-02],\n",
       "       [ 1.0000000e+00, -1.4126911e+00,  1.9956962e+00, -2.8193023e+00,\n",
       "         1.0000000e+00, -1.9433796e+00,  3.7767243e+00, -7.3396091e+00],\n",
       "       [ 1.0000000e+00,  1.6297984e+00,  2.6562428e+00,  4.3291402e+00,\n",
       "         1.0000000e+00,  2.4093218e-01,  5.8048315e-02,  1.3985707e-02],\n",
       "       [ 1.0000000e+00, -1.7616359e+00,  3.1033611e+00, -5.4669924e+00,\n",
       "         1.0000000e+00, -7.1322328e-01,  5.0868744e-01, -3.6280772e-01],\n",
       "       [ 1.0000000e+00,  8.6033255e-01,  7.4017209e-01,  6.3679415e-01,\n",
       "         1.0000000e+00, -1.9197786e-01,  3.6855496e-02, -7.0754397e-03],\n",
       "       [ 1.0000000e+00,  5.3603983e-01,  2.8733870e-01,  1.5402499e-01,\n",
       "         1.0000000e+00, -5.1926810e-01,  2.6963934e-01, -1.4001511e-01]],      dtype=float32)"
      ]
     },
     "execution_count": 92,
     "metadata": {},
     "output_type": "execute_result"
    }
   ],
   "source": [
    "X_power.reshape([X_power.shape[0], 8])"
   ]
  },
  {
   "cell_type": "code",
   "execution_count": 94,
   "id": "91de12ff-27d8-46bd-a3a2-582081eeb6e4",
   "metadata": {},
   "outputs": [
    {
     "name": "stdout",
     "output_type": "stream",
     "text": [
      "Standard NumPy time: 0.017902 seconds\n",
      "JAX NumPy without JIT time: 0.019902 seconds\n"
     ]
    }
   ],
   "source": [
    "import time\n",
    "import numpy as np\n",
    "import jax.numpy as jnp\n",
    "\n",
    "def measure_time(func, *args, **kwargs):\n",
    "    start_time = time.time()\n",
    "    result = func(*args, **kwargs)\n",
    "    end_time = time.time()\n",
    "    return result, end_time - start_time\n",
    "\n",
    "def compare_speeds(n):\n",
    "    np.random.seed(0)\n",
    "    A = np.random.rand(n, n)\n",
    "    B = np.random.rand(n, n)\n",
    "\n",
    "    # Standard NumPy\n",
    "    _, numpy_time = measure_time(np.dot, A, B)\n",
    "    \n",
    "    # Convert A and B to JAX arrays\n",
    "    A_jax = jnp.array(A)\n",
    "    B_jax = jnp.array(B)\n",
    "\n",
    "    # JAX NumPy without JIT\n",
    "    _, jax_time = measure_time(jnp.dot, A_jax, B_jax)\n",
    "\n",
    "    print(f\"Standard NumPy time: {numpy_time:.6f} seconds\")\n",
    "    print(f\"JAX NumPy without JIT time: {jax_time:.6f} seconds\")\n",
    "\n",
    "compare_speeds(1000)"
   ]
  },
  {
   "cell_type": "code",
   "execution_count": null,
   "id": "613dce25-6115-487e-bd97-b4cb4b7a5dc0",
   "metadata": {},
   "outputs": [],
   "source": []
  }
 ],
 "metadata": {
  "kernelspec": {
   "display_name": "Python 3 (ipykernel)",
   "language": "python",
   "name": "python3"
  },
  "language_info": {
   "codemirror_mode": {
    "name": "ipython",
    "version": 3
   },
   "file_extension": ".py",
   "mimetype": "text/x-python",
   "name": "python",
   "nbconvert_exporter": "python",
   "pygments_lexer": "ipython3",
   "version": "3.8.5"
  }
 },
 "nbformat": 4,
 "nbformat_minor": 5
}
