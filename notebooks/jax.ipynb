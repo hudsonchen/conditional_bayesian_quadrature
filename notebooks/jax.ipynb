{
 "cells": [
  {
   "cell_type": "code",
   "execution_count": 96,
   "id": "3dde6ea1-520f-4076-861f-d7d6361e0e65",
   "metadata": {},
   "outputs": [
    {
     "name": "stdout",
     "output_type": "stream",
     "text": [
      "[[ 0.18784384 -1.2833426 ]\n",
      " [ 0.6494181   1.2490594 ]\n",
      " [ 0.24447003 -0.11744965]]\n"
     ]
    }
   ],
   "source": [
    "rng_key = jax.random.PRNGKey(0)\n",
    "A = jax.random.normal(rng_key, shape=(3, 2))\n",
    "\n",
    "B = jnp.einsum('ij,jk->ijk', A, jnp.eye(2))\n",
    "\n",
    "print(A)"
   ]
  },
  {
   "cell_type": "code",
   "execution_count": 97,
   "id": "6f79169e-037b-43d0-a7de-856b822ea2fb",
   "metadata": {},
   "outputs": [
    {
     "name": "stdout",
     "output_type": "stream",
     "text": [
      "[[[ 0.18784384  0.        ]\n",
      "  [-0.         -1.2833426 ]]\n",
      "\n",
      " [[ 0.6494181   0.        ]\n",
      "  [ 0.          1.2490594 ]]\n",
      "\n",
      " [[ 0.24447003  0.        ]\n",
      "  [-0.         -0.11744965]]]\n"
     ]
    }
   ],
   "source": [
    "print(B)"
   ]
  },
  {
   "cell_type": "code",
   "execution_count": 99,
   "id": "864bf72f-c3b8-4052-b2da-929928a2a258",
   "metadata": {},
   "outputs": [
    {
     "data": {
      "text/plain": [
       "Array([[ 0.18784384,  0.        ],\n",
       "       [-0.        , -1.2833426 ]], dtype=float32)"
      ]
     },
     "execution_count": 99,
     "metadata": {},
     "output_type": "execute_result"
    }
   ],
   "source": [
    "B[0, :, :]"
   ]
  },
  {
   "cell_type": "code",
   "execution_count": 83,
   "id": "c58b2767-c96e-4c56-8160-02c46692045a",
   "metadata": {},
   "outputs": [
    {
     "name": "stdout",
     "output_type": "stream",
     "text": [
      "[[[[-0.19596423  0.254582  ]\n",
      "   [ 0.573146    0.44064867]]\n",
      "\n",
      "  [[-0.847186    0.31778416]\n",
      "   [ 0.64643025  0.03368271]]\n",
      "\n",
      "  [[-0.88885146 -0.26579142]\n",
      "   [-1.5609733  -0.63806945]]]\n",
      "\n",
      "\n",
      " [[[-0.44171792  0.9098043 ]\n",
      "   [-0.01651609  0.7582043 ]]\n",
      "\n",
      "  [[ 1.0892068  -0.8457174 ]\n",
      "   [ 1.490981    0.07877276]]\n",
      "\n",
      "  [[-1.222362    0.951683  ]\n",
      "   [ 0.21038245  1.3863313 ]]]\n",
      "\n",
      "\n",
      " [[[-0.33807516  2.9521072 ]\n",
      "   [-0.99476653 -0.515637  ]]\n",
      "\n",
      "  [[ 0.2918976  -0.14347766]\n",
      "   [ 1.614347    1.6433928 ]]\n",
      "\n",
      "  [[ 0.11422886  0.25447085]\n",
      "   [-1.3060236  -2.473075  ]]]]\n"
     ]
    }
   ],
   "source": [
    "rng_key = jax.random.PRNGKey(0)\n",
    "A = jax.random.normal(rng_key, shape=(3, 3, 2, 2))\n",
    "print(A)"
   ]
  },
  {
   "cell_type": "code",
   "execution_count": 84,
   "id": "f15b86ee-2052-41df-babe-433e288f6f98",
   "metadata": {},
   "outputs": [
    {
     "data": {
      "text/plain": [
       "Array([[-0.19596423, -0.847186  , -0.88885146],\n",
       "       [-0.44171792,  1.0892068 , -1.222362  ],\n",
       "       [-0.33807516,  0.2918976 ,  0.11422886]], dtype=float32)"
      ]
     },
     "execution_count": 84,
     "metadata": {},
     "output_type": "execute_result"
    }
   ],
   "source": [
    "A[:, :, 0, 0]"
   ]
  },
  {
   "cell_type": "code",
   "execution_count": 85,
   "id": "35166c4f-d01b-4159-b7b2-4f8dcc2dc24f",
   "metadata": {},
   "outputs": [
    {
     "data": {
      "text/plain": [
       "(2, 2, 3)"
      ]
     },
     "execution_count": 85,
     "metadata": {},
     "output_type": "execute_result"
    }
   ],
   "source": [
    "jnp.diagonal(A, axis1=0, axis2=1).shape"
   ]
  },
  {
   "cell_type": "code",
   "execution_count": 86,
   "id": "4159c7f9-18ae-4efc-8759-6e9a4ea48c1e",
   "metadata": {},
   "outputs": [
    {
     "data": {
      "text/plain": [
       "Array([[[-0.19596423,  0.254582  ],\n",
       "        [ 0.573146  ,  0.44064867]],\n",
       "\n",
       "       [[ 1.0892068 , -0.8457174 ],\n",
       "        [ 1.490981  ,  0.07877276]],\n",
       "\n",
       "       [[ 0.11422886,  0.25447085],\n",
       "        [-1.3060236 , -2.473075  ]]], dtype=float32)"
      ]
     },
     "execution_count": 86,
     "metadata": {},
     "output_type": "execute_result"
    }
   ],
   "source": [
    "jnp.diagonal(A, axis1=0, axis2=1).transpose((2, 0, 1))"
   ]
  },
  {
   "cell_type": "code",
   "execution_count": 87,
   "id": "60d131a4-157c-4c93-bc69-14ad9d934874",
   "metadata": {},
   "outputs": [
    {
     "data": {
      "text/plain": [
       "Array([-0.19596423,  1.0892068 ,  0.11422886], dtype=float32)"
      ]
     },
     "execution_count": 87,
     "metadata": {},
     "output_type": "execute_result"
    }
   ],
   "source": [
    "jnp.diagonal(A, axis1=0, axis2=1).transpose((2, 0, 1))[:, 0, 0]"
   ]
  },
  {
   "cell_type": "code",
   "execution_count": 76,
   "id": "197ceadf-22cd-4dc4-a0c0-018a241b4a18",
   "metadata": {},
   "outputs": [
    {
     "data": {
      "text/plain": [
       "(2, 4)"
      ]
     },
     "execution_count": 76,
     "metadata": {},
     "output_type": "execute_result"
    }
   ],
   "source": []
  },
  {
   "cell_type": "code",
   "execution_count": 24,
   "id": "616c4cc6-c19c-4f76-8229-27029cfea701",
   "metadata": {},
   "outputs": [
    {
     "data": {
      "text/plain": [
       "Array([[[2., 2., 2., 2.],\n",
       "        [2., 2., 2., 2.],\n",
       "        [2., 2., 2., 2.],\n",
       "        [2., 2., 2., 2.]],\n",
       "\n",
       "       [[2., 2., 2., 2.],\n",
       "        [2., 2., 2., 2.],\n",
       "        [2., 2., 2., 2.],\n",
       "        [2., 2., 2., 2.]],\n",
       "\n",
       "       [[2., 2., 2., 2.],\n",
       "        [2., 2., 2., 2.],\n",
       "        [2., 2., 2., 2.],\n",
       "        [2., 2., 2., 2.]]], dtype=float32)"
      ]
     },
     "execution_count": 24,
     "metadata": {},
     "output_type": "execute_result"
    }
   ],
   "source": [
    "A + B"
   ]
  },
  {
   "cell_type": "code",
   "execution_count": 28,
   "id": "9a2bfead-61ce-4d2b-a17e-0fa75dfa6711",
   "metadata": {},
   "outputs": [
    {
     "data": {
      "text/plain": [
       "(3,)"
      ]
     },
     "execution_count": 28,
     "metadata": {},
     "output_type": "execute_result"
    }
   ],
   "source": [
    "jnp.linalg.det(B).shape"
   ]
  },
  {
   "cell_type": "code",
   "execution_count": 120,
   "id": "86511e9e-af3c-4d97-9652-d4b1b9040263",
   "metadata": {},
   "outputs": [
    {
     "name": "stdout",
     "output_type": "stream",
     "text": [
      "[[[ -44.08798    -29.82048  ]\n",
      "  [ -16.644535   -11.3195305]\n",
      "  [ -47.749825   -22.784111 ]\n",
      "  [ -17.861132   -19.58884  ]]\n",
      "\n",
      " [[ -54.307503   -15.372691 ]\n",
      "  [-222.3221     -15.377424 ]\n",
      "  [ -37.44995    -13.018433 ]\n",
      "  [ -20.321373   -38.71425  ]]\n",
      "\n",
      " [[ -61.85912    -16.834034 ]\n",
      "  [ -34.70679    -15.578803 ]\n",
      "  [ -48.57657    -33.38154  ]\n",
      "  [ -78.95834    -14.548405 ]]] (3, 4, 2)\n"
     ]
    }
   ],
   "source": [
    "import jax.numpy as jnp\n",
    "\n",
    "# Example usage:\n",
    "N1 = 3\n",
    "N2 = 4\n",
    "N3 = 2\n",
    "D = 6\n",
    "\n",
    "rng_key = jax.random.PRNGKey(0)\n",
    "x = jax.random.normal(rng_key, shape=(N1, N2, D))\n",
    "\n",
    "rng_key, _ = jax.random.split(rng_key)\n",
    "mean = jax.random.normal(rng_key, shape=(N3, D))\n",
    "\n",
    "rng_key, _ = jax.random.split(rng_key)\n",
    "covariance = jax.random.uniform(rng_key, shape=(N3, D))\n",
    "covariance = jnp.stack([jnp.diag(c) for c in covariance.reshape(-1, D)], axis=0).reshape(N3, D, D)\n",
    "\n",
    "\n",
    "x_expanded = jnp.expand_dims(x, 2)\n",
    "mean_expanded = jnp.expand_dims(mean, (0, 1))\n",
    "# covariance_expanded = jnp.expand_dims(covariance, 0)\n",
    "\n",
    "diff = x_expanded - mean_expanded\n",
    "precision_matrix = jnp.linalg.inv(covariance)\n",
    "exponent = -0.5 * jnp.einsum('nijk,jkl,nijl->nij', diff, precision_matrix, diff)\n",
    "normalization = -0.5 * (D * jnp.log(2 * jnp.pi) - 0.5 * jnp.log(jnp.linalg.det(covariance)))\n",
    "# normalization = 0\n",
    "\n",
    "log_likelihood = exponent + normalization\n",
    "\n",
    "print(log_likelihood, log_likelihood.shape)"
   ]
  },
  {
   "cell_type": "code",
   "execution_count": 121,
   "id": "f51cb608-9cfd-4290-8791-f57d434d878b",
   "metadata": {},
   "outputs": [
    {
     "name": "stdout",
     "output_type": "stream",
     "text": [
      "[[[ -44.087975  -29.820477]\n",
      "  [ -16.644535  -11.319531]\n",
      "  [ -47.74982   -22.784111]\n",
      "  [ -17.861134  -19.58884 ]]\n",
      "\n",
      " [[ -54.307503  -15.372691]\n",
      "  [-222.3221    -15.377424]\n",
      "  [ -37.44995   -13.018433]\n",
      "  [ -20.321373  -38.71425 ]]\n",
      "\n",
      " [[ -61.859123  -16.834034]\n",
      "  [ -34.70679   -15.578803]\n",
      "  [ -48.57657   -33.38154 ]\n",
      "  [ -78.95834   -14.548405]]]\n"
     ]
    }
   ],
   "source": [
    "log_likelihood = jnp.zeros([N1, N2, N3])\n",
    "\n",
    "for n1 in range(N1):\n",
    "    for n2 in range(N2):\n",
    "        for n3 in range(N3):\n",
    "            diff = x[n1, n2, :] - mean[n3, :]\n",
    "            precision_matrix = jnp.linalg.inv(covariance[n3, :, :])\n",
    "            exponent = -0.5 * jnp.dot(diff.T, jnp.dot(precision_matrix, diff))\n",
    "            normalization = -0.5 * (D * jnp.log(2 * jnp.pi) + 0.5 * jnp.log(jnp.linalg.det(precision_matrix)))\n",
    "            log_likelihood = log_likelihood.at[n1, n2, n3].set(exponent + normalization)\n",
    "            \n",
    "print(log_likelihood)\n"
   ]
  },
  {
   "cell_type": "code",
   "execution_count": 113,
   "id": "7108b2f4-c8a0-404b-bb86-39f3c5a134b5",
   "metadata": {},
   "outputs": [
    {
     "data": {
      "text/plain": [
       "(3, 4, 2)"
      ]
     },
     "execution_count": 113,
     "metadata": {},
     "output_type": "execute_result"
    }
   ],
   "source": [
    "log_likelihood.shape"
   ]
  },
  {
   "cell_type": "code",
   "execution_count": 57,
   "id": "f2664143-261f-4298-a57d-14789fd837c6",
   "metadata": {},
   "outputs": [
    {
     "data": {
      "text/plain": [
       "(4, 2)"
      ]
     },
     "execution_count": 57,
     "metadata": {},
     "output_type": "execute_result"
    }
   ],
   "source": [
    "normalization.shape"
   ]
  },
  {
   "cell_type": "code",
   "execution_count": 54,
   "id": "6d987f85-28dc-4bd0-8b3a-ef437bf147a3",
   "metadata": {},
   "outputs": [
    {
     "data": {
      "text/plain": [
       "(4, 2, 3, 3)"
      ]
     },
     "execution_count": 54,
     "metadata": {},
     "output_type": "execute_result"
    }
   ],
   "source": [
    "covariance.shape"
   ]
  },
  {
   "cell_type": "code",
   "execution_count": null,
   "id": "d33e7649-2fe9-47e9-9018-6720cb5d954a",
   "metadata": {},
   "outputs": [],
   "source": []
  }
 ],
 "metadata": {
  "kernelspec": {
   "display_name": "Python 3 (ipykernel)",
   "language": "python",
   "name": "python3"
  },
  "language_info": {
   "codemirror_mode": {
    "name": "ipython",
    "version": 3
   },
   "file_extension": ".py",
   "mimetype": "text/x-python",
   "name": "python",
   "nbconvert_exporter": "python",
   "pygments_lexer": "ipython3",
   "version": "3.8.5"
  }
 },
 "nbformat": 4,
 "nbformat_minor": 5
}
