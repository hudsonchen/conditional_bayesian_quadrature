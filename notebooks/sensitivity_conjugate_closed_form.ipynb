{
 "cells": [
  {
   "cell_type": "code",
   "execution_count": 2,
   "id": "432a092a-c87e-4468-9c86-340addb14ae8",
   "metadata": {},
   "outputs": [],
   "source": [
    "import jax.numpy as jnp\n",
    "import jax\n",
    "seed = 1\n",
    "rng_key = jax.random.PRNGKey(seed)\n",
    "\n"
   ]
  },
  {
   "cell_type": "code",
   "execution_count": 87,
   "id": "6a94ce89-82d7-4c12-a2a4-d55f8675f4d8",
   "metadata": {},
   "outputs": [],
   "source": [
    "\n",
    "D = 2\n",
    "\n",
    "rng_key, _ = jax.random.split(rng_key)\n",
    "mu = jax.random.uniform(rng_key, shape=(D,))\n",
    "\n",
    "rng_key, _ = jax.random.split(rng_key)\n",
    "x_dummy = jax.random.uniform(rng_key, shape=(100, D))\n",
    "Sigma = x_dummy.T @ x_dummy + jnp.eye(D)\n"
   ]
  },
  {
   "cell_type": "code",
   "execution_count": 96,
   "id": "1cb87e53-8122-4da6-beaa-a7592b4becf0",
   "metadata": {},
   "outputs": [],
   "source": [
    "N = 10\n",
    "\n",
    "rng_key, _ = jax.random.split(rng_key)\n",
    "x = jax.random.multivariate_normal(rng_key, mean=mu, cov=Sigma, shape=(N, ))\n"
   ]
  },
  {
   "cell_type": "code",
   "execution_count": 97,
   "id": "2bad58b9-aa3a-4e17-af98-3c1addb1705e",
   "metadata": {},
   "outputs": [],
   "source": [
    "empirical = jnp.exp(-0.5 * (x ** 2).sum(1)).mean()"
   ]
  },
  {
   "cell_type": "code",
   "execution_count": 98,
   "id": "2929e6a9-f6d4-4dad-aef5-285177febc75",
   "metadata": {},
   "outputs": [],
   "source": [
    "\n",
    "analytical_1 = jnp.exp(-0.5 * mu.T @ jnp.linalg.inv(jnp.eye(D) + Sigma) @ mu)\n",
    "analytical_2 = jnp.linalg.det(jnp.eye(D) + Sigma) ** (-0.5)\n",
    "analytical = analytical_1 * analytical_2"
   ]
  },
  {
   "cell_type": "code",
   "execution_count": 99,
   "id": "f89580eb-5bca-4d92-8a93-e36f2fd1fce9",
   "metadata": {},
   "outputs": [
    {
     "data": {
      "text/plain": [
       "Array(0.00673489, dtype=float32)"
      ]
     },
     "execution_count": 99,
     "metadata": {},
     "output_type": "execute_result"
    }
   ],
   "source": [
    "empirical"
   ]
  },
  {
   "cell_type": "code",
   "execution_count": 100,
   "id": "cc79cf3f-3db3-4bc2-95e0-8fce68acf576",
   "metadata": {},
   "outputs": [
    {
     "data": {
      "text/plain": [
       "Array(0.03574077, dtype=float32)"
      ]
     },
     "execution_count": 100,
     "metadata": {},
     "output_type": "execute_result"
    }
   ],
   "source": [
    "analytical"
   ]
  },
  {
   "cell_type": "code",
   "execution_count": 10,
   "id": "10c1af00-9537-49ce-9ad0-99daf29d5fc5",
   "metadata": {},
   "outputs": [
    {
     "data": {
      "text/plain": [
       "Array(0., dtype=float32)"
      ]
     },
     "execution_count": 10,
     "metadata": {},
     "output_type": "execute_result"
    }
   ],
   "source": [
    "jnp.exp(-(x ** 2).sum())"
   ]
  },
  {
   "cell_type": "code",
   "execution_count": 13,
   "id": "b591ecca-0047-42cd-b6c9-3c60c891aa12",
   "metadata": {},
   "outputs": [
    {
     "data": {
      "text/plain": [
       "Array([0.48511577, 0.27557647], dtype=float32)"
      ]
     },
     "execution_count": 13,
     "metadata": {},
     "output_type": "execute_result"
    }
   ],
   "source": [
    "mu"
   ]
  },
  {
   "cell_type": "code",
   "execution_count": null,
   "id": "0fb93963-b540-4cf7-91c3-79af38dd7585",
   "metadata": {},
   "outputs": [],
   "source": []
  }
 ],
 "metadata": {
  "kernelspec": {
   "display_name": "Python 3 (ipykernel)",
   "language": "python",
   "name": "python3"
  },
  "language_info": {
   "codemirror_mode": {
    "name": "ipython",
    "version": 3
   },
   "file_extension": ".py",
   "mimetype": "text/x-python",
   "name": "python",
   "nbconvert_exporter": "python",
   "pygments_lexer": "ipython3",
   "version": "3.8.5"
  }
 },
 "nbformat": 4,
 "nbformat_minor": 5
}
