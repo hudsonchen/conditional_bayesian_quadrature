{
 "cells": [
  {
   "cell_type": "code",
   "execution_count": 1,
   "id": "468e2d33-878e-45bf-bbc4-eb4f094fe1cd",
   "metadata": {},
   "outputs": [],
   "source": [
    "import jax.numpy as jnp\n",
    "import numpy as np\n",
    "import jax\n",
    "from scipy.integrate import odeint\n",
    "import matplotlib.pyplot as plt\n",
    "import time\n",
    "import optax\n",
    "from tqdm import tqdm\n",
    "from functools import partial\n",
    "from tensorflow_probability.substrates import jax as tfp\n",
    "tfd = tfp.distributions\n",
    "\n",
    "from jax.config import config\n",
    "\n",
    "config.update('jax_platform_name', 'cpu')\n",
    "config.update(\"jax_enable_x64\", True)\n"
   ]
  },
  {
   "cell_type": "code",
   "execution_count": 2,
   "id": "f7214f43-a7ff-4f33-b64f-ab2123ae8b2c",
   "metadata": {},
   "outputs": [],
   "source": [
    "import os\n",
    "os.chdir('/Users/hudsonchen/research/fx_bayesian_quaduature/CBQ')\n",
    "from utils import SIR_utils\n",
    "from kernels import *"
   ]
  },
  {
   "cell_type": "code",
   "execution_count": 15,
   "id": "7260863c-34bb-4935-a537-9a9f28138e78",
   "metadata": {},
   "outputs": [],
   "source": [
    "@jax.jit\n",
    "def time_step(beta, gamma, population, St, It, Rt, rng_key):\n",
    "    Pt = It / population\n",
    "    rng_key, _ = jax.random.split(rng_key)\n",
    "    dist = tfd.Binomial(total_count=St, probs=1 - jnp.exp(-beta * Pt))\n",
    "    delta_It = dist.sample(seed=rng_key)\n",
    "    rng_key, _ = jax.random.split(rng_key)\n",
    "    dist = tfd.Binomial(total_count=It, probs=gamma)\n",
    "    delta_Rt = dist.sample(seed=rng_key)\n",
    "    St = St - delta_It\n",
    "    It = It + delta_It - delta_Rt\n",
    "    Rt = Rt + delta_Rt\n",
    "    return St, It, Rt, delta_It, delta_Rt\n",
    "\n",
    "\n",
    "def generate_data(beta, gamma, T, population, rng_key):\n",
    "    \"\"\"\n",
    "    :param beta: float, infection rate\n",
    "    :param gamma: float, recovery rate\n",
    "    :param rng_key:\n",
    "    :param T: Time length\n",
    "    :return: array T*3, the first is number of Susceptible,\n",
    "    the second is Infected, the third is Recoverdd\n",
    "    \"\"\"\n",
    "    It, Rt = 50., 0.\n",
    "    St = population - It - Rt\n",
    "\n",
    "    S_list = []\n",
    "    I_list = []\n",
    "    R_list = []\n",
    "    delta_It_list = []\n",
    "    delta_Rt_list = []\n",
    "    # Note the index here\n",
    "    # S_0 to S_{T-1}, I_0 to I_{T-1}, R_0 to R_{T-1}\n",
    "    # delta_I1 to delta_IT, delta_R1 to delta_RT\n",
    "    for i in range(T):\n",
    "        S_list.append(St)\n",
    "        I_list.append(It)\n",
    "        R_list.append(Rt)\n",
    "        St, It, Rt, delta_It, delta_Rt = time_step(beta, gamma, population, St, It, Rt, rng_key)\n",
    "        delta_It_list.append(delta_It)\n",
    "        delta_Rt_list.append(delta_Rt)\n",
    "\n",
    "    S_array = np.array(S_list)\n",
    "    I_array = np.array(I_list)\n",
    "    R_array = np.array(R_list)\n",
    "    delta_It_array = np.array(delta_It_list)\n",
    "    delta_Rt_array = np.array(delta_Rt_list)\n",
    "\n",
    "    # # Plot the data on three separate curves for S(t), I(t) and R(t)\n",
    "    fig = plt.figure(facecolor='w')\n",
    "    ax = fig.add_subplot(111, facecolor='#dddddd', axisbelow=True)\n",
    "    ax.plot(np.arange(T), S_array, 'b', alpha=0.5, lw=2, label='Susceptible')\n",
    "    ax.plot(np.arange(T), I_array, 'r', alpha=0.5, lw=2, label='Infected')\n",
    "    ax.plot(np.arange(T), R_array, 'g', alpha=0.5, lw=2, label='Recovered with immunity')\n",
    "    ax.set_xlabel('Time /days')\n",
    "    ax.yaxis.set_tick_params(length=0)\n",
    "    ax.xaxis.set_tick_params(length=0)\n",
    "    ax.grid(b=True, which='major', c='w', lw=2, ls='-')\n",
    "    legend = ax.legend()\n",
    "    legend.get_frame().set_alpha(0.5)\n",
    "    plt.title(f'Infection rate is {beta}')\n",
    "    plt.show()\n",
    "\n",
    "    D_real = {'S': S_array, 'I': I_array, 'R': R_array, 'dI': delta_It_array, 'dR': delta_Rt_array}\n",
    "    # non_zero_ind = SIR_utils.non_zero_ind(delta_It_array)\n",
    "    # St_real_non_zero = S_array[non_zero_ind]\n",
    "    # It_real_non_zero = I_array[non_zero_ind]\n",
    "    # Rt_real_non_zero = R_array[non_zero_ind]\n",
    "    # delta_It_real_non_zero = delta_It_array[non_zero_ind]\n",
    "    # delta_Rt_real_non_zero = delta_Rt_array[non_zero_ind]\n",
    "    # D_real_remove_zero = {'S': St_real_non_zero, 'I': It_real_non_zero,\n",
    "    #                       'R': Rt_real_non_zero, 'dI': delta_It_real_non_zero,\n",
    "    #                       'dR': delta_Rt_real_non_zero}\n",
    "    pause = True\n",
    "    return D_real\n"
   ]
  },
  {
   "cell_type": "code",
   "execution_count": 16,
   "id": "c0efe059-0bb8-4488-abf6-40fb09f6e621",
   "metadata": {},
   "outputs": [],
   "source": [
    "def stein_Matern(x, y, l, d_log_px, d_log_py):\n",
    "    \"\"\"\n",
    "    :param x: N*D\n",
    "    :param y: M*D\n",
    "    :param l: scalar\n",
    "    :param d_log_px: N*D\n",
    "    :param d_log_py: M*D\n",
    "    :return: N*M\n",
    "    \"\"\"\n",
    "    N, D = x.shape\n",
    "    M = y.shape[0]\n",
    "\n",
    "    batch_kernel = tfp.math.psd_kernels.MaternThreeHalves(amplitude=1., length_scale=l)\n",
    "    grad_x_K_fn = jax.grad(batch_kernel.apply, argnums=0)\n",
    "    vec_grad_x_K_fn = jax.vmap(grad_x_K_fn, in_axes=(0, 0), out_axes=0)\n",
    "    grad_y_K_fn = jax.grad(batch_kernel.apply, argnums=1)\n",
    "    vec_grad_y_K_fn = jax.vmap(grad_y_K_fn, in_axes=(0, 0), out_axes=0)\n",
    "\n",
    "    grad_xy_K_fn = jax.jacfwd(jax.jacrev(batch_kernel.apply, argnums=1), argnums=0)\n",
    "\n",
    "    def diag_sum_grad_xy_K_fn(x, y):\n",
    "        return jnp.diag(grad_xy_K_fn(x, y)).sum()\n",
    "\n",
    "    vec_grad_xy_K_fn = jax.vmap(diag_sum_grad_xy_K_fn, in_axes=(0, 0), out_axes=0)\n",
    "\n",
    "    x_dummy = jnp.stack([x] * N, axis=1).reshape(N * M, D)\n",
    "    y_dummy = jnp.stack([y] * M, axis=0).reshape(N * M, D)\n",
    "\n",
    "    K = batch_kernel.matrix(x, y)\n",
    "    dx_K = vec_grad_x_K_fn(x_dummy, y_dummy).reshape(N, M, D)\n",
    "    dy_K = vec_grad_y_K_fn(x_dummy, y_dummy).reshape(N, M, D)\n",
    "    dxdy_K = vec_grad_xy_K_fn(x_dummy, y_dummy).reshape(N, M)\n",
    "\n",
    "    part1 = d_log_px @ d_log_py.T * K\n",
    "    part2 = (d_log_py[None, :] * dx_K).sum(-1)\n",
    "    part3 = (d_log_px[:, None, :] * dy_K).sum(-1)\n",
    "    part4 = dxdy_K\n",
    "    \n",
    "    print(part1)\n",
    "    print(\"===========/n/n\")\n",
    "    print(part2)\n",
    "    print(\"===========/n/n\")\n",
    "    print(part3)\n",
    "    print(\"===========/n/n\")\n",
    "    print(part4)\n",
    "    print(\"===========/n/n\")\n",
    "    return part1 + part2 + part3 + part4\n"
   ]
  },
  {
   "cell_type": "code",
   "execution_count": 17,
   "id": "68b5e2c6-d435-4aa3-83c6-e48c0337fac6",
   "metadata": {},
   "outputs": [],
   "source": [
    "def my_stein_Matern(x, y, l, d_log_px, d_log_py):\n",
    "    \"\"\"\n",
    "    :param x: N*D\n",
    "    :param y: M*D\n",
    "    :param l: scalar\n",
    "    :param d_log_px: N*D\n",
    "    :param d_log_py: M*D\n",
    "    :return: N*M\n",
    "    \"\"\"\n",
    "    K = my_Matern(x, y, l)\n",
    "    dx_K = dx_Matern(x, y, l)\n",
    "    dy_K = dy_Matern(x, y, l)\n",
    "    dxdy_K = dxdy_Matern(x, y, l)\n",
    "    part1 = d_log_px @ d_log_py.T * K\n",
    "    part2 = (d_log_py[None, :] * dx_K).sum(-1)\n",
    "    part3 = (d_log_px[:, None, :] * dy_K).sum(-1)\n",
    "    part4 = dxdy_K\n",
    "    return part1 + part2 + part3 + part4"
   ]
  },
  {
   "cell_type": "code",
   "execution_count": 18,
   "id": "ef6c470d-bd8e-4db5-803e-c75553a3bb8b",
   "metadata": {},
   "outputs": [],
   "source": [
    "def log_posterior(beta, gamma, D_real, population, beta_lab, T, log_posterior_scale, rng_key):\n",
    "    rate = 10.\n",
    "    scale = 1. / rate\n",
    "\n",
    "    log_prior_beta = jax.scipy.stats.gamma.logpdf(beta / scale, a=rate * beta_lab)\n",
    "    S_real, I_real, _, delta_I_real, _ = D_real['S'], D_real['I'], D_real['R'], D_real['dI'], D_real['dR']\n",
    "    \n",
    "    P_sim = 1 - jnp.exp(-beta * (I_real / population))\n",
    "    mean = S_real * P_sim \n",
    "    cov = S_real * P_sim * (1 - P_sim)\n",
    "    log_likelihood = jax.scipy.stats.multivariate_normal.logpdf(delta_I_real, mean=mean, cov=jnp.diag(cov))\n",
    "    return log_prior_beta + log_likelihood\n",
    "\n",
    "def MCMC(rng_key, beta_lab, nsamples, init_params, log_prob):\n",
    "    rng_key, _ = jax.random.split(rng_key)\n",
    "    @jax.jit\n",
    "    def run_chain(rng_key, state):\n",
    "        num_burnin_steps = int(1e3)\n",
    "        # kernel = tfp.mcmc.SimpleStepSizeAdaptation(\n",
    "        #     tfp.mcmc.HamiltonianMonteCarlo(\n",
    "        #         target_log_prob_fn=log_prob,\n",
    "        #         num_leapfrog_steps=3,\n",
    "        #         step_size=1.0),\n",
    "        #         num_adaptation_steps=int(num_burnin_steps * 0.8))\n",
    "\n",
    "        kernel = tfp.mcmc.NoUTurnSampler(log_prob, 1e-2)\n",
    "        samples = tfp.mcmc.sample_chain(num_results=nsamples,\n",
    "                                        num_burnin_steps=num_burnin_steps,\n",
    "                                        current_state=state,\n",
    "                                        kernel=kernel,\n",
    "                                        trace_fn=None,\n",
    "                                        seed=rng_key)\n",
    "        return samples\n",
    "\n",
    "    states = run_chain(rng_key, init_params)\n",
    "    # Debug code\n",
    "    # rate = 10.0\n",
    "    # scale = 1. / rate\n",
    "    # interval = jnp.linspace(0, 1, 100)\n",
    "    # interval_pdf = 1. / scale * jax.scipy.stats.gamma.pdf(interval / scale, a=rate * beta_lab)\n",
    "    # plt.figure()\n",
    "    # plt.plot(interval, interval_pdf)\n",
    "    # plt.hist(np.array(states), bins=10, alpha=0.8, density=True)\n",
    "    # plt.show()\n",
    "    pause = True\n",
    "    return states"
   ]
  },
  {
   "cell_type": "code",
   "execution_count": 104,
   "id": "b5c1f9ba-c656-47bb-be2f-ef75454c8cd4",
   "metadata": {},
   "outputs": [
    {
     "data": {
      "image/png": "[encoded data removed]",
      "text/plain": [
       "<Figure size 432x288 with 1 Axes>"
      ]
     },
     "metadata": {},
     "output_type": "display_data"
    },
    {
     "name": "stdout",
     "output_type": "stream",
     "text": [
      "3377.0\n",
      "43\n"
     ]
    }
   ],
   "source": [
    "population = float(1e5)\n",
    "beta_real, gamma_real = 0.20, 0.05\n",
    "beta_lab, gamma_lab = 0.45, 0.05\n",
    "gamma = 0.05\n",
    "rate = 10.0\n",
    "scale = 1. / rate\n",
    "T = 400\n",
    "time_target = 100\n",
    "\n",
    "\n",
    "\n",
    "seed = int(time.time())\n",
    "rng_key = jax.random.PRNGKey(seed)\n",
    "\n",
    "D1 = generate_data(beta_real, gamma, T, population, rng_key)\n",
    "\n",
    "print(D1['dI'].max())\n",
    "print(D1['dI'].argmax())\n"
   ]
  },
  {
   "cell_type": "code",
   "execution_count": 70,
   "id": "a0ad9010-711b-474e-ac45-73c79b0cee8e",
   "metadata": {},
   "outputs": [
    {
     "ename": "TypeError",
     "evalue": "generate_data() takes 5 positional arguments but 6 were given",
     "output_type": "error",
     "traceback": [
      "\u001b[0;31m---------------------------------------------------------------------------\u001b[0m",
      "\u001b[0;31mTypeError\u001b[0m                                 Traceback (most recent call last)",
      "\u001b[0;32m/var/folders/3t/9g44xm4n6f74bm1skbg0kxdc0000gn/T/ipykernel_10980/1864213487.py\u001b[0m in \u001b[0;36m<module>\u001b[0;34m\u001b[0m\n\u001b[1;32m      2\u001b[0m \u001b[0mrng_key\u001b[0m \u001b[0;34m=\u001b[0m \u001b[0mjax\u001b[0m\u001b[0;34m.\u001b[0m\u001b[0mrandom\u001b[0m\u001b[0;34m.\u001b[0m\u001b[0mPRNGKey\u001b[0m\u001b[0;34m(\u001b[0m\u001b[0mseed\u001b[0m\u001b[0;34m)\u001b[0m\u001b[0;34m\u001b[0m\u001b[0;34m\u001b[0m\u001b[0m\n\u001b[1;32m      3\u001b[0m \u001b[0;34m\u001b[0m\u001b[0m\n\u001b[0;32m----> 4\u001b[0;31m \u001b[0mD2\u001b[0m\u001b[0;34m,\u001b[0m \u001b[0mD_real_target\u001b[0m \u001b[0;34m=\u001b[0m \u001b[0mgenerate_data\u001b[0m\u001b[0;34m(\u001b[0m\u001b[0mbeta_real\u001b[0m\u001b[0;34m,\u001b[0m \u001b[0mgamma\u001b[0m\u001b[0;34m,\u001b[0m \u001b[0mT\u001b[0m\u001b[0;34m,\u001b[0m \u001b[0mpopulation\u001b[0m\u001b[0;34m,\u001b[0m \u001b[0mtime_target\u001b[0m\u001b[0;34m,\u001b[0m \u001b[0mrng_key\u001b[0m\u001b[0;34m)\u001b[0m\u001b[0;34m\u001b[0m\u001b[0;34m\u001b[0m\u001b[0m\n\u001b[0m\u001b[1;32m      5\u001b[0m \u001b[0mD_real_target\u001b[0m \u001b[0;34m=\u001b[0m \u001b[0mSIR_utils\u001b[0m\u001b[0;34m.\u001b[0m\u001b[0mconvert_dict_to_jnp\u001b[0m\u001b[0;34m(\u001b[0m\u001b[0mD_real_target\u001b[0m\u001b[0;34m)\u001b[0m\u001b[0;34m\u001b[0m\u001b[0;34m\u001b[0m\u001b[0m\n\u001b[1;32m      6\u001b[0m \u001b[0;34m\u001b[0m\u001b[0m\n",
      "\u001b[0;31mTypeError\u001b[0m: generate_data() takes 5 positional arguments but 6 were given"
     ]
    }
   ],
   "source": [
    "seed = int(time.time())\n",
    "rng_key = jax.random.PRNGKey(seed)\n",
    "\n",
    "D2, D_real_target = generate_data(beta_real, gamma, T, population, time_target, rng_key)\n",
    "D_real_target = SIR_utils.convert_dict_to_jnp(D_real_target)\n",
    "\n",
    "print(D2['I'].max())\n",
    "print(D2['I'].argmax())\n"
   ]
  },
  {
   "cell_type": "code",
   "execution_count": 22,
   "id": "e027be86-aea6-44ce-9b71-ded1409c4e9c",
   "metadata": {},
   "outputs": [
    {
     "data": {
      "text/plain": [
       "array([5.0000e+01, 2.0000e+00, 7.6000e+01, 6.0000e+00, 1.1400e+02,\n",
       "       1.0000e+01, 1.7100e+02, 2.0000e+01, 2.5200e+02, 4.0000e+01,\n",
       "       3.7300e+02, 7.9000e+01, 5.5000e+02, 1.4500e+02, 8.0800e+02,\n",
       "       2.5500e+02, 1.1850e+03, 4.3200e+02, 1.7350e+03, 7.1300e+02,\n",
       "       2.5320e+03, 1.1540e+03, 3.6770e+03, 1.8320e+03, 5.3040e+03,\n",
       "       2.8560e+03, 7.5790e+03, 4.3620e+03, 1.0682e+04, 6.5080e+03,\n",
       "       1.4769e+04, 9.4350e+03, 1.9895e+04, 1.3210e+04, 2.5920e+04,\n",
       "       1.7743e+04, 3.2440e+04, 2.2742e+04, 3.8834e+04, 2.7759e+04,\n",
       "       4.4455e+04, 3.2342e+04, 4.8870e+04, 3.6192e+04, 5.1975e+04,\n",
       "       3.9226e+04, 5.3930e+04, 4.1525e+04, 5.5015e+04, 4.3237e+04,\n",
       "       5.5508e+04, 4.4517e+04, 5.5628e+04, 4.5490e+04, 5.5529e+04,\n",
       "       4.6252e+04, 5.5310e+04, 4.6864e+04, 5.5034e+04, 4.7368e+04,\n",
       "       5.4738e+04, 4.7794e+04, 5.4442e+04, 4.8160e+04, 5.4159e+04,\n",
       "       4.8479e+04, 5.3892e+04, 4.8758e+04, 5.3641e+04, 4.9007e+04,\n",
       "       5.3413e+04, 4.9228e+04, 5.3205e+04, 4.9427e+04, 5.3018e+04,\n",
       "       4.9607e+04, 5.2849e+04, 4.9770e+04, 5.2696e+04, 4.9916e+04,\n",
       "       5.2558e+04, 5.0048e+04, 5.2433e+04, 5.0167e+04, 5.2320e+04,\n",
       "       5.0274e+04, 5.2218e+04, 5.0371e+04, 5.2126e+04, 5.0459e+04,\n",
       "       5.2042e+04, 5.0538e+04, 5.1967e+04, 5.0610e+04, 5.1899e+04,\n",
       "       5.0674e+04, 5.1838e+04, 5.0732e+04, 5.1783e+04, 5.0784e+04,\n",
       "       5.1734e+04, 5.0831e+04, 5.1689e+04, 5.0874e+04, 5.1648e+04,\n",
       "       5.0913e+04, 5.1611e+04, 5.0948e+04, 5.1578e+04, 5.0979e+04,\n",
       "       5.1548e+04, 5.1008e+04, 5.1521e+04, 5.1033e+04, 5.1497e+04,\n",
       "       5.1056e+04, 5.1475e+04, 5.1077e+04, 5.1455e+04, 5.1096e+04,\n",
       "       5.1437e+04, 5.1113e+04, 5.1421e+04, 5.1128e+04, 5.1407e+04,\n",
       "       5.1142e+04, 5.1393e+04, 5.1155e+04, 5.1381e+04, 5.1166e+04,\n",
       "       5.1371e+04, 5.1176e+04, 5.1361e+04, 5.1185e+04, 5.1353e+04,\n",
       "       5.1193e+04, 5.1345e+04, 5.1201e+04, 5.1337e+04, 5.1208e+04,\n",
       "       5.1331e+04, 5.1214e+04, 5.1325e+04, 5.1220e+04, 5.1319e+04,\n",
       "       5.1225e+04, 5.1315e+04, 5.1229e+04, 5.1311e+04, 5.1233e+04])"
      ]
     },
     "execution_count": 22,
     "metadata": {},
     "output_type": "execute_result"
    }
   ],
   "source": [
    "D2['I']"
   ]
  },
  {
   "cell_type": "code",
   "execution_count": 463,
   "id": "9c5434f8-9431-4c69-a4ce-6e93e4e46921",
   "metadata": {},
   "outputs": [],
   "source": [
    "N_MCMC = 1000\n",
    "init_params = beta_lab\n",
    "# This one is heuristic\n",
    "log_posterior_scale = 100.\n",
    "log_posterior_fn = partial(log_posterior, gamma=gamma_lab, D_real=D_real_target,\n",
    "                           population=population, beta_lab=beta_lab, T=T,\n",
    "                           log_posterior_scale=log_posterior_scale, rng_key=rng_key)\n",
    "\n",
    "grad_log_posterior_fn = jax.grad(log_posterior_fn)\n",
    "\n",
    "samples_post = MCMC(rng_key, beta_lab, N_MCMC, init_params, log_posterior_fn)\n",
    "samples_post = jnp.unique(samples_post, axis=0)\n",
    "rng_key, _ = jax.random.split(rng_key)\n",
    "samples_post = jax.random.permutation(rng_key, samples_post)"
   ]
  },
  {
   "cell_type": "code",
   "execution_count": 464,
   "id": "2c5a36f1-fb7d-463b-8dac-6ac2c3ce733c",
   "metadata": {},
   "outputs": [
    {
     "data": {
      "text/plain": [
       "Array([0.48416378, 0.47569676, 0.48217276, 0.48495907, 0.49032113,\n",
       "       0.48024609, 0.49385615, 0.48065572, 0.47653709, 0.48988868],      dtype=float64)"
      ]
     },
     "execution_count": 464,
     "metadata": {},
     "output_type": "execute_result"
    }
   ],
   "source": [
    "samples_post[:10]"
   ]
  },
  {
   "cell_type": "code",
   "execution_count": 488,
   "id": "d39fbf78-97e1-40d1-9b4c-4044f5cf9327",
   "metadata": {},
   "outputs": [
    {
     "data": {
      "text/plain": [
       "Array(1292.78147948, dtype=float64, weak_type=True)"
      ]
     },
     "execution_count": 488,
     "metadata": {},
     "output_type": "execute_result"
    }
   ],
   "source": [
    "grad_log_posterior_fn(0.4)"
   ]
  },
  {
   "cell_type": "code",
   "execution_count": 466,
   "id": "e0f78ad8-a61e-4d61-a641-98fe42007c75",
   "metadata": {},
   "outputs": [
    {
     "name": "stderr",
     "output_type": "stream",
     "text": [
      "100%|██████████| 100/100 [00:04<00:00, 24.02it/s]\n"
     ]
    }
   ],
   "source": [
    "Ny = 100\n",
    "\n",
    "beta_array = jnp.zeros([Ny, 1])\n",
    "f_beta_array = jnp.zeros([Ny])\n",
    "d_log_beta_array = jnp.zeros([Ny, 1])\n",
    "\n",
    "for i in tqdm(range(Ny)):\n",
    "    beta = samples_post[i]\n",
    "    d_log_beta = grad_log_posterior_fn(beta)\n",
    "    beta_array = beta_array.at[i, :].set(beta)\n",
    "    d_log_beta_array = d_log_beta_array.at[i, :].set(d_log_beta)\n",
    "\n"
   ]
  },
  {
   "cell_type": "code",
   "execution_count": 467,
   "id": "68d10a6e-5e8d-4ee5-a13c-030c3d39cf49",
   "metadata": {},
   "outputs": [
    {
     "data": {
      "text/plain": [
       "Array(0.50243678, dtype=float64)"
      ]
     },
     "execution_count": 467,
     "metadata": {},
     "output_type": "execute_result"
    }
   ],
   "source": [
    "beta"
   ]
  },
  {
   "cell_type": "code",
   "execution_count": 489,
   "id": "243a3f19-8862-4e21-8e3e-277c19d1e17a",
   "metadata": {},
   "outputs": [
    {
     "name": "stdout",
     "output_type": "stream",
     "text": [
      "[[  1025.54763864  -2055.65031112    268.86609147 ...  -2526.65180084\n",
      "   -2244.68888076   5396.17830856]\n",
      " [ -2055.65031112   4941.3850795    -561.33565542 ...   6237.20801137\n",
      "    5454.91672144  -8993.10106308]\n",
      " [   268.86609147   -561.33565542     71.35918621 ...   -693.13326746\n",
      "    -614.10581518   1339.827167  ]\n",
      " ...\n",
      " [ -2526.65180084   6237.20801137   -693.13326746 ...   7929.18628603\n",
      "    6904.66699836 -10801.00648592]\n",
      " [ -2244.68888076   5454.91672144   -614.10581518 ...   6904.66699836\n",
      "    6028.68175449  -9728.82954496]\n",
      " [  5396.17830856  -8993.10106308   1339.827167   ... -10801.00648592\n",
      "   -9728.82954496  55456.32340604]]\n",
      "===========/n/n\n",
      "[[   -0.         -1216.8350511     49.97542388 ... -1664.25792444\n",
      "  -1389.65773099 -4994.44109334]\n",
      " [ -554.35156873     0.          -125.46756191 ...  -409.30588239\n",
      "   -147.88535079 -4482.66838708]\n",
      " [ -189.45647891 -1044.07299847    -0.         ... -1494.19602118\n",
      "  -1216.28604245 -4937.18945352]\n",
      " ...\n",
      " [ -598.52768346   323.11567378  -141.74841433 ...     0.\n",
      "    224.12682907 -4340.99625444]\n",
      " [ -573.15830279   133.88697404  -132.32731119 ...  -257.03778972\n",
      "      0.         -4428.0226262 ]\n",
      " [  679.18686421 -1338.09030877   177.10433846 ... -1641.45199015\n",
      "  -1459.97518377    -0.        ]]\n",
      "===========/n/n\n",
      "[[    0.          -554.35156873  -189.45647891 ...  -598.52768346\n",
      "   -573.15830279   679.18686421]\n",
      " [-1216.8350511     -0.         -1044.07299847 ...   323.11567378\n",
      "    133.88697404 -1338.09030877]\n",
      " [   49.97542388  -125.46756191     0.         ...  -141.74841433\n",
      "   -132.32731119   177.10433846]\n",
      " ...\n",
      " [-1664.25792444  -409.30588239 -1494.19602118 ...    -0.\n",
      "   -257.03778972 -1641.45199015]\n",
      " [-1389.65773099  -147.88535079 -1216.28604245 ...   224.12682907\n",
      "     -0.         -1459.97518377]\n",
      " [-4994.44109334 -4482.66838708 -4937.18945352 ... -4340.99625444\n",
      "  -4428.0226262      0.        ]]\n",
      "===========/n/n\n",
      "[[  -0.         1045.03359971 2629.80167693 ...  795.34533996\n",
      "   942.51817653  -63.82698574]\n",
      " [1045.03359971   -0.         1435.9805945  ... 2790.70436639\n",
      "  3111.50603881 -387.13942434]\n",
      " [2629.80167693 1435.9805945    -0.         ... 1133.94739394\n",
      "  1312.12929429 -175.82655399]\n",
      " ...\n",
      " [ 795.34533996 2790.70436639 1133.94739394 ...   -0.\n",
      "  2995.55119584 -411.61477515]\n",
      " [ 942.51817653 3111.50603881 1312.12929429 ... 2995.55119584\n",
      "    -0.         -397.63153814]\n",
      " [ -63.82698574 -387.13942434 -175.82655399 ... -411.61477515\n",
      "  -397.63153814   -0.        ]]\n",
      "===========/n/n\n"
     ]
    }
   ],
   "source": [
    "\n",
    "l = 1.0\n",
    "\n",
    "K = stein_Matern(beta_array, beta_array, 0.03, d_log_beta_array, d_log_beta_array)\n"
   ]
  },
  {
   "cell_type": "code",
   "execution_count": 490,
   "id": "6a6fc37b-01c8-40c0-ba89-eefbcbcc59d7",
   "metadata": {},
   "outputs": [
    {
     "data": {
      "text/plain": [
       "Array([[ -32.02417272,   70.29498616,   -8.44743666,  -41.3606203 ,\n",
       "        -103.12942818,   14.64678999, -142.7564157 ,    9.71348357,\n",
       "          59.8958423 ,  -98.2227398 ,   -9.9058562 ,   63.14071677,\n",
       "         112.99455462,  -97.81036237,  134.9350268 ,  -47.00055897,\n",
       "         231.58912041,  114.25338421,  -39.03788214,   40.37210712,\n",
       "        -112.29223725, -180.43630902, -137.22763697,  -75.57172309,\n",
       "         168.95819928,   28.40472076, -245.68532732, -189.78958668,\n",
       "         -84.56424393, -211.92470383,  153.28240566,   95.1674971 ,\n",
       "          17.25038371,  114.99110972, -200.30252664,   27.98828526,\n",
       "         -96.9753929 ,  116.11655085,  -56.00516065,  212.30190082,\n",
       "         -22.24394755,  278.93450261, -237.14281932, -257.73140221,\n",
       "         100.03427197,  -60.64160148, -126.51590885,  100.59765152,\n",
       "        -101.44943247,  -95.33204382, -136.44338559, -126.33692435,\n",
       "         -68.93265842,    0.8827674 ,   69.34944806,  103.7759428 ,\n",
       "         239.91682373, -149.39484253,  163.13465023,  300.26024306,\n",
       "         103.715048  ,  -75.86525424,   13.67721653, -103.94574465,\n",
       "          68.0583831 ,  206.36511001, -158.83407551,  -75.5713449 ,\n",
       "         219.72253051,  -44.55617558,    0.36955722,   91.28059283,\n",
       "         -23.57071602,   57.98842936,  -36.78891821,  -76.85582066,\n",
       "         -44.66474936,  -44.31343621,    2.36254461, -159.26490118,\n",
       "          41.45796499,   64.03254573,  -34.97535548,   50.46917477,\n",
       "          10.3555939 ,  188.61444329, -141.00411501,  -53.02751288,\n",
       "          63.06244573,  -17.95112173,   63.00748098,  121.88964507,\n",
       "          35.28819451,   66.24571974, -128.57029593,  -32.18776452,\n",
       "          31.88079726,   89.04597849,   77.64458612, -235.49166313]],      dtype=float64)"
      ]
     },
     "execution_count": 490,
     "metadata": {},
     "output_type": "execute_result"
    }
   ],
   "source": [
    "d_log_beta_array.T"
   ]
  },
  {
   "cell_type": "code",
   "execution_count": 476,
   "id": "65cc9d13-afe0-4b62-b897-ab8038f8aa3d",
   "metadata": {},
   "outputs": [
    {
     "data": {
      "text/plain": [
       "Array([[ 1025.54763864, -2781.80333124,  2759.18671337,  4337.10174701,\n",
       "         3620.22608477],\n",
       "       [-2781.80333124,  4941.3850795 ,  -294.8956213 , -3725.00457867,\n",
       "        -9158.07793574],\n",
       "       [ 2759.18671337,  -294.8956213 ,    71.35918621,  2466.53454644,\n",
       "          296.4427817 ],\n",
       "       [ 4337.10174701, -3725.00457867,  2466.53454644,  1710.7009115 ,\n",
       "         4977.34449531],\n",
       "       [ 3620.22608477, -9158.07793574,   296.4427817 ,  4977.34449531,\n",
       "        10635.67895729]], dtype=float64)"
      ]
     },
     "execution_count": 476,
     "metadata": {},
     "output_type": "execute_result"
    }
   ],
   "source": [
    "K[:5, :5]"
   ]
  },
  {
   "cell_type": "code",
   "execution_count": 477,
   "id": "43a1911b-f251-40a5-9dcd-4c4fd3bc5641",
   "metadata": {},
   "outputs": [
    {
     "data": {
      "text/plain": [
       "Array([[  1025.54763864,  -2781.80333124,   2759.18671337, ...,\n",
       "         -3994.09206878,  -3264.98673801,   1017.09709368],\n",
       "       [ -2781.80333124,   4941.3850795 ,   -294.8956213 , ...,\n",
       "          8941.72216915,   8552.4243835 , -15200.99918328],\n",
       "       [  2759.18671337,   -294.8956213 ,     71.35918621, ...,\n",
       "         -1195.13030903,   -650.58987453,  -3596.08450206],\n",
       "       ...,\n",
       "       [ -3994.09206878,   8941.72216915,  -1195.13030903, ...,\n",
       "          7929.18628603,   9867.30723354, -17195.06950567],\n",
       "       [ -3264.98673801,   8552.4243835 ,   -650.58987453, ...,\n",
       "          9867.30723354,   6028.68175449, -16014.45889307],\n",
       "       [  1017.09709368, -15200.99918328,  -3596.08450206, ...,\n",
       "        -17195.06950567, -16014.45889307,  55456.32340604]],      dtype=float64)"
      ]
     },
     "execution_count": 477,
     "metadata": {},
     "output_type": "execute_result"
    }
   ],
   "source": [
    "K"
   ]
  },
  {
   "cell_type": "code",
   "execution_count": 479,
   "id": "f8cc6cb4-e588-40c7-bceb-dfc1d30fa903",
   "metadata": {},
   "outputs": [
    {
     "data": {
      "text/plain": [
       "Array(1.80600093e+34, dtype=float64)"
      ]
     },
     "execution_count": 479,
     "metadata": {},
     "output_type": "execute_result"
    }
   ],
   "source": [
    "jnp.linalg.det(K[:10, :10])"
   ]
  },
  {
   "cell_type": "code",
   "execution_count": 356,
   "id": "a0808011-90fe-4bf0-8a3b-bb3873e9b43d",
   "metadata": {},
   "outputs": [],
   "source": [
    "batch_kernel = tfp.math.psd_kernels.MaternThreeHalves(amplitude=1., length_scale=l)"
   ]
  },
  {
   "cell_type": "code",
   "execution_count": 358,
   "id": "9620b0b6-30fd-40dd-a1e4-25cc2d5a0054",
   "metadata": {},
   "outputs": [
    {
     "ename": "NameError",
     "evalue": "name 'y' is not defined",
     "output_type": "error",
     "traceback": [
      "\u001b[0;31m---------------------------------------------------------------------------\u001b[0m",
      "\u001b[0;31mNameError\u001b[0m                                 Traceback (most recent call last)",
      "\u001b[0;32m/var/folders/3t/9g44xm4n6f74bm1skbg0kxdc0000gn/T/ipykernel_2871/3514221084.py\u001b[0m in \u001b[0;36m<module>\u001b[0;34m\u001b[0m\n\u001b[0;32m----> 1\u001b[0;31m \u001b[0mK\u001b[0m \u001b[0;34m=\u001b[0m \u001b[0mbatch_kernel\u001b[0m\u001b[0;34m.\u001b[0m\u001b[0mmatrix\u001b[0m\u001b[0;34m(\u001b[0m\u001b[0my\u001b[0m\u001b[0;34m,\u001b[0m \u001b[0my\u001b[0m\u001b[0;34m)\u001b[0m\u001b[0;34m\u001b[0m\u001b[0;34m\u001b[0m\u001b[0m\n\u001b[0m",
      "\u001b[0;31mNameError\u001b[0m: name 'y' is not defined"
     ]
    }
   ],
   "source": [
    "K = batch_kernel.matrix(y, y)"
   ]
  },
  {
   "cell_type": "code",
   "execution_count": null,
   "id": "51323017-0468-44e0-93c2-c8dec510fc6f",
   "metadata": {},
   "outputs": [],
   "source": []
  }
 ],
 "metadata": {
  "kernelspec": {
   "display_name": "Python 3 (ipykernel)",
   "language": "python",
   "name": "python3"
  },
  "language_info": {
   "codemirror_mode": {
    "name": "ipython",
    "version": 3
   },
   "file_extension": ".py",
   "mimetype": "text/x-python",
   "name": "python",
   "nbconvert_exporter": "python",
   "pygments_lexer": "ipython3",
   "version": "3.8.5"
  }
 },
 "nbformat": 4,
 "nbformat_minor": 5
}
