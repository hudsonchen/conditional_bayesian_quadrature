{
 "cells": [
  {
   "cell_type": "code",
   "execution_count": 6,
   "id": "396d9f52-9531-494b-ad37-4046c58a981a",
   "metadata": {},
   "outputs": [
    {
     "name": "stderr",
     "output_type": "stream",
     "text": [
      "/var/folders/3t/9g44xm4n6f74bm1skbg0kxdc0000gn/T/ipykernel_7554/3719566617.py:7: DeprecationWarning: `set_matplotlib_formats` is deprecated since IPython 7.23, directly use `matplotlib_inline.backend_inline.set_matplotlib_formats()`\n",
      "  set_matplotlib_formats(\"pdf\", \"png\")\n",
      "/var/folders/3t/9g44xm4n6f74bm1skbg0kxdc0000gn/T/ipykernel_7554/3719566617.py:30: MatplotlibDeprecationWarning: Support for setting the 'text.latex.preamble' or 'pgf.preamble' rcParam to a list of strings is deprecated since 3.3 and will be removed two minor releases later; set it to a single string instead.\n",
      "  plt.rcParams['text.latex.preamble'] = [r'\\usepackage{amsmath, amssymb}']\n"
     ]
    }
   ],
   "source": [
    "import matplotlib.pyplot as plt\n",
    "import jax\n",
    "import jax.numpy as jnp\n",
    "import time\n",
    "\n",
    "from IPython.display import set_matplotlib_formats\n",
    "set_matplotlib_formats(\"pdf\", \"png\")\n",
    "# plt.tight_layout()\n",
    "plt.rcParams[\"figure.figsize\"] = (6, 4)\n",
    "plt.rcParams[\"axes.titlesize\"] = 28\n",
    "plt.rcParams[\"font.size\"] = 28\n",
    "plt.rcParams[\"lines.linewidth\"] = 1.5\n",
    "plt.rcParams[\"lines.markersize\"] = 7\n",
    "plt.rcParams[\"grid.linestyle\"] = \"--\"\n",
    "plt.rcParams[\"grid.linewidth\"] = 1.0\n",
    "plt.rcParams[\"legend.fontsize\"] = 16\n",
    "plt.rcParams[\"legend.facecolor\"] = \"white\"\n",
    "plt.rcParams[\"axes.labelsize\"] = 22\n",
    "plt.rcParams[\"xtick.labelsize\"] = 18\n",
    "plt.rcParams[\"ytick.labelsize\"] = 18\n",
    "plt.rcParams[\"xtick.direction\"] = \"in\"\n",
    "plt.rcParams[\"ytick.direction\"] = \"in\"\n",
    "plt.rcParams['xtick.major.pad'] = 8\n",
    "plt.rcParams['ytick.major.pad'] = 8\n",
    "plt.rcParams['axes.grid'] = True\n",
    "plt.rcParams['font.family'] = 'DeJavu Serif'\n",
    "plt.rcParams['font.serif'] = ['Times New Roman']\n",
    "# plt.rcParams[\"font.family\"] = \"Times New Roman\"\n",
    "plt.rcParams['text.usetex'] = True\n",
    "plt.rcParams['text.latex.preamble'] = [r'\\usepackage{amsmath, amssymb}']\n"
   ]
  },
  {
   "cell_type": "code",
   "execution_count": 211,
   "id": "f04603e2-6c60-4c3c-82ca-f7fd64f07b13",
   "metadata": {},
   "outputs": [],
   "source": [
    "\n",
    "def price(St, N, rng_key, K1=50, K2=150, s=-0.2, sigma=0.3, T=2, t=1):\n",
    "    \"\"\"\n",
    "    :param St: the price St at time t\n",
    "    :return: The function returns the price ST at time T sampled from the conditional\n",
    "    distribution p(ST|St), and the loss \\psi(ST) - \\psi((1+s)ST) due to the shock. Their shape is Nx * Ny\n",
    "    \"\"\"\n",
    "    output_shape = (N, St.shape[0])\n",
    "    rng_key, _ = jax.random.split(rng_key)\n",
    "    epsilon = jax.random.normal(rng_key, shape=output_shape)\n",
    "    ST = St * jnp.exp(sigma * jnp.sqrt(T - t) * epsilon - 0.5 * (sigma ** 2) * (T - t))\n",
    "    psi_ST_1 = jnp.maximum(ST - K1, 0) + jnp.maximum(ST - K2, 0) - 2 * jnp.maximum(ST - (K1 + K2) / 2, 0)\n",
    "    psi_ST_2 = jnp.maximum((1 + s) * ST - K1, 0) + jnp.maximum((1 + s) * ST - K2, 0) - 2 * jnp.maximum(\n",
    "        (1 + s) * ST - (K1 + K2) / 2, 0)\n",
    "\n",
    "    return ST\n",
    "\n"
   ]
  },
  {
   "cell_type": "code",
   "execution_count": 212,
   "id": "e94209bc-3c2b-49bf-80c8-3f1f7c2a397c",
   "metadata": {},
   "outputs": [],
   "source": [
    "\n",
    "def jax_dist(x, y):\n",
    "    return jnp.abs(x - y).squeeze()\n",
    "\n",
    "distance = jax.vmap(jax_dist, in_axes=(None, 1), out_axes=1)\n",
    "sign_func = jax.vmap(jnp.greater, in_axes=(None, 1), out_axes=1)\n",
    "\n",
    "\n",
    "def my_laplace(x, y, l):\n",
    "    r = distance(x, y).squeeze()\n",
    "    return jnp.exp(- r / l)\n",
    "\n",
    "\n",
    "def dx_laplace(x, y, l):\n",
    "    sign = sign_func(x, y).squeeze().astype(float) * 2 - 1\n",
    "    r = distance(x, y).squeeze()\n",
    "    part1 = jnp.exp(- r / l) * (-sign)\n",
    "    return part1\n",
    "\n",
    "\n",
    "def dy_laplace(x, y, l):\n",
    "    sign = sign_func(x, y).squeeze().astype(float) * 2 - 1\n",
    "    r = distance(x, y).squeeze()\n",
    "    part1 = jnp.exp(- r / l) * sign\n",
    "    return part1\n",
    "\n",
    "\n",
    "def dxdy_laplace(x, y, l):\n",
    "    r = distance(x, y).squeeze()\n",
    "    part1 = jnp.exp(- r / l) * (-1)\n",
    "    return part1\n",
    "\n",
    "def dx_log_px(x, sigma, T, t, St):\n",
    "    # dx log p(x) for log normal distribution with mu=-\\sigma^2 / 2 * (T - t) and sigma = \\sigma^2 (T - y)\n",
    "    part1 = (jnp.log(x) + sigma ** 2 * (T - t) / 2 - jnp.log(St)) / x / (sigma ** 2 * (T - t))\n",
    "    return -1. / x - part1\n",
    "\n",
    "\n",
    "def dx_log_px_debug(x):\n",
    "    # dx log p(x) for log normal distribution with mu=-\\sigma^2 / 2 * (T - t) and sigma = \\sigma^2 (T - y)\n",
    "    return - 1. / x - jnp.log(x) / x\n",
    "\n",
    "\n",
    "def stein_Laplace(x, y, l, sigma, T, t, St):\n",
    "    d_log_px = dx_log_px(x, sigma, T, t, St)\n",
    "    d_log_py = dx_log_px(y, sigma, T, t, St)\n",
    "    \n",
    "    K = my_laplace(x, y, l)\n",
    "    dx_K = dx_laplace(x, y, l)\n",
    "    dy_K = dy_laplace(x, y, l)\n",
    "    dxdy_K = dxdy_laplace(x, y, l)\n",
    "    part1 = d_log_px @ d_log_py.T * K\n",
    "    part2 = d_log_py.T * dx_K\n",
    "    part3 = d_log_px * dy_K\n",
    "    part4 = dxdy_K\n",
    "    return part1 + part2 + part3 + part4"
   ]
  },
  {
   "cell_type": "code",
   "execution_count": 236,
   "id": "eafbbf61-1e6b-4a0f-ba6f-7002ef9ccfb6",
   "metadata": {},
   "outputs": [],
   "source": [
    "\n",
    "def jax_dist(x, y):\n",
    "    return jnp.abs(x - y).squeeze()\n",
    "\n",
    "distance = jax.vmap(jax_dist, in_axes=(None, 1), out_axes=1)\n",
    "sign_func = jax.vmap(jnp.greater, in_axes=(None, 1), out_axes=1)\n",
    "\n",
    "\n",
    "# @jax.jit\n",
    "def my_Matern(x, y, l):\n",
    "    r = distance(x, y).squeeze()\n",
    "    part1 = 1 + math.sqrt(3) * r / l\n",
    "    part2 = jnp.exp(-math.sqrt(3) * r / l)\n",
    "    return part1 * part2\n",
    "\n",
    "# @jax.jit\n",
    "def dx_Matern(x, y, l):\n",
    "    sign = sign_func(x, y).squeeze().astype(float) * 2 - 1\n",
    "    r = distance(x, y).squeeze()\n",
    "    part1 = jnp.exp(-math.sqrt(3) / l * r) * (math.sqrt(3) / l * sign)\n",
    "    part2 = (-math.sqrt(3) / l * sign) * jnp.exp(-math.sqrt(3) / l * r) * (1 + math.sqrt(3) / l * r)\n",
    "    return part1 + part2\n",
    "\n",
    "\n",
    "# @jax.jit\n",
    "def dy_Matern(x, y, l):\n",
    "    sign = -(sign_func(x, y).squeeze().astype(float) * 2 - 1)\n",
    "    r = distance(x, y).squeeze()\n",
    "    part1 = jnp.exp(-math.sqrt(3) / l * r) * (math.sqrt(3) / l * sign)\n",
    "    part2 = (-math.sqrt(3) / l * sign) * jnp.exp(-math.sqrt(3) / l * r) * (1 + math.sqrt(3) / l * r)\n",
    "    return part1 + part2\n",
    "\n",
    "\n",
    "# @jax.jit\n",
    "def dxdy_Matern(x, y, l):\n",
    "    r = distance(x, y).squeeze()\n",
    "    const = math.sqrt(3) / l\n",
    "    part1 = const * const * jnp.exp(-const * r)\n",
    "    part2 = -const * const * jnp.exp(-const * r) * (1 + const * r)\n",
    "    part3 = const * jnp.exp(-const * r) * const\n",
    "    return part1 + part2 + part3\n",
    "\n",
    "\n",
    "def dx_log_px(x, sigma, T, t, St):\n",
    "    # dx log p(x) for log normal distribution with mu=-\\sigma^2 / 2 * (T - t) and sigma = \\sigma^2 (T - y)\n",
    "    part1 = (jnp.log(x) + sigma ** 2 * (T - t) / 2 - jnp.log(St)) / x / (sigma ** 2 * (T - t))\n",
    "    return -1. / x - part1\n",
    "\n",
    "def stein_Matern(x, y, l, sigma, T, t, St):\n",
    "    d_log_px = dx_log_px(x, sigma, T, t, St)\n",
    "    d_log_py = dx_log_px(y, sigma, T, t, St)\n",
    "    \n",
    "    K = my_Matern(x, y, l)\n",
    "    dx_K = dx_Matern(x, y, l)\n",
    "    dy_K = dy_Matern(x, y, l)\n",
    "    dxdy_K = dxdy_Matern(x, y, l)\n",
    "    part1 = d_log_px @ d_log_py.T * K\n",
    "    part2 = d_log_py.T * dx_K\n",
    "    part3 = d_log_px * dy_K\n",
    "    part4 = dxdy_K\n",
    "    return part1 + part2 + part3 + part4"
   ]
  },
  {
   "cell_type": "code",
   "execution_count": 237,
   "id": "a57f1624-2f61-47da-8f36-2e99d3c82cd9",
   "metadata": {},
   "outputs": [],
   "source": [
    "seed = int(time.time())\n",
    "# seed = 0\n",
    "rng_key = jax.random.PRNGKey(seed)\n",
    "\n",
    "rng_key, _ = jax.random.split(rng_key)\n",
    "epsilon = jax.random.normal(rng_key, shape=(1, 1))\n",
    "\n",
    "S0 = 50\n",
    "K1 = 50\n",
    "K2 = 150\n",
    "s = -0.2\n",
    "t = 1\n",
    "T = 2\n",
    "sigma = 0.3\n",
    "    \n",
    "St = S0 * jnp.exp(sigma * jnp.sqrt(t) * epsilon - 0.5 * (sigma ** 2) * t)"
   ]
  },
  {
   "cell_type": "code",
   "execution_count": 238,
   "id": "ed21b940-893a-4817-924f-42a509272917",
   "metadata": {},
   "outputs": [
    {
     "data": {
      "text/plain": [
       "Array(59.290325, dtype=float32)"
      ]
     },
     "execution_count": 238,
     "metadata": {},
     "output_type": "execute_result"
    }
   ],
   "source": [
    "St[0][0]"
   ]
  },
  {
   "cell_type": "code",
   "execution_count": 259,
   "id": "2d1fa684-efef-4ab9-9f2c-493e2d54c77d",
   "metadata": {},
   "outputs": [
    {
     "data": {
      "text/plain": [
       "Array([[67.20589 ],\n",
       "       [84.199646],\n",
       "       [60.908493],\n",
       "       ...,\n",
       "       [39.765858],\n",
       "       [44.904034],\n",
       "       [69.98509 ]], dtype=float32)"
      ]
     },
     "execution_count": 259,
     "metadata": {},
     "output_type": "execute_result"
    }
   ],
   "source": [
    "y1"
   ]
  },
  {
   "cell_type": "code",
   "execution_count": 240,
   "id": "51e941f3-f141-4b59-9b54-576b067847aa",
   "metadata": {},
   "outputs": [
    {
     "data": {
      "text/plain": [
       "(2, 1)"
      ]
     },
     "execution_count": 240,
     "metadata": {},
     "output_type": "execute_result"
    }
   ],
   "source": [
    "y2.shape"
   ]
  },
  {
   "cell_type": "code",
   "execution_count": 258,
   "id": "53d7d77f-2a81-4a33-b495-1bddc3d50183",
   "metadata": {},
   "outputs": [
    {
     "name": "stdout",
     "output_type": "stream",
     "text": [
      "[[-8.5060405e-05 -1.0048301e-05]\n",
      " [-7.1182367e-13 -6.1113097e-22]\n",
      " [-2.4759015e-06 -2.1256673e-15]]\n",
      "[[-0.0000000e+00 -0.0000000e+00]\n",
      " [-0.0000000e+00 -1.3722648e-33]\n",
      " [-4.2688006e-28 -3.3105731e-05]]\n",
      "[[-0.0000000e+00 -1.8727757e-20]\n",
      " [-0.0000000e+00  0.0000000e+00]\n",
      " [-0.0000000e+00 -8.7386735e-07]]\n"
     ]
    }
   ],
   "source": [
    "l = 0.2\n",
    "sigma = 0.3\n",
    "T = 2\n",
    "t = 1\n",
    "\n",
    "for _ in range(3):\n",
    "    rng_key, _ = jax.random.split(rng_key)\n",
    "    y1 = price(St, 100000, rng_key)\n",
    "    rng_key, _ = jax.random.split(rng_key)\n",
    "    y2 = price(St, 2, rng_key)\n",
    "    \n",
    "    K = stein_Laplace(y1, y2, l, sigma, T, t, St[0][0])\n",
    "    print(K[:3, :3])\n",
    "    "
   ]
  },
  {
   "cell_type": "code",
   "execution_count": 248,
   "id": "960e256f-d0b7-4065-9ab6-5b386df03677",
   "metadata": {},
   "outputs": [
    {
     "name": "stdout",
     "output_type": "stream",
     "text": [
      "-0.014033108\n",
      "0.008280542\n",
      "-0.009189025\n"
     ]
    }
   ],
   "source": [
    "l = 1.0\n",
    "sigma = 0.3\n",
    "T = 2\n",
    "t = 1\n",
    "\n",
    "for _ in range(3):\n",
    "    rng_key, _ = jax.random.split(rng_key)\n",
    "    y1 = price(St, 1000, rng_key)\n",
    "    rng_key, _ = jax.random.split(rng_key)\n",
    "    y2 = price(St, 2, rng_key)\n",
    "    \n",
    "    K = stein_Matern(y1, y2, l, sigma, T, t, St[0][0])\n",
    "    print(K.mean(0)[0])\n",
    "    "
   ]
  },
  {
   "cell_type": "code",
   "execution_count": 230,
   "id": "1e5bac4d-380b-485b-9256-508f7c6843a3",
   "metadata": {},
   "outputs": [
    {
     "data": {
      "text/plain": [
       "Array([[ 2.5079748e-15,  1.9564406e-16],\n",
       "       [-3.0240935e-11, -3.8766063e-10],\n",
       "       [-8.0577744e-04, -1.0329316e-02]], dtype=float32)"
      ]
     },
     "execution_count": 230,
     "metadata": {},
     "output_type": "execute_result"
    }
   ],
   "source": [
    "dx_laplace(y1, y2, l)[:3, :]"
   ]
  },
  {
   "cell_type": "code",
   "execution_count": 204,
   "id": "f83e7130-fcf5-405c-b0fe-4ed5718c6af5",
   "metadata": {},
   "outputs": [
    {
     "data": {
      "text/plain": [
       "Array([[0.94137335, 0.8306925 ],\n",
       "       [0.87190187, 0.8968805 ],\n",
       "       [0.7773773 , 0.9940991 ],\n",
       "       [0.76439756, 0.97750074],\n",
       "       [0.4532355 , 0.57959116],\n",
       "       [0.9395032 , 0.7346838 ],\n",
       "       [0.98705244, 0.77186686],\n",
       "       [0.90508544, 0.86399776],\n",
       "       [0.7723893 , 0.98772043],\n",
       "       [0.7543249 , 0.96462005]], dtype=float32)"
      ]
     },
     "execution_count": 204,
     "metadata": {},
     "output_type": "execute_result"
    }
   ],
   "source": [
    "my_laplace(y1, y2, l)"
   ]
  },
  {
   "cell_type": "code",
   "execution_count": 234,
   "id": "b7983016-04ab-48ac-8abd-831e5fd6022e",
   "metadata": {},
   "outputs": [
    {
     "data": {
      "text/plain": [
       "(100, 2)"
      ]
     },
     "execution_count": 234,
     "metadata": {},
     "output_type": "execute_result"
    }
   ],
   "source": [
    "dxdy_laplace(y1, y2, l).shape"
   ]
  },
  {
   "cell_type": "code",
   "execution_count": 233,
   "id": "d68074b0-e3f3-4c68-98b5-3175d1b6b7a3",
   "metadata": {},
   "outputs": [
    {
     "data": {
      "text/plain": [
       "(100, 1)"
      ]
     },
     "execution_count": 233,
     "metadata": {},
     "output_type": "execute_result"
    }
   ],
   "source": [
    "dx_log_px(y1, sigma, T, t, St[0][0]).shape"
   ]
  },
  {
   "cell_type": "code",
   "execution_count": 235,
   "id": "9d023d96-082f-4679-adcf-e4fbaa2faae8",
   "metadata": {},
   "outputs": [
    {
     "data": {
      "text/plain": [
       "(2, 1)"
      ]
     },
     "execution_count": 235,
     "metadata": {},
     "output_type": "execute_result"
    }
   ],
   "source": [
    "dx_log_px(y2, sigma, T, t, St[0][0]).shape"
   ]
  },
  {
   "cell_type": "code",
   "execution_count": null,
   "id": "40aa8050-2bf6-45b1-be9f-7fe657095842",
   "metadata": {},
   "outputs": [],
   "source": []
  }
 ],
 "metadata": {
  "kernelspec": {
   "display_name": "Python 3 (ipykernel)",
   "language": "python",
   "name": "python3"
  },
  "language_info": {
   "codemirror_mode": {
    "name": "ipython",
    "version": 3
   },
   "file_extension": ".py",
   "mimetype": "text/x-python",
   "name": "python",
   "nbconvert_exporter": "python",
   "pygments_lexer": "ipython3",
   "version": "3.8.5"
  }
 },
 "nbformat": 4,
 "nbformat_minor": 5
}
