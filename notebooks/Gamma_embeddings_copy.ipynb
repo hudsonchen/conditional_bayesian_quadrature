{
 "cells": [
  {
   "cell_type": "code",
   "execution_count": 1,
   "metadata": {},
   "outputs": [],
   "source": [
    "import numpy as np\n",
    "# import probnum as pn\n",
    "import matplotlib.pyplot as plt\n",
    "from scipy import stats"
   ]
  },
  {
   "cell_type": "code",
   "execution_count": 22,
   "metadata": {},
   "outputs": [],
   "source": [
    "\n",
    "def kernel_12(x,y,lamb,l):\n",
    "    return (lamb**2)*np.exp(-np.abs(x-y)/l**2)\n",
    "\n",
    "def kernel_32(x,y,lamb,l):\n",
    "    return (lamb**2)*(1.+np.sqrt(3.)*np.abs(x-y)/(l**2))*np.exp(-np.sqrt(3.)*np.abs(x-y)/(l**2))\n",
    "\n",
    "def kernel_32_old(x,y,lamb,l):\n",
    "    return (lamb**2)*(1.+np.sqrt(3.)*(x-y)/(l**2))*np.exp(-np.sqrt(3.)*(x-y)/(l**2))\n",
    "\n",
    "def kernel_embedding_12(y,lamb,l,a,b):\n",
    "    return (lamb**2)*((b/(b+1./(l**2)))**a)*np.exp(y/l**2)\n",
    "\n",
    "def kernel_embedding_32(y,lamb,l,a,b):\n",
    "    aprime = a+1\n",
    "    bprime = b+(np.sqrt(3.)/(l**2))\n",
    "    poly_term = ((np.sqrt(3.)/l**2)*((b**a)/(bprime**aprime))*a)+(1.-(np.sqrt(3)/l**2)*y)*((b/bprime)**a)\n",
    "    exp_term = np.exp(np.sqrt(3.)*y/l**2)\n",
    "    return (lamb**2)*poly_term*exp_term\n",
    "\n",
    "def int_kernel_embedding_12(lamb,l,a,b):\n",
    "    return (lamb**2)*(b**(2.*a))/((b+1./(l**2))*(b-1./(l**2)))**a"
   ]
  },
  {
   "cell_type": "code",
   "execution_count": 31,
   "metadata": {},
   "outputs": [
    {
     "name": "stdout",
     "output_type": "stream",
     "text": [
      "0.5545916020497449\n",
      "1.649690708150834\n",
      "\n",
      "16257.263931749314\n",
      "(2.025060345386926-1.4712924627008286j)\n",
      "\n",
      "0.671678492701377\n",
      "-3.0712208400691683\n"
     ]
    }
   ],
   "source": [
    "a=2.2\n",
    "b=3.\n",
    "l=0.5\n",
    "lamb = 1.2\n",
    "\n",
    "x = stats.gamma.rvs(a=a,scale=1./b,size=10000000)\n",
    "\n",
    "\n",
    "y = 0.5\n",
    "\n",
    "print(np.mean(kernel_12(x,y=y,lamb=lamb,l=l)))\n",
    "print(kernel_embedding_12(y=y,lamb=lamb,l=l,a=a,b=b))\n",
    "print(\"\")\n",
    "print(np.mean(kernel_embedding_12(y=x,lamb=lamb,l=l,a=a,b=b)))\n",
    "print(int_kernel_embedding_12(lamb=lamb,l=l,a=a,b=b))\n",
    "print(\"\")\n",
    "print(np.mean(kernel_32(x,y=y,lamb=lamb,l=l)))\n",
    "print(kernel_embedding_32(y=y,lamb=lamb,l=l,a=a,b=b))\n",
    "\n",
    "\n"
   ]
  },
  {
   "cell_type": "code",
   "execution_count": 17,
   "metadata": {},
   "outputs": [
    {
     "data": {
      "text/plain": [
       "0.0003887934436092327"
      ]
     },
     "execution_count": 17,
     "metadata": {},
     "output_type": "execute_result"
    }
   ],
   "source": []
  },
  {
   "cell_type": "code",
   "execution_count": 29,
   "metadata": {},
   "outputs": [
    {
     "data": {
      "text/plain": [
       "array([2.68864350e-02, 3.71240182e-09, 4.80848719e-02, ...,\n",
       "       1.74265561e-10, 1.68412637e-15, 5.74900015e-12])"
      ]
     },
     "execution_count": 29,
     "metadata": {},
     "output_type": "execute_result"
    }
   ],
   "source": [
    "kernel_32(x,y=y,lamb=lamb,l=l)"
   ]
  },
  {
   "cell_type": "code",
   "execution_count": 30,
   "metadata": {},
   "outputs": [
    {
     "data": {
      "text/plain": [
       "array([-2.62067827e+03,  3.71240182e-09,  4.80848719e-02, ...,\n",
       "        1.74265561e-10,  1.68412637e-15,  5.74900015e-12])"
      ]
     },
     "execution_count": 30,
     "metadata": {},
     "output_type": "execute_result"
    }
   ],
   "source": [
    "kernel_32_old(x,y,lamb,l)"
   ]
  },
  {
   "cell_type": "code",
   "execution_count": null,
   "metadata": {},
   "outputs": [],
   "source": []
  }
 ],
 "metadata": {
  "kernelspec": {
   "display_name": "Python 3 (ipykernel)",
   "language": "python",
   "name": "python3"
  },
  "language_info": {
   "codemirror_mode": {
    "name": "ipython",
    "version": 3
   },
   "file_extension": ".py",
   "mimetype": "text/x-python",
   "name": "python",
   "nbconvert_exporter": "python",
   "pygments_lexer": "ipython3",
   "version": "3.8.5"
  }
 },
 "nbformat": 4,
 "nbformat_minor": 4
}
