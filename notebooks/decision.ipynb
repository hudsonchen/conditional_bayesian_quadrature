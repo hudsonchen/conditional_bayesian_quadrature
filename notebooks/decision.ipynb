{
 "cells": [
  {
   "cell_type": "code",
   "execution_count": 3,
   "id": "339e9f50-a8cc-450c-bf5e-875955fe54e8",
   "metadata": {},
   "outputs": [],
   "source": [
    "import jax.numpy as jnp\n",
    "\n",
    "def conditional_distribution(joint_mean, joint_covariance, x, dimensions):\n",
    "    y_dimensions = [i for i in range(len(joint_mean)) if i not in dimensions]\n",
    "    \n",
    "    dimensions = jnp.array(dimensions)\n",
    "    y_dimensions = jnp.array(y_dimensions)\n",
    "\n",
    "    mean_x = jnp.take(joint_mean, dimensions)\n",
    "    mean_y = jnp.take(joint_mean, y_dimensions)\n",
    "    \n",
    "    # Create a grid of indices from A and B using meshgrid\n",
    "    cov_XX = joint_covariance[jnp.ix_(dimensions, dimensions)]\n",
    "    cov_YY = joint_covariance[jnp.ix_(y_dimensions, y_dimensions)]\n",
    "    cov_YX = joint_covariance[jnp.ix_(y_dimensions, dimensions)]\n",
    "    cov_XY = joint_covariance[jnp.ix_(dimensions, y_dimensions)]\n",
    "    \n",
    "    mean_y_given_x = mean_y + cov_YX @ jnp.linalg.inv(cov_XX) @ (x - mean_x)\n",
    "\n",
    "    cov_y_given_x = cov_YY - cov_YX @ jnp.linalg.inv(cov_XX) @ cov_XY\n",
    "\n",
    "    return mean_y_given_x, cov_y_given_x\n",
    "\n",
    "XY_mean = jnp.array([1000., 0.1, 5.2, 400., 0.7,\n",
    "                      0.3, 3.0, 0.25, -0.1, 0.5,\n",
    "                      1500, 0.08, 6.1, 0.8, 0.3,\n",
    "                      3.0, 0.2, -0.1, 0.5])\n",
    "XY_sigma = jnp.diag(jnp.array([1.0 ** 2, 0.02 ** 2, 1.0 ** 2, 200 ** 2, 0.1 ** 2,\n",
    "                                0.1 ** 2, 0.5 ** 2, 0.1 ** 2, 0.02 ** 2, 0.2 ** 2,\n",
    "                                1.0 ** 2, 0.02 ** 2, 1.0 ** 2, 0.1 ** 2, 0.05 ** 2,\n",
    "                                1.0 ** 2, 0.05 ** 2, 0.02 ** 2, 0.2 ** 2]))\n",
    "XY_sigma = XY_sigma.at[4, 6].set(0.6 * jnp.sqrt(XY_sigma[4, 4]) * jnp.sqrt(XY_sigma[6, 6]))\n",
    "XY_sigma = XY_sigma.at[6, 4].set(0.6 * jnp.sqrt(XY_sigma[4, 4]) * jnp.sqrt(XY_sigma[6, 6]))\n",
    "XY_sigma = XY_sigma.at[4, 13].set(0.6 * jnp.sqrt(XY_sigma[4, 4]) * jnp.sqrt(XY_sigma[13, 13]))\n",
    "XY_sigma = XY_sigma.at[13, 4].set(0.6 * jnp.sqrt(XY_sigma[4, 4]) * jnp.sqrt(XY_sigma[13, 13]))\n",
    "XY_sigma = XY_sigma.at[4, 15].set(0.6 * jnp.sqrt(XY_sigma[4, 4]) * jnp.sqrt(XY_sigma[15, 15]))\n",
    "XY_sigma = XY_sigma.at[15, 4].set(0.6 * jnp.sqrt(XY_sigma[4, 4]) * jnp.sqrt(XY_sigma[15, 15]))\n",
    "XY_sigma = XY_sigma.at[6, 13].set(0.6 * jnp.sqrt(XY_sigma[6, 6]) * jnp.sqrt(XY_sigma[13, 13]))\n",
    "XY_sigma = XY_sigma.at[13, 6].set(0.6 * jnp.sqrt(XY_sigma[6, 6]) * jnp.sqrt(XY_sigma[13, 13]))\n",
    "XY_sigma = XY_sigma.at[6, 15].set(0.6 * jnp.sqrt(XY_sigma[6, 6]) * jnp.sqrt(XY_sigma[15, 15]))\n",
    "XY_sigma = XY_sigma.at[15, 6].set(0.6 * jnp.sqrt(XY_sigma[6, 6]) * jnp.sqrt(XY_sigma[15, 15]))\n",
    "XY_sigma = XY_sigma.at[13, 15].set(0.6 * jnp.sqrt(XY_sigma[13, 13]) * jnp.sqrt(XY_sigma[15, 15]))\n",
    "XY_sigma = XY_sigma.at[15, 13].set(0.6 * jnp.sqrt(XY_sigma[13, 13]) * jnp.sqrt(XY_sigma[15, 15]))\n",
    "\n",
    "x = jnp.array([0.5, 0.5])  # Example value of X\n",
    "dimensions = [4, 13]  # Indices for dimensions 5 and 14 (zero-indexed)\n",
    "\n",
    "mean_y_given_x, cov_y_given_x = conditional_distribution(XY_mean, XY_sigma, x, dimensions)\n"
   ]
  },
  {
   "cell_type": "code",
   "execution_count": 4,
   "id": "58341dcc-b1c0-450c-a216-122cfb3ba886",
   "metadata": {},
   "outputs": [],
   "source": [
    "joint_covariance = XY_sigma\n",
    "joint_mean = XY_mean\n",
    "\n",
    "y_dimensions = [i for i in range(len(joint_mean)) if i not in dimensions]\n",
    "\n",
    "dimensions = jnp.array(dimensions)\n",
    "y_dimensions = jnp.array(y_dimensions)\n",
    "\n",
    "mean_x = jnp.take(joint_mean, dimensions)\n",
    "mean_y = jnp.take(joint_mean, y_dimensions)\n",
    "\n",
    "# Create a grid of indices from A and B using meshgrid\n",
    "cov_XX = joint_covariance[jnp.ix_(dimensions, dimensions)]\n",
    "cov_YY = joint_covariance[jnp.ix_(y_dimensions, y_dimensions)]\n",
    "cov_YX = joint_covariance[jnp.ix_(y_dimensions, dimensions)]\n",
    "cov_XY = joint_covariance[jnp.ix_(dimensions, y_dimensions)]\n",
    "\n",
    "mean_y_given_x = mean_y + cov_YX @ jnp.linalg.inv(cov_XX) @ (x - mean_x)\n",
    "cov_y_given_x = cov_YY - cov_YX @ jnp.linalg.inv(cov_XX) @ cov_XY\n"
   ]
  },
  {
   "cell_type": "code",
   "execution_count": 8,
   "id": "e91d26f5-b2e2-472d-bb89-4604509eb82b",
   "metadata": {},
   "outputs": [],
   "source": [
    "import jax\n",
    "seed = 10\n",
    "rng_key = jax.random.PRNGKey(seed)\n",
    "\n",
    "A = jnp.arange(10)\n",
    "B = jax.random.randint(rng_key, shape=(10,), minval=0, maxval=10)"
   ]
  },
  {
   "cell_type": "code",
   "execution_count": 9,
   "id": "80e3bdde-d756-4284-961c-3f2fa543d7bc",
   "metadata": {},
   "outputs": [
    {
     "data": {
      "text/plain": [
       "Array([0, 1, 2, 3, 4, 5, 6, 7, 8, 9], dtype=int32)"
      ]
     },
     "execution_count": 9,
     "metadata": {},
     "output_type": "execute_result"
    }
   ],
   "source": [
    "A"
   ]
  },
  {
   "cell_type": "code",
   "execution_count": 10,
   "id": "a26485c3-9433-4b72-82b0-89ab3aa52909",
   "metadata": {},
   "outputs": [
    {
     "data": {
      "text/plain": [
       "Array([4, 6, 1, 6, 2, 9, 6, 6, 8, 6], dtype=int32)"
      ]
     },
     "execution_count": 10,
     "metadata": {},
     "output_type": "execute_result"
    }
   ],
   "source": [
    "B"
   ]
  },
  {
   "cell_type": "code",
   "execution_count": 11,
   "id": "ef0a4e3a-f6ac-403a-ae2a-edc7ca96bed4",
   "metadata": {},
   "outputs": [
    {
     "data": {
      "text/plain": [
       "Array([4, 6, 2, 6, 4, 9, 6, 7, 8, 9], dtype=int32)"
      ]
     },
     "execution_count": 11,
     "metadata": {},
     "output_type": "execute_result"
    }
   ],
   "source": [
    "jnp.maximum(A, B)"
   ]
  },
  {
   "cell_type": "code",
   "execution_count": null,
   "id": "8f126147-345c-4222-bd21-172fa28988e2",
   "metadata": {},
   "outputs": [],
   "source": []
  }
 ],
 "metadata": {
  "kernelspec": {
   "display_name": "Python 3 (ipykernel)",
   "language": "python",
   "name": "python3"
  },
  "language_info": {
   "codemirror_mode": {
    "name": "ipython",
    "version": 3
   },
   "file_extension": ".py",
   "mimetype": "text/x-python",
   "name": "python",
   "nbconvert_exporter": "python",
   "pygments_lexer": "ipython3",
   "version": "3.8.5"
  }
 },
 "nbformat": 4,
 "nbformat_minor": 5
}
