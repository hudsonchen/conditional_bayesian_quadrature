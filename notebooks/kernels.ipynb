{
 "cells": [
  {
   "cell_type": "code",
   "execution_count": 1,
   "id": "fff749ce-1ebc-4935-98c4-e8fa9edc0faf",
   "metadata": {},
   "outputs": [],
   "source": [
    "import jax.numpy as jnp\n",
    "import jax\n",
    "import math\n",
    "from tensorflow_probability.substrates import jax as tfp\n",
    "\n",
    "\n",
    "def jax_dist(x, y):\n",
    "    return jnp.sqrt(((x - y) ** 2).sum(-1)).squeeze()\n",
    "\n",
    "distance = jax.vmap(jax_dist, in_axes=(None, 0), out_axes=1)\n",
    "sign_func = jax.vmap(jnp.greater, in_axes=(None, 0), out_axes=1)\n",
    "\n",
    "\n",
    "# @jax.jit\n",
    "def my_Matern(x, y, l):\n",
    "    r = distance(x, y).squeeze()\n",
    "    part1 = 1 + math.sqrt(3) * r / l\n",
    "    part2 = jnp.exp(-math.sqrt(3) * r / l)\n",
    "    return part1 * part2\n",
    "\n",
    "\n",
    "# @jax.jit\n",
    "def one_d_my_Matern(x, y, l):\n",
    "    r = jax_dist(x, y).squeeze()\n",
    "    part1 = 1 + math.sqrt(3) * r / l\n",
    "    part2 = jnp.exp(-math.sqrt(3) * r / l)\n",
    "    return part1 * part2\n",
    "\n",
    "\n",
    "# @jax.jit\n",
    "def dx_Matern(x, y, l):\n",
    "    sign = sign_func(x, y).squeeze().astype(float) * 2 - 1\n",
    "    r = distance(x, y).squeeze()\n",
    "    part1 = jnp.exp(-math.sqrt(3) / l * r) * (math.sqrt(3) / l * sign)\n",
    "    part2 = (-math.sqrt(3) / l * sign) * jnp.exp(-math.sqrt(3) / l * r) * (1 + math.sqrt(3) / l * r)\n",
    "    return part1 + part2\n",
    "\n",
    "\n",
    "# @jax.jit\n",
    "def dy_Matern(x, y, l):\n",
    "    sign = -(sign_func(x, y).squeeze().astype(float) * 2 - 1)\n",
    "    r = distance(x, y).squeeze()\n",
    "    part1 = jnp.exp(-math.sqrt(3) / l * r) * (math.sqrt(3) / l * sign)\n",
    "    part2 = (-math.sqrt(3) / l * sign) * jnp.exp(-math.sqrt(3) / l * r) * (1 + math.sqrt(3) / l * r)\n",
    "    return part1 + part2\n",
    "\n",
    "\n",
    "# @jax.jit\n",
    "def dxdy_Matern(x, y, l):\n",
    "    r = distance(x, y).squeeze()\n",
    "    const = math.sqrt(3) / l\n",
    "    part1 = const * const * jnp.exp(-const * r)\n",
    "    part2 = -const * const * jnp.exp(-const * r) * (1 + const * r)\n",
    "    part3 = const * jnp.exp(-const * r) * const\n",
    "    return part1 + part2 + part3\n",
    "\n",
    "\n",
    "# @jax.jit\n",
    "def my_RBF(x, y, l):\n",
    "    r = distance(x, y).squeeze()\n",
    "    return jnp.exp(- r ** 2 / 2 / (l ** 2))\n",
    "\n",
    "\n",
    "def my_Laplace(x, y, l):\n",
    "    r = distance(x, y).squeeze()\n",
    "    return jnp.exp(- r / l)\n",
    "\n",
    "\n",
    "def dx_Laplace(x, y, l):\n",
    "    sign = sign_func(x, y).squeeze().astype(float) * 2 - 1\n",
    "    r = distance(x, y).squeeze()\n",
    "    part1 = jnp.exp(- r / l) * (-sign)\n",
    "    return part1\n",
    "\n",
    "\n",
    "def dy_Laplace(x, y, l):\n",
    "    sign = sign_func(x, y).squeeze().astype(float) * 2 - 1\n",
    "    r = distance(x, y).squeeze()\n",
    "    part1 = jnp.exp(- r / l) * sign\n",
    "    return part1\n",
    "\n",
    "\n",
    "def dxdy_Laplace(x, y, l):\n",
    "    r = distance(x, y).squeeze()\n",
    "    part1 = jnp.exp(- r / l) * (-1)\n",
    "    return part1\n",
    "\n",
    "\n",
    "def one_d_my_Laplace(x, y, l):\n",
    "    r = jax_dist(x, y).squeeze()\n",
    "    return jnp.exp(- r / l)\n",
    "\n",
    "\n",
    "# @jax.jit\n",
    "def one_d_my_RBF(x, y, l):\n",
    "    r = jax_dist(x, y).squeeze()\n",
    "    return jnp.exp(- r ** 2 / 2 / (l ** 2))\n",
    "\n"
   ]
  },
  {
   "cell_type": "code",
   "execution_count": 2,
   "id": "7f0b6530-7d15-42f1-a47e-b4e2afb28d6e",
   "metadata": {},
   "outputs": [],
   "source": [
    "seed = 0\n",
    "rng_key = jax.random.PRNGKey(seed)\n",
    "x = jax.random.uniform(rng_key, shape=(3, 2))\n",
    "rng_key, _ = jax.random.split(rng_key)\n",
    "y = jax.random.uniform(rng_key, shape=(3, 2))\n",
    "l = 0.5\n",
    "batch_kernel = tfp.math.psd_kernels.MaternThreeHalves(amplitude=1., length_scale=.5)\n",
    "K1 = batch_kernel.matrix(x, y)\n"
   ]
  },
  {
   "cell_type": "code",
   "execution_count": 3,
   "id": "66476b35-254b-4394-a614-17a85a7e105f",
   "metadata": {},
   "outputs": [
    {
     "name": "stdout",
     "output_type": "stream",
     "text": [
      "0.36376435\n",
      "[[0.36376435]]\n"
     ]
    }
   ],
   "source": [
    "seed = 0\n",
    "rng_key = jax.random.PRNGKey(seed)\n",
    "x = jax.random.uniform(rng_key, shape=(2, ))\n",
    "rng_key, _ = jax.random.split(rng_key)\n",
    "y = jax.random.uniform(rng_key, shape=(2, ))\n",
    "l = 0.5\n",
    "batch_kernel = tfp.math.psd_kernels.MaternThreeHalves(amplitude=1., length_scale=.5)\n",
    "print(batch_kernel.apply(x, y))\n",
    "\n",
    "print(batch_kernel.matrix(x[None, :], y[None, :]))"
   ]
  },
  {
   "cell_type": "code",
   "execution_count": 4,
   "id": "aea7f062-af26-4499-b79e-190e295a6adb",
   "metadata": {},
   "outputs": [],
   "source": [
    "grad_x_K_fn = jax.grad(batch_kernel.apply, argnums=(0, ))\n"
   ]
  },
  {
   "cell_type": "code",
   "execution_count": 5,
   "id": "301f862c-2ad4-409a-a2d3-df4c8bf89b35",
   "metadata": {},
   "outputs": [
    {
     "data": {
      "text/plain": [
       "Array([[[ 1.2694279 ],\n",
       "        [-1.2656392 ]],\n",
       "\n",
       "       [[ 0.24535462],\n",
       "        [-0.9564513 ]]], dtype=float32)"
      ]
     },
     "execution_count": 5,
     "metadata": {},
     "output_type": "execute_result"
    }
   ],
   "source": [
    "vec_grad_x_K_fn = jax.vmap(grad_x_K_fn, in_axes=(0, 0), out_axes=1)\n",
    "\n",
    "rng_key = jax.random.PRNGKey(seed)\n",
    "x = jax.random.uniform(rng_key, shape=(2, 1))\n",
    "rng_key, _ = jax.random.split(rng_key)\n",
    "y = jax.random.uniform(rng_key, shape=(2, 1))\n",
    "\n",
    "x_dummy = jnp.stack((x, x), axis=0).reshape(4, 1)\n",
    "y_dummy = jnp.stack((y, y), axis=1).reshape(4, 1)\n",
    "\n",
    "vec_grad_x_K_fn(x_dummy, y_dummy)[0].reshape(2, 2, 1)"
   ]
  },
  {
   "cell_type": "code",
   "execution_count": 6,
   "id": "553f5389-9fdb-4831-ad94-5eb4f04b3718",
   "metadata": {},
   "outputs": [
    {
     "name": "stdout",
     "output_type": "stream",
     "text": [
      "(Array([1.2694279], dtype=float32),)\n",
      "(Array([0.24535462], dtype=float32),)\n",
      "(Array([-1.2656392], dtype=float32),)\n",
      "(Array([-0.9564513], dtype=float32),)\n"
     ]
    }
   ],
   "source": [
    "print(grad_x_K_fn(x[0, :], y[0, :]))\n",
    "print(grad_x_K_fn(x[0, :], y[1, :]))\n",
    "print(grad_x_K_fn(x[1, :], y[0, :]))\n",
    "print(grad_x_K_fn(x[1, :], y[1, :]))"
   ]
  },
  {
   "cell_type": "code",
   "execution_count": 7,
   "id": "0cdd4db1-b190-4e75-9a45-ae81f7118f05",
   "metadata": {},
   "outputs": [
    {
     "data": {
      "text/plain": [
       "Array([[ 1.2694278 ,  0.24535465],\n",
       "       [-1.265639  , -0.9564513 ]], dtype=float32)"
      ]
     },
     "execution_count": 7,
     "metadata": {},
     "output_type": "execute_result"
    }
   ],
   "source": [
    "dx_Matern(x, y, l)"
   ]
  },
  {
   "cell_type": "code",
   "execution_count": 8,
   "id": "cd048db2-1524-426b-beab-8b07ad9c9364",
   "metadata": {},
   "outputs": [],
   "source": [
    "seed = 0\n",
    "rng_key = jax.random.PRNGKey(seed)\n",
    "N = 2\n",
    "D = 3\n",
    "l = 0.5\n",
    "\n",
    "batch_kernel = tfp.math.psd_kernels.MaternThreeHalves(amplitude=1., length_scale=0.5)\n",
    "grad_x_K_fn = jax.grad(batch_kernel.apply, argnums=(0))\n",
    "vec_grad_x_K_fn = jax.vmap(grad_x_K_fn, in_axes=(0, 0), out_axes=0)\n",
    "grad_y_K_fn = jax.grad(batch_kernel.apply, argnums=(1))\n",
    "vec_grad_y_K_fn = jax.vmap(grad_y_K_fn, in_axes=(0, 0), out_axes=0)\n",
    "\n",
    "\n",
    "rng_key = jax.random.PRNGKey(seed)\n",
    "x = jax.random.uniform(rng_key, shape=(N, D))\n",
    "rng_key, _ = jax.random.split(rng_key)\n",
    "y = jax.random.uniform(rng_key, shape=(N, D))\n",
    "\n",
    "x_dummy = jnp.stack([x] * N, axis=1).reshape(N * N, D)\n",
    "y_dummy = jnp.stack([y] * N, axis=0).reshape(N * N, D)\n",
    "\n",
    "dx_K = vec_grad_x_K_fn(x_dummy, y_dummy).reshape(N, N, D)\n",
    "dy_K = vec_grad_y_K_fn(x_dummy, y_dummy).reshape(N, N, D)\n",
    "\n"
   ]
  },
  {
   "cell_type": "code",
   "execution_count": 9,
   "id": "566bf47e-a2be-4b2e-8e32-dc440e602fac",
   "metadata": {},
   "outputs": [
    {
     "data": {
      "text/plain": [
       "Array([[[ 0.3103785 ,  1.0000873 ,  0.00740481],\n",
       "        [-0.04561898,  0.58510643,  0.10524212]],\n",
       "\n",
       "       [[-0.628633  , -0.03943844,  1.0889013 ],\n",
       "        [-0.49021354,  0.37495774,  0.5537195 ]]], dtype=float32)"
      ]
     },
     "execution_count": 9,
     "metadata": {},
     "output_type": "execute_result"
    }
   ],
   "source": [
    "dx_K"
   ]
  },
  {
   "cell_type": "code",
   "execution_count": 10,
   "id": "fb26d3a3-4185-484f-9900-97450c6d24b3",
   "metadata": {},
   "outputs": [],
   "source": [
    "seed = 0\n",
    "rng_key = jax.random.PRNGKey(seed)\n",
    "N = 2\n",
    "D = 3\n",
    "l = 0.5\n",
    "\n",
    "batch_kernel = tfp.math.psd_kernels.MaternThreeHalves(amplitude=1., length_scale=1.0)\n",
    "grad_x_K_fn = jax.grad(batch_kernel.apply, argnums=(0))\n",
    "vec_grad_x_K_fn = jax.vmap(grad_x_K_fn, in_axes=(0, 0), out_axes=0)\n",
    "grad_y_K_fn = jax.grad(batch_kernel.apply, argnums=(1))\n",
    "vec_grad_y_K_fn = jax.vmap(grad_y_K_fn, in_axes=(0, 0), out_axes=0)\n",
    "\n",
    "\n",
    "x = x / 0.5\n",
    "y = y / 0.5\n",
    "\n",
    "x_dummy = jnp.stack([x] * N, axis=1).reshape(N * N, D)\n",
    "y_dummy = jnp.stack([y] * N, axis=0).reshape(N * N, D)\n",
    "\n",
    "dx_K = vec_grad_x_K_fn(x_dummy, y_dummy).reshape(N, N, D)\n",
    "dy_K = vec_grad_y_K_fn(x_dummy, y_dummy).reshape(N, N, D)\n"
   ]
  },
  {
   "cell_type": "code",
   "execution_count": 11,
   "id": "8d78cfcc-2d8c-48c8-8605-0aa47f91e0d2",
   "metadata": {},
   "outputs": [
    {
     "data": {
      "text/plain": [
       "Array([[[ 0.15518925,  0.50004363,  0.00370241],\n",
       "        [-0.02280949,  0.29255322,  0.05262106]],\n",
       "\n",
       "       [[-0.3143165 , -0.01971922,  0.54445064],\n",
       "        [-0.24510677,  0.18747887,  0.27685976]]], dtype=float32)"
      ]
     },
     "execution_count": 11,
     "metadata": {},
     "output_type": "execute_result"
    }
   ],
   "source": [
    "dx_K"
   ]
  },
  {
   "cell_type": "code",
   "execution_count": 12,
   "id": "94ed4825-5d23-4902-b328-ca66666d54ed",
   "metadata": {},
   "outputs": [
    {
     "data": {
      "text/plain": [
       "Array([[0.63553834, 0.04023486],\n",
       "       [1.7044075 , 0.24653757]], dtype=float32)"
      ]
     },
     "execution_count": 12,
     "metadata": {},
     "output_type": "execute_result"
    }
   ],
   "source": [
    "grad_xy_K_fn = jax.jacfwd(jax.jacrev(batch_kernel.apply, argnums=1), argnums=0)\n",
    "\n",
    "def diag_sum_grad_xy_K_fn(x, y):\n",
    "    return jnp.diag(grad_xy_K_fn(x, y)).sum()\n",
    "\n",
    "vec_grad_xy_K_fn = jax.vmap(diag_sum_grad_xy_K_fn, in_axes=(0, 0), out_axes=0)\n",
    "\n",
    "vec_grad_xy_K_fn(x_dummy, y_dummy).reshape(N, N)\n"
   ]
  },
  {
   "cell_type": "code",
   "execution_count": 13,
   "id": "86213f1f-79b7-4a04-835a-9ef2605149b8",
   "metadata": {},
   "outputs": [
    {
     "name": "stdout",
     "output_type": "stream",
     "text": [
      "0.63553834\n",
      "0.040234864\n",
      "1.7044075\n",
      "0.24653757\n"
     ]
    }
   ],
   "source": [
    "print(jnp.diag(grad_xy_K_fn(x[0, :], y[0, :])).sum())\n",
    "print(jnp.diag(grad_xy_K_fn(x[0, :], y[1, :])).sum())\n",
    "print(jnp.diag(grad_xy_K_fn(x[1, :], y[0, :])).sum())\n",
    "print(jnp.diag(grad_xy_K_fn(x[1, :], y[1, :])).sum())\n"
   ]
  },
  {
   "cell_type": "code",
   "execution_count": 14,
   "id": "ef041397-2dd9-4699-9514-b36dce4a0bac",
   "metadata": {},
   "outputs": [
    {
     "data": {
      "text/plain": [
       "Array([[[ 0.15518925,  0.50004363,  0.00370241],\n",
       "        [-0.02280949,  0.29255322,  0.05262106]],\n",
       "\n",
       "       [[-0.3143165 , -0.01971922,  0.54445064],\n",
       "        [-0.24510677,  0.18747887,  0.27685976]]], dtype=float32)"
      ]
     },
     "execution_count": 14,
     "metadata": {},
     "output_type": "execute_result"
    }
   ],
   "source": [
    "dx_K"
   ]
  },
  {
   "cell_type": "code",
   "execution_count": 15,
   "id": "4dd8c1b8-815c-4d72-a938-fcc4a893dde2",
   "metadata": {},
   "outputs": [
    {
     "data": {
      "text/plain": [
       "Array([[[-0.15518925, -0.50004363, -0.00370241],\n",
       "        [ 0.02280949, -0.29255322, -0.05262106]],\n",
       "\n",
       "       [[ 0.3143165 ,  0.01971922, -0.54445064],\n",
       "        [ 0.24510677, -0.18747887, -0.27685976]]], dtype=float32)"
      ]
     },
     "execution_count": 15,
     "metadata": {},
     "output_type": "execute_result"
    }
   ],
   "source": [
    "dy_K"
   ]
  },
  {
   "cell_type": "code",
   "execution_count": 16,
   "id": "9153027e-ce3c-41b3-9ea6-2c613e3cf2d4",
   "metadata": {},
   "outputs": [
    {
     "name": "stdout",
     "output_type": "stream",
     "text": [
      "[0.15518925 0.50004363 0.00370241]\n",
      "[-0.02280949  0.29255322  0.05262106]\n",
      "[-0.3143165  -0.01971922  0.54445064]\n",
      "[-0.24510677  0.18747887  0.27685976]\n",
      "[-0.15518925 -0.50004363 -0.00370241]\n",
      "[ 0.02280949 -0.29255322 -0.05262106]\n",
      "[ 0.3143165   0.01971922 -0.54445064]\n",
      "[ 0.24510677 -0.18747887 -0.27685976]\n"
     ]
    }
   ],
   "source": [
    "print(grad_x_K_fn(x[0, :], y[0, :]))\n",
    "print(grad_x_K_fn(x[0, :], y[1, :]))\n",
    "print(grad_x_K_fn(x[1, :], y[0, :]))\n",
    "print(grad_x_K_fn(x[1, :], y[1, :]))\n",
    "\n",
    "print(grad_y_K_fn(x[0, :], y[0, :]))\n",
    "print(grad_y_K_fn(x[0, :], y[1, :]))\n",
    "print(grad_y_K_fn(x[1, :], y[0, :]))\n",
    "print(grad_y_K_fn(x[1, :], y[1, :]))\n"
   ]
  },
  {
   "cell_type": "code",
   "execution_count": null,
   "id": "204917d1-8bd9-4974-9837-e2a2ad76e244",
   "metadata": {},
   "outputs": [],
   "source": []
  },
  {
   "cell_type": "code",
   "execution_count": null,
   "id": "06447279-abea-4165-b0e9-6cd7c7201ea0",
   "metadata": {},
   "outputs": [],
   "source": []
  },
  {
   "cell_type": "code",
   "execution_count": null,
   "id": "aef57920-9af9-4501-aca8-d0763d0e5fdb",
   "metadata": {},
   "outputs": [],
   "source": []
  },
  {
   "cell_type": "code",
   "execution_count": null,
   "id": "9b2e457e-81f0-4c2a-9433-a99f02241836",
   "metadata": {},
   "outputs": [],
   "source": []
  },
  {
   "cell_type": "code",
   "execution_count": 17,
   "id": "c98462d6-1e6c-4af6-83e0-a1249137f2b6",
   "metadata": {},
   "outputs": [],
   "source": [
    "def stein_Matern(x, y, l, d_log_px, d_log_py):\n",
    "    \"\"\"\n",
    "    :param x: N*D\n",
    "    :param y: M*D\n",
    "    :param l: scalar\n",
    "    :param d_log_px: N*D\n",
    "    :param d_log_py: M*D\n",
    "    :return: N*M\n",
    "    \"\"\"\n",
    "    N, D = x.shape\n",
    "    M = y.shape[0]\n",
    "\n",
    "    batch_kernel = tfp.math.psd_kernels.MaternThreeHalves(amplitude=1., length_scale=l)\n",
    "    grad_x_K_fn = jax.grad(batch_kernel.apply, argnums=(0))\n",
    "    vec_grad_x_K_fn = jax.vmap(grad_x_K_fn, in_axes=(0, 0), out_axes=0)\n",
    "    grad_y_K_fn = jax.grad(batch_kernel.apply, argnums=(1))\n",
    "    vec_grad_y_K_fn = jax.vmap(grad_y_K_fn, in_axes=(0, 0), out_axes=0)\n",
    "    \n",
    "    grad_xy_K_fn = jax.jacfwd(jax.jacrev(batch_kernel.apply, argnums=1), argnums=0)\n",
    "\n",
    "    def diag_sum_grad_xy_K_fn(x, y):\n",
    "        return jnp.diag(grad_xy_K_fn(x, y)).sum()\n",
    "\n",
    "    vec_grad_xy_K_fn = jax.vmap(diag_sum_grad_xy_K_fn, in_axes=(0, 0), out_axes=0)\n",
    "\n",
    "    x_dummy = jnp.stack([x] * N, axis=1).reshape(N * M, D)\n",
    "    y_dummy = jnp.stack([y] * M, axis=0).reshape(N * M, D)\n",
    "\n",
    "    K = batch_kernel.matrix(x, y)\n",
    "    dx_K = vec_grad_x_K_fn(x_dummy, y_dummy).reshape(N, M, D)\n",
    "    dy_K = vec_grad_y_K_fn(x_dummy, y_dummy).reshape(N, M, D)\n",
    "    dxdy_K = vec_grad_xy_K_fn(x_dummy, y_dummy).reshape(N, N)\n",
    "\n",
    "    part1 = d_log_px @ d_log_py.T * K\n",
    "    part2 = (d_log_py[None, :] * dx_K).sum(-1)\n",
    "    part3 = (d_log_px[:, None, :] * dy_K).sum(-1)\n",
    "    part4 = dxdy_K\n",
    "    \n",
    "    print(dx_K, 'dxK')\n",
    "    print(dy_K, 'dyK')\n",
    "\n",
    "    print(part1, 'part1')\n",
    "    print(part2, 'part2')\n",
    "    print(part3, 'part3')\n",
    "    print(part4, 'part4')\n",
    "    return part1 + part2 + part3 + part4\n",
    "\n",
    "def dx_Matern(x, y, l):\n",
    "    sign = sign_func(x, y).squeeze().astype(float) * 2 - 1\n",
    "    r = distance(x, y).squeeze()\n",
    "    part1 = jnp.exp(-math.sqrt(3) / l * r) * (math.sqrt(3) / l * sign)\n",
    "    part2 = (-math.sqrt(3) / l * sign) * jnp.exp(-math.sqrt(3) / l * r) * (1 + math.sqrt(3) / l * r)\n",
    "    return part1 + part2\n",
    "\n",
    "\n",
    "# @jax.jit\n",
    "def dy_Matern(x, y, l):\n",
    "    sign = -(sign_func(x, y).squeeze().astype(float) * 2 - 1)\n",
    "    r = distance(x, y).squeeze()\n",
    "    part1 = jnp.exp(-math.sqrt(3) / l * r) * (math.sqrt(3) / l * sign)\n",
    "    part2 = (-math.sqrt(3) / l * sign) * jnp.exp(-math.sqrt(3) / l * r) * (1 + math.sqrt(3) / l * r)\n",
    "    return part1 + part2\n",
    "\n",
    "\n",
    "# @jax.jit\n",
    "def dxdy_Matern(x, y, l):\n",
    "    r = distance(x, y).squeeze()\n",
    "    const = math.sqrt(3) / l\n",
    "    part1 = const * const * jnp.exp(-const * r)\n",
    "    part2 = -const * const * jnp.exp(-const * r) * (1 + const * r)\n",
    "    part3 = const * jnp.exp(-const * r) * const\n",
    "    return part1 + part2 + part3\n",
    "\n",
    "def my_Matern(x, y, l):\n",
    "    r = distance(x, y).squeeze()\n",
    "    part1 = 1 + math.sqrt(3) * r / l\n",
    "    part2 = jnp.exp(-math.sqrt(3) * r / l)\n",
    "    return part1 * part2\n",
    "\n",
    "def stein_Matern_old(x, y, l, d_log_px, d_log_py):\n",
    "    K = my_Matern(x, y, l)\n",
    "    dx_K = dx_Matern(x, y, l)\n",
    "    dy_K = dy_Matern(x, y, l)\n",
    "    dxdy_K = dxdy_Matern(x, y, l)\n",
    "    part1 = d_log_px @ d_log_py.T * K\n",
    "    part2 = d_log_py.T * dx_K\n",
    "    part3 = d_log_px * dy_K\n",
    "    part4 = dxdy_K\n",
    "    \n",
    "    print(dx_K, 'dxK')\n",
    "    print(dy_K, 'dyK')\n",
    "    \n",
    "    print(part1, 'part1')\n",
    "    print(part2, 'part2')\n",
    "    print(part3, 'part3')\n",
    "    print(part4, 'part4')\n",
    "    return part1 + part2 + part3 + part4"
   ]
  },
  {
   "cell_type": "code",
   "execution_count": 18,
   "id": "d897cc78-88fb-46c7-899b-ca02e36f3443",
   "metadata": {},
   "outputs": [
    {
     "name": "stdout",
     "output_type": "stream",
     "text": [
      "[[ 1.2694278   0.24535465]\n",
      " [-1.265639   -0.9564513 ]] dxK\n",
      "[[-1.2694278  -0.24535465]\n",
      " [ 1.265639    0.9564513 ]] dyK\n",
      "[[0.07969617 0.05141427]\n",
      " [0.26686415 0.07992584]] part1\n",
      "[[-0.6096557  -0.05848424]\n",
      " [ 0.60783607  0.22798559]] part2\n",
      "[[ 0.27457133  0.05306907]\n",
      " [-1.0177308  -0.76910555]] part3\n",
      "[[ 0.4116516  10.266797  ]\n",
      " [-0.47636604 -1.6226783 ]] part4\n",
      "[[[ 1.2694279 ]\n",
      "  [ 0.24535462]]\n",
      "\n",
      " [[-1.2656392 ]\n",
      "  [-0.9564513 ]]] dxK\n",
      "[[[-1.2694279 ]\n",
      "  [-0.24535462]]\n",
      "\n",
      " [[ 1.2656392 ]\n",
      "  [ 0.9564513 ]]] dyK\n",
      "[[0.07969617 0.05141427]\n",
      " [0.2668642  0.07992584]] part1\n",
      "[[-0.60965574 -0.05848423]\n",
      " [ 0.6078362   0.22798559]] part2\n",
      "[[ 0.27457136  0.05306907]\n",
      " [-1.017731   -0.76910555]] part3\n",
      "[[ 0.41165173 10.266797  ]\n",
      " [-0.4763666  -1.6226785 ]] part4\n"
     ]
    }
   ],
   "source": [
    "seed = 0\n",
    "rng_key = jax.random.PRNGKey(seed)\n",
    "x = jax.random.uniform(rng_key, shape=(2, 1))\n",
    "rng_key, _ = jax.random.split(rng_key)\n",
    "y = jax.random.uniform(rng_key, shape=(2, 1))\n",
    "\n",
    "d_log_px = -x\n",
    "d_log_py = -y\n",
    "\n",
    "K1 = stein_Matern_old(x, y, l, d_log_px, d_log_py)\n",
    "K2 = stein_Matern(x, y, l, d_log_px, d_log_py)"
   ]
  },
  {
   "cell_type": "code",
   "execution_count": 19,
   "id": "48d2e73c-6b2b-4cbe-8134-ba04e6d1b458",
   "metadata": {},
   "outputs": [
    {
     "data": {
      "text/plain": [
       "Array([[ 0.15626344, 10.312797  ],\n",
       "       [-0.6193967 , -2.0838723 ]], dtype=float32)"
      ]
     },
     "execution_count": 19,
     "metadata": {},
     "output_type": "execute_result"
    }
   ],
   "source": [
    "K1"
   ]
  },
  {
   "cell_type": "code",
   "execution_count": 20,
   "id": "da9886f5-5588-4def-b1a9-fec2289f84a3",
   "metadata": {},
   "outputs": [
    {
     "data": {
      "text/plain": [
       "Array([[ 0.15626353, 10.312797  ],\n",
       "       [-0.61939716, -2.0838726 ]], dtype=float32)"
      ]
     },
     "execution_count": 20,
     "metadata": {},
     "output_type": "execute_result"
    }
   ],
   "source": [
    "K2"
   ]
  },
  {
   "cell_type": "code",
   "execution_count": null,
   "id": "4f90043d-4adf-405d-83dd-521683015cb2",
   "metadata": {},
   "outputs": [],
   "source": []
  },
  {
   "cell_type": "code",
   "execution_count": null,
   "id": "4bb3a48d-b915-4b37-80ea-211e3ae50d89",
   "metadata": {},
   "outputs": [],
   "source": []
  },
  {
   "cell_type": "code",
   "execution_count": null,
   "id": "9c40acaf-c51f-4bf0-8f3a-1af8006b4b06",
   "metadata": {},
   "outputs": [],
   "source": []
  },
  {
   "cell_type": "code",
   "execution_count": 21,
   "id": "a70d6fbb-b001-404b-9c91-997ad7eee79a",
   "metadata": {},
   "outputs": [],
   "source": [
    "def stein_Matern(x, y, l, d_log_px, d_log_py):\n",
    "    \"\"\"\n",
    "    :param x: N*D\n",
    "    :param y: M*D\n",
    "    :param l: scalar\n",
    "    :param d_log_px: N*D\n",
    "    :param d_log_py: M*D\n",
    "    :return: N*M\n",
    "    \"\"\"\n",
    "    N, D = x.shape\n",
    "    M = y.shape[0]\n",
    "\n",
    "    batch_kernel = tfp.math.psd_kernels.MaternThreeHalves(amplitude=1., length_scale=l)\n",
    "    grad_x_K_fn = jax.grad(batch_kernel.apply, argnums=0)\n",
    "    vec_grad_x_K_fn = jax.vmap(grad_x_K_fn, in_axes=(0, 0), out_axes=0)\n",
    "    grad_y_K_fn = jax.grad(batch_kernel.apply, argnums=1)\n",
    "    vec_grad_y_K_fn = jax.vmap(grad_y_K_fn, in_axes=(0, 0), out_axes=0)\n",
    "\n",
    "    grad_xy_K_fn = jax.jacfwd(jax.jacrev(batch_kernel.apply, argnums=1), argnums=0)\n",
    "\n",
    "    def diag_sum_grad_xy_K_fn(x, y):\n",
    "        return jnp.diag(grad_xy_K_fn(x, y)).sum()\n",
    "\n",
    "    vec_grad_xy_K_fn = jax.vmap(diag_sum_grad_xy_K_fn, in_axes=(0, 0), out_axes=0)\n",
    "\n",
    "    x_dummy = jnp.stack([x] * N, axis=1).reshape(N * M, D)\n",
    "    y_dummy = jnp.stack([y] * M, axis=0).reshape(N * M, D)\n",
    "\n",
    "    K = batch_kernel.matrix(x, y)\n",
    "    dx_K = vec_grad_x_K_fn(x_dummy, y_dummy).reshape(N, M, D)\n",
    "    dy_K = vec_grad_y_K_fn(x_dummy, y_dummy).reshape(N, M, D)\n",
    "    dxdy_K = vec_grad_xy_K_fn(x_dummy, y_dummy).reshape(N, M)\n",
    "\n",
    "    part1 = d_log_px @ d_log_py.T * K\n",
    "    part2 = (d_log_py[None, :] * dx_K).sum(-1)\n",
    "    part3 = (d_log_px[:, None, :] * dy_K).sum(-1)\n",
    "    part4 = dxdy_K\n",
    "\n",
    "    return part1 + part2 + part3 + part4\n",
    "\n"
   ]
  },
  {
   "cell_type": "code",
   "execution_count": 22,
   "id": "e1dca1f0-52f8-4e34-b044-9bb3fda3ed28",
   "metadata": {},
   "outputs": [],
   "source": [
    "eps = 1e-6\n",
    "\n",
    "def generate_data(rng_key, D, num):\n",
    "    rng_key, _ = jax.random.split(rng_key)\n",
    "    x = jax.random.uniform(rng_key, shape=(num, D - 1), minval=-1.0, maxval=1.0)\n",
    "    p = 1. / (1. + jnp.exp(- x.sum()))\n",
    "    rng_key, _ = jax.random.split(rng_key)\n",
    "    Y = jax.random.bernoulli(rng_key, p)\n",
    "    jnp.save(f'../data/sensitivity/data_y', Y)\n",
    "    jnp.save(f'../data/sensitivity/data_x', x)\n",
    "    return\n",
    "\n",
    "\n",
    "def log_posterior(beta, x, y, prior_cov):\n",
    "    \"\"\"\n",
    "    :param prior_cov: D*1 array\n",
    "    :param beta: D*1 array\n",
    "    :param x: N*2 array\n",
    "    :param y: N*1 array\n",
    "    :return:\n",
    "    \"\"\"\n",
    "    D = prior_cov.shape[0]\n",
    "    prior_cov = jnp.diag(prior_cov.squeeze())\n",
    "    log_prior_beta = jax.scipy.stats.multivariate_normal.logpdf(beta.squeeze(), mean=jnp.zeros([D]),\n",
    "                                                                cov=prior_cov).sum()\n",
    "    x_with_one = jnp.hstack([x, jnp.ones([x.shape[0], 1])])\n",
    "    p = jax.nn.sigmoid(x_with_one @ beta)\n",
    "    log_bern_llk = (y * jnp.log(p + eps) + (1 - y) * jnp.log(1 - p + eps)).sum()\n",
    "    return (log_bern_llk + log_prior_beta).squeeze()\n",
    "\n",
    "\n",
    "def MCMC(rng_key, nsamples, init_params, log_prob):\n",
    "    rng_key, _ = jax.random.split(rng_key)\n",
    "\n",
    "    @jax.jit\n",
    "    def run_chain(rng_key, state):\n",
    "        num_burnin_steps = int(100)\n",
    "        # kernel = tfp.mcmc.SimpleStepSizeAdaptation(\n",
    "        #     tfp.mcmc.HamiltonianMonteCarlo(\n",
    "        #         target_log_prob_fn=log_prob,\n",
    "        #         num_leapfrog_steps=3,\n",
    "        #         step_size=1.0),\n",
    "        #         num_adaptation_steps=int(num_burnin_steps * 0.8))\n",
    "\n",
    "        kernel = tfp.mcmc.NoUTurnSampler(log_prob, 1e-1)\n",
    "        return tfp.mcmc.sample_chain(num_results=nsamples,\n",
    "                                     num_burnin_steps=num_burnin_steps,\n",
    "                                     current_state=state,\n",
    "                                     kernel=kernel,\n",
    "                                     trace_fn=None,\n",
    "                                     seed=rng_key)\n",
    "\n",
    "    states = run_chain(rng_key, init_params)\n",
    "    # # Debug code\n",
    "    # fig = plt.figure(figsize=(15, 6))\n",
    "    # ax_0, ax_1, ax_2 = fig.subplots(1, 3)\n",
    "    #\n",
    "    # x = jnp.linspace(-3 * 10, 3 * 10, 100)\n",
    "    # beta_0_post = states[:, 0, :]\n",
    "    # ax_0.plot(x, jax.scipy.stats.norm.pdf(x, 0, 10), color='black', linewidth=5)\n",
    "    # ax_0.hist(np.array(beta_0_post), bins=10, alpha=0.8, density=True)\n",
    "    #\n",
    "    # x = jnp.linspace(-3 * 2.5, 3 * 2.5, 100)\n",
    "    # beta_1_post = states[:, 1, :]\n",
    "    # ax_1.plot(x, jax.scipy.stats.norm.pdf(x, 0, 2.5), color='black', linewidth=5)\n",
    "    # ax_1.hist(np.array(beta_1_post), bins=10, alpha=0.8, density=True)\n",
    "    #\n",
    "    # x = jnp.linspace(-3 * 2.5, 3 * 2.5, 100)\n",
    "    # beta_2_post = states[:, 2, :]\n",
    "    # ax_2.plot(x, jax.scipy.stats.norm.pdf(x, 0, 2.5), color='black', linewidth=5)\n",
    "    # ax_2.hist(np.array(beta_2_post), bins=10, alpha=0.8, density=True)\n",
    "    # plt.show()\n",
    "    # pause = True\n",
    "    return states\n",
    "\n",
    "def g(y):\n",
    "    \"\"\"\n",
    "    :param y: y is a N*3*1 array\n",
    "    \"\"\"\n",
    "    return (y ** 2).sum(1).squeeze(axis=-1)\n"
   ]
  },
  {
   "cell_type": "code",
   "execution_count": 23,
   "id": "0ae20d8d-7134-4242-837a-11ed7c4dd556",
   "metadata": {},
   "outputs": [],
   "source": [
    "from functools import partial\n",
    "\n",
    "seed = 0\n",
    "rng_key = jax.random.PRNGKey(seed)\n",
    "D = 10\n",
    "N_MCMC = 50\n",
    "\n",
    "prior_covariance = 5.0\n",
    "generate_data(rng_key, D, 20)\n",
    "X = jnp.load(f'../data/sensitivity/data_x.npy')\n",
    "Y = jnp.load(f'../data/sensitivity/data_y.npy')\n",
    "\n",
    "\n",
    "alpha_test = jax.random.uniform(rng_key, shape=(D, 1), minval=-1.0, maxval=1.0)\n",
    "cov_test = jnp.array([[prior_covariance] * D]).T + alpha_test\n",
    "log_prob = partial(log_posterior, x=X, y=Y, prior_cov=cov_test)\n",
    "\n",
    "grad_log_prob = jax.grad(log_prob, argnums=0)\n",
    "init_params = jnp.array([[0.] * D]).T\n",
    "states_test = MCMC(rng_key, N_MCMC * 5, init_params, log_prob)\n",
    "states_test = jnp.unique(states_test, axis=0)\n",
    "rng_key, _ = jax.random.split(rng_key)\n",
    "states_test = jax.random.permutation(rng_key, states_test)\n",
    "g_test_true = g(states_test).mean()\n",
    "\n",
    "d_log_pstates = grad_log_prob(states_test)\n"
   ]
  },
  {
   "cell_type": "code",
   "execution_count": 24,
   "id": "26828774-7cef-42db-9eeb-fb87c0937876",
   "metadata": {},
   "outputs": [],
   "source": [
    "l = 1.0\n",
    "K = stein_Matern(states_test.squeeze(), states_test.squeeze(), l, d_log_pstates.squeeze(), d_log_pstates.squeeze())"
   ]
  },
  {
   "cell_type": "code",
   "execution_count": 26,
   "id": "902837e9-3374-485f-9a83-cf9a2987a807",
   "metadata": {},
   "outputs": [
    {
     "data": {
      "text/plain": [
       "Array(-inf, dtype=float32)"
      ]
     },
     "execution_count": 26,
     "metadata": {},
     "output_type": "execute_result"
    }
   ],
   "source": [
    "jnp.linalg.det(K)"
   ]
  },
  {
   "cell_type": "code",
   "execution_count": 64,
   "id": "ea563c9c-d790-4f87-89d5-41a948f9a2b2",
   "metadata": {},
   "outputs": [],
   "source": [
    "a = jnp.nan"
   ]
  },
  {
   "cell_type": "code",
   "execution_count": 66,
   "id": "1d7862cc-aa89-430c-9c3e-bfd1e5c636df",
   "metadata": {},
   "outputs": [
    {
     "data": {
      "text/plain": [
       "Array(True, dtype=bool, weak_type=True)"
      ]
     },
     "execution_count": 66,
     "metadata": {},
     "output_type": "execute_result"
    }
   ],
   "source": [
    "jnp.isnan(a)"
   ]
  },
  {
   "cell_type": "code",
   "execution_count": null,
   "id": "9afa1d53-fa9f-4646-a47b-d45441888a64",
   "metadata": {},
   "outputs": [],
   "source": []
  }
 ],
 "metadata": {
  "kernelspec": {
   "display_name": "Python 3 (ipykernel)",
   "language": "python",
   "name": "python3"
  },
  "language_info": {
   "codemirror_mode": {
    "name": "ipython",
    "version": 3
   },
   "file_extension": ".py",
   "mimetype": "text/x-python",
   "name": "python",
   "nbconvert_exporter": "python",
   "pygments_lexer": "ipython3",
   "version": "3.8.5"
  }
 },
 "nbformat": 4,
 "nbformat_minor": 5
}
