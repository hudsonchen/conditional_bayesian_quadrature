{
 "cells": [
  {
   "cell_type": "code",
   "execution_count": 1,
   "metadata": {},
   "outputs": [],
   "source": [
    "import numpy as np\n",
    "import matplotlib.pyplot as plt\n",
    "from scipy import stats"
   ]
  },
  {
   "cell_type": "code",
   "execution_count": 12,
   "metadata": {},
   "outputs": [],
   "source": [
    "\n",
    "def kernel_12(x,y,lamb,l):\n",
    "    return (lamb**2)*jnp.exp(-(x-y)/l**2)\n",
    "\n",
    "def kernel_32(x,y,lamb,l):\n",
    "    return (lamb**2)*(1.+jnp.sqrt(3.)*(x-y)/(l**2))*jnp.exp(-jnp.sqrt(3.)*(x-y)/(l**2))\n",
    "\n",
    "def kernel_embedding_12(y,lamb,l,a,b):\n",
    "    return (lamb**2)*((b/(b+1./(l**2)))**a)*jnp.exp(y/l**2)\n",
    "\n",
    "def kernel_embedding_32(y,lamb,l,a,b):\n",
    "    aprime = a+1\n",
    "    bprime = b+(jnp.sqrt(3.)/(l**2))\n",
    "    poly_term = ((jnp.sqrt(3.)/l**2)*((b**a)/(bprime**aprime))*a)+(1.-(jnp.sqrt(3)/l**2)*y)*((b/bprime)**a)\n",
    "    exp_term = jnp.exp(jnp.sqrt(3.)*y/l**2)\n",
    "    return (lamb**2)*poly_term*exp_term\n",
    "\n",
    "def int_kernel_embedding_12(lamb,l,a,b):\n",
    "    return (lamb**2)*(b**(2.*a))/((b+1./(l**2))*(b-1./(l**2)))**a"
   ]
  },
  {
   "cell_type": "code",
   "execution_count": 20,
   "metadata": {},
   "outputs": [
    {
     "name": "stdout",
     "output_type": "stream",
     "text": [
      "16464.746\n",
      "16548.809\n",
      "\n",
      "1.036565\n",
      "1.0306101521283646\n",
      "\n",
      "-324423740.0\n",
      "-327238100.0\n"
     ]
    }
   ],
   "source": [
    "a=3.0\n",
    "b=10.\n",
    "l=1.0\n",
    "lamb = 1.0\n",
    "\n",
    "x = stats.gamma.rvs(a=a,scale=1./b,size=1000)\n",
    "y = 10.\n",
    "\n",
    "print(np.mean(kernel_12(x,y=y,lamb=lamb,l=l)))\n",
    "print(kernel_embedding_12(y=y,lamb=lamb,l=l,a=a,b=b))\n",
    "print(\"\")\n",
    "print(np.mean(kernel_embedding_12(y=x,lamb=lamb,l=l,a=a,b=b)))\n",
    "print(int_kernel_embedding_12(lamb=lamb,l=l,a=a,b=b))\n",
    "print(\"\")\n",
    "print(np.mean(kernel_32(x,y=y,lamb=lamb,l=l)))\n",
    "print(kernel_embedding_32(y=y,lamb=lamb,l=l,a=a,b=b))\n",
    "\n",
    "\n"
   ]
  },
  {
   "cell_type": "code",
   "execution_count": 14,
   "metadata": {},
   "outputs": [],
   "source": [
    "import jax\n",
    "import jax.numpy as jnp\n",
    "\n",
    "seed = 0\n",
    "rng_key = jax.random.PRNGKey(seed)\n",
    "\n",
    "\n",
    "beta_lab = 0.2\n",
    "rate = 10.0\n",
    "scale = 1. / rate\n",
    "a = 1 + rate * beta_lab\n",
    "b = 1. / scale\n",
    "\n",
    "interval = jnp.linspace(0, 1, 100)\n",
    "interval_pdf = jax.scipy.stats.gamma.pdf(interval, a=a, scale=scale)\n",
    "\n",
    "samples = jax.random.gamma(rng_key, a, shape=(2000, 1))\n",
    "samples = samples * scale\n"
   ]
  },
  {
   "cell_type": "code",
   "execution_count": 15,
   "metadata": {},
   "outputs": [
    {
     "data": {
      "text/plain": [
       "Array([[-109.93664   ],\n",
       "       [ -40.059834  ],\n",
       "       [   0.28787214],\n",
       "       ...,\n",
       "       [  -2.9851327 ],\n",
       "       [  -7.1764793 ],\n",
       "       [  -2.4165804 ]], dtype=float32)"
      ]
     },
     "execution_count": 15,
     "metadata": {},
     "output_type": "execute_result"
    }
   ],
   "source": [
    "kernel_embedding_32(samples, 1., l, a, b)"
   ]
  },
  {
   "cell_type": "code",
   "execution_count": 18,
   "metadata": {},
   "outputs": [
    {
     "data": {
      "text/plain": [
       "Array([[1.],\n",
       "       [1.],\n",
       "       [1.],\n",
       "       ...,\n",
       "       [1.],\n",
       "       [1.],\n",
       "       [1.]], dtype=float32)"
      ]
     },
     "execution_count": 18,
     "metadata": {},
     "output_type": "execute_result"
    }
   ],
   "source": [
    "kernel_32(samples, samples, 1.0, l)"
   ]
  },
  {
   "cell_type": "code",
   "execution_count": null,
   "metadata": {},
   "outputs": [],
   "source": []
  }
 ],
 "metadata": {
  "kernelspec": {
   "display_name": "Python 3 (ipykernel)",
   "language": "python",
   "name": "python3"
  },
  "language_info": {
   "codemirror_mode": {
    "name": "ipython",
    "version": 3
   },
   "file_extension": ".py",
   "mimetype": "text/x-python",
   "name": "python",
   "nbconvert_exporter": "python",
   "pygments_lexer": "ipython3",
   "version": "3.8.5"
  }
 },
 "nbformat": 4,
 "nbformat_minor": 4
}
