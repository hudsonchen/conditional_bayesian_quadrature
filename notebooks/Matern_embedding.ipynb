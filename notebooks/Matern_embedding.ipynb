{
 "cells": [
  {
   "cell_type": "code",
   "execution_count": 29,
   "id": "53982edd-9ea1-41d1-92b6-8eea4a790371",
   "metadata": {},
   "outputs": [],
   "source": [
    "import jax\n",
    "import jax.numpy as jnp\n",
    "from tensorflow_probability.substrates import jax as tfp\n",
    "from jax.scipy.stats import norm\n",
    "\n",
    "from jax.config import config\n",
    "\n",
    "config.update('jax_platform_name', 'cpu')\n",
    "config.update(\"jax_enable_x64\", True)\n"
   ]
  },
  {
   "cell_type": "code",
   "execution_count": 51,
   "id": "56f69aea-d92f-49c3-ba88-36ff7b046f13",
   "metadata": {},
   "outputs": [],
   "source": [
    "seed = 10\n",
    "rng_key = jax.random.PRNGKey(seed)\n",
    "\n",
    "D = 1\n",
    "N = 1000\n",
    "mean = jnp.zeros(D) + 0.0\n",
    "cov = jnp.eye(D) + 0.0\n",
    "\n",
    "rng_key, _ = jax.random.split(rng_key)\n",
    "x = jax.random.multivariate_normal(rng_key, mean, cov, shape=(N, ))\n",
    "rng_key, _ = jax.random.split(rng_key)\n",
    "y = jax.random.multivariate_normal(rng_key, mean, cov, shape=(2, ))\n"
   ]
  },
  {
   "cell_type": "code",
   "execution_count": 42,
   "id": "803427a3-c719-4054-8b26-b7bda0a80597",
   "metadata": {},
   "outputs": [],
   "source": [
    "l = 0.3\n",
    "\n",
    "kernel = tfp.math.psd_kernels.MaternThreeHalves(amplitude=1., length_scale=l)\n",
    "K = kernel.matrix(x, y)"
   ]
  },
  {
   "cell_type": "code",
   "execution_count": 43,
   "id": "a45164ca-ea91-403a-8088-68711a6c0788",
   "metadata": {},
   "outputs": [
    {
     "data": {
      "text/plain": [
       "Array([0.2578935, 0.2391616], dtype=float64)"
      ]
     },
     "execution_count": 43,
     "metadata": {},
     "output_type": "execute_result"
    }
   ],
   "source": [
    "K.mean(0)"
   ]
  },
  {
   "cell_type": "code",
   "execution_count": 49,
   "id": "e8cded52-ad81-4ea5-8d49-c29edcdd2b85",
   "metadata": {},
   "outputs": [],
   "source": [
    "def Matern_kme(y, l):\n",
    "    E10 = 1 - jnp.sqrt(3) * y / l\n",
    "    E11 = jnp.sqrt(3) / l\n",
    "    muA = -jnp.sqrt(3) / l\n",
    "\n",
    "    part11 = jnp.exp((3 + 2*jnp.sqrt(3) * y * l) / (2 * l ** 2))\n",
    "    part12 = (E10 + E11 * muA) * norm.cdf(muA - y)\n",
    "    part13 = E11 / jnp.sqrt(2 * jnp.pi) * jnp.exp(-(y - muA) ** 2 / 2)\n",
    "    part1 = part11 * (part12 + part13)\n",
    "\n",
    "    E20 = 1 + jnp.sqrt(3) * y / l\n",
    "    E21 = jnp.sqrt(3) / l\n",
    "    muB = jnp.sqrt(3) / l\n",
    "\n",
    "    part21 = jnp.exp((3 - 2*jnp.sqrt(3) * y * l) / (2 * l ** 2))\n",
    "    part22 = (E20 - E21 * muB) * norm.cdf(y - muB)\n",
    "    part23 = E21 / jnp.sqrt(2 * jnp.pi) * jnp.exp(-(y - muB) ** 2 / 2)\n",
    "    part2 = part21 * (part22 + part23)\n",
    "\n",
    "    final = part1 + part2\n",
    "    return final"
   ]
  },
  {
   "cell_type": "code",
   "execution_count": 50,
   "id": "58f15133-5771-4513-bda5-842d2e0c2324",
   "metadata": {},
   "outputs": [
    {
     "data": {
      "text/plain": [
       "Array([[0.25933702],\n",
       "       [0.23876826]], dtype=float64)"
      ]
     },
     "execution_count": 50,
     "metadata": {},
     "output_type": "execute_result"
    }
   ],
   "source": [
    "Matern_kme(y, l)"
   ]
  },
  {
   "cell_type": "code",
   "execution_count": 64,
   "id": "0015dc80-39d5-4810-9bb9-3c6297de65de",
   "metadata": {},
   "outputs": [],
   "source": [
    "seed = 10\n",
    "rng_key = jax.random.PRNGKey(seed)\n",
    "\n",
    "D = 2\n",
    "N = 100000\n",
    "mean = jnp.zeros(D) + 0.0\n",
    "cov = jnp.eye(D) + 0.0\n",
    "\n",
    "rng_key, _ = jax.random.split(rng_key)\n",
    "x = jax.random.multivariate_normal(rng_key, mean, cov, shape=(N, ))\n",
    "rng_key, _ = jax.random.split(rng_key)\n",
    "y = jax.random.multivariate_normal(rng_key, mean, cov, shape=(2, ))\n",
    "\n",
    "x1 = x[:, 0][:, None]\n",
    "x2 = x[:, 1][:, None]\n",
    "\n",
    "y1 = y[:, 0][:, None]\n",
    "y2 = y[:, 1][:, None]"
   ]
  },
  {
   "cell_type": "code",
   "execution_count": 65,
   "id": "6a92f841-9557-407f-81e2-003c60ca2a8d",
   "metadata": {},
   "outputs": [
    {
     "name": "stdout",
     "output_type": "stream",
     "text": [
      "[0.47497255 0.40209477]\n"
     ]
    }
   ],
   "source": [
    "K1 = kernel.matrix(x1, y1)\n",
    "K2 = kernel.matrix(x2, y2)\n",
    "K = K1 + K2\n",
    "\n",
    "print(K.mean(0))"
   ]
  },
  {
   "cell_type": "code",
   "execution_count": 66,
   "id": "76a9a762-dfe4-41a7-b3ce-8643760c0f48",
   "metadata": {},
   "outputs": [
    {
     "data": {
      "text/plain": [
       "Array([[0.47497702],\n",
       "       [0.40287098]], dtype=float64)"
      ]
     },
     "execution_count": 66,
     "metadata": {},
     "output_type": "execute_result"
    }
   ],
   "source": [
    "Matern_kme(y1, l) + Matern_kme(y2, l)"
   ]
  },
  {
   "cell_type": "code",
   "execution_count": null,
   "id": "8e717bac-2e2b-4bf0-bd5a-c15cfa107ca1",
   "metadata": {},
   "outputs": [],
   "source": []
  }
 ],
 "metadata": {
  "kernelspec": {
   "display_name": "Python 3 (ipykernel)",
   "language": "python",
   "name": "python3"
  },
  "language_info": {
   "codemirror_mode": {
    "name": "ipython",
    "version": 3
   },
   "file_extension": ".py",
   "mimetype": "text/x-python",
   "name": "python",
   "nbconvert_exporter": "python",
   "pygments_lexer": "ipython3",
   "version": "3.8.5"
  }
 },
 "nbformat": 4,
 "nbformat_minor": 5
}
