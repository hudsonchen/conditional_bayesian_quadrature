{
 "cells": [
  {
   "cell_type": "code",
   "execution_count": 1,
   "id": "c6459ca0-fcb0-4821-83c6-011454761194",
   "metadata": {},
   "outputs": [
    {
     "data": {
      "text/plain": [
       "<Figure size 432x288 with 0 Axes>"
      ]
     },
     "metadata": {},
     "output_type": "display_data"
    }
   ],
   "source": [
    "import jax.numpy as jnp\n",
    "import jax\n",
    "import matplotlib.pyplot as plt\n",
    "\n",
    "plt.rcParams['axes.grid'] = True\n",
    "plt.rcParams['font.family'] = 'DeJavu Serif'\n",
    "plt.rcParams['font.serif'] = ['Times New Roman']\n",
    "plt.rc('text', usetex=False)\n",
    "plt.rc('text.latex', preamble=r'\\usepackage{amsmath, amsfonts}')\n",
    "plt.tight_layout()"
   ]
  },
  {
   "cell_type": "code",
   "execution_count": 2,
   "id": "14586fcf-7676-49b6-8ca8-9759e40c530d",
   "metadata": {},
   "outputs": [],
   "source": [
    "def generate_data(rng_key, D, num):\n",
    "    rng_key, _ = jax.random.split(rng_key)\n",
    "    X = jax.random.uniform(rng_key, shape=(num, D - 1), minval=-1.0, maxval=1.0)\n",
    "    X_with_one = jnp.hstack([X, jnp.ones([X.shape[0], 1])])\n",
    "    rng_key, _ = jax.random.split(rng_key)\n",
    "    theta_true = jax.random.normal(rng_key, shape=(D, 1))\n",
    "    rng_key, _ = jax.random.split(rng_key)\n",
    "    Y = X_with_one @ theta_true + jax.random.normal(rng_key, shape=(num, 1)) * 0.1\n",
    "    return X, Y\n"
   ]
  },
  {
   "cell_type": "code",
   "execution_count": 25,
   "id": "3fb44720-080d-4506-ae91-8b2814f1e351",
   "metadata": {},
   "outputs": [
    {
     "data": {
      "text/plain": [
       "(5, 99)"
      ]
     },
     "execution_count": 25,
     "metadata": {},
     "output_type": "execute_result"
    }
   ],
   "source": [
    "X.shape"
   ]
  },
  {
   "cell_type": "code",
   "execution_count": 34,
   "id": "45d6f176-d1e5-4b4b-831a-f9c595057ed5",
   "metadata": {},
   "outputs": [],
   "source": [
    "seed = 0\n",
    "N = 10\n",
    "D = 10\n",
    "rng_key = jax.random.PRNGKey(seed)\n",
    "X, Y = generate_data(rng_key, D, N)"
   ]
  },
  {
   "cell_type": "code",
   "execution_count": 35,
   "id": "6d812a89-f52e-4b8d-b191-1fa63b06fe76",
   "metadata": {},
   "outputs": [],
   "source": [
    "\n",
    "X_with_one = jnp.hstack([X, jnp.ones([X.shape[0], 1])])\n",
    "alpha = 1.0\n",
    "noise = 1.0\n",
    "beta_inv = noise ** 2\n",
    "beta = 1.0 / beta_inv\n",
    "\n",
    "# S0 = jnp.eye(D) * (alpha ** 2)\n",
    "# S0_inv = jnp.eye(D) / (alpha ** 2)\n",
    "\n",
    "S0 = jnp.array([3.9073747 , 3.35371095, 2.01823147, 1.39685824, 2.56994901,\n",
    "       1.86908384, 2.94534884, 0.98075753, 1.31105521, 1.72276084])\n",
    "S0_inv = 1. / S0\n",
    "post_var = jnp.linalg.inv(S0_inv + beta * X_with_one.T @ X_with_one)\n",
    "post_mean = beta * post_var @ X_with_one.T @ Y"
   ]
  },
  {
   "cell_type": "code",
   "execution_count": 36,
   "id": "b3e4335a-b7c0-4151-9420-63442ca5ccfb",
   "metadata": {},
   "outputs": [
    {
     "data": {
      "text/plain": [
       "(10, 10)"
      ]
     },
     "execution_count": 36,
     "metadata": {},
     "output_type": "execute_result"
    }
   ],
   "source": [
    "post_var.shape"
   ]
  },
  {
   "cell_type": "code",
   "execution_count": 37,
   "id": "2c74d1b9-14df-4cca-b73a-e3b6906ae38a",
   "metadata": {},
   "outputs": [
    {
     "data": {
      "text/plain": [
       "Array([[ 1.26215756e+00,  1.30422723e+00,  3.04152459e-01,\n",
       "         1.22516501e+00, -1.06938159e+00, -3.63065213e-01,\n",
       "        -5.54028511e-01, -1.03014398e+00,  2.12765068e-01,\n",
       "        -1.05024672e+00],\n",
       "       [ 1.34952247e+00,  1.48744974e+01, -1.50931418e-01,\n",
       "         1.84455032e+01, -3.20692024e+01,  1.02471495e+01,\n",
       "         3.87143040e+00, -1.37015505e+01,  5.36401844e+00,\n",
       "        -7.32366037e+00],\n",
       "       [ 3.87818754e-01,  1.09541111e-01,  1.46934283e+00,\n",
       "        -4.83824700e-01,  1.72960436e+00, -1.72228467e+00,\n",
       "        -4.13324535e-01,  1.58927992e-01, -2.56601304e-01,\n",
       "        -6.93598926e-01],\n",
       "       [ 1.45977128e+00,  1.90809307e+01, -6.59168482e-01,\n",
       "         2.46175919e+01, -4.28255806e+01,  1.41356201e+01,\n",
       "         5.50361252e+00, -1.79536419e+01,  7.29637766e+00,\n",
       "        -9.34837437e+00],\n",
       "       [-1.48672092e+00, -3.32489204e+01,  1.95037591e+00,\n",
       "        -4.30811615e+01,  7.77629929e+01, -2.73443146e+01,\n",
       "        -1.07483425e+01,  3.12688808e+01, -1.28012409e+01,\n",
       "         1.56663675e+01],\n",
       "       [ 9.50830206e-02,  1.17672691e+01, -1.54894602e+00,\n",
       "         1.55817842e+01, -2.94178028e+01,  1.17846365e+01,\n",
       "         4.58330774e+00, -1.10071754e+01,  4.30873632e+00,\n",
       "        -5.08357430e+00],\n",
       "       [-7.53266811e-02,  5.49070501e+00, -1.75040066e-01,\n",
       "         7.17495680e+00, -1.32000160e+01,  4.89633560e+00,\n",
       "         2.60889268e+00, -5.11594248e+00,  1.99955285e+00,\n",
       "        -2.65817118e+00],\n",
       "       [-8.29912305e-01, -1.28814058e+01,  5.22417009e-01,\n",
       "        -1.65148087e+01,  2.89274578e+01, -9.43164444e+00,\n",
       "        -3.60652828e+00,  1.23895874e+01, -5.17484617e+00,\n",
       "         6.23353767e+00],\n",
       "       [ 2.80365735e-01,  5.55707169e+00, -2.88736969e-01,\n",
       "         7.34794044e+00, -1.28193226e+01,  3.99272108e+00,\n",
       "         1.62316942e+00, -5.54543543e+00,  2.97168732e+00,\n",
       "        -2.79591250e+00],\n",
       "       [-1.14698613e+00, -7.56170416e+00, -5.76983154e-01,\n",
       "        -9.22412205e+00,  1.53399477e+01, -4.24457455e+00,\n",
       "        -1.71542490e+00,  6.93292046e+00, -2.73884726e+00,\n",
       "         4.26878929e+00]], dtype=float32)"
      ]
     },
     "execution_count": 37,
     "metadata": {},
     "output_type": "execute_result"
    }
   ],
   "source": [
    "post_var"
   ]
  },
  {
   "cell_type": "code",
   "execution_count": 20,
   "id": "9c335860-e508-4cd4-9ec4-75894c5e6639",
   "metadata": {},
   "outputs": [
    {
     "data": {
      "text/plain": [
       "Array([[ 179.46677  ,  -40.934242 , -105.25525  , ...,  102.44061  ,\n",
       "        -115.86914  ,  -37.505043 ],\n",
       "       [ -40.931442 ,   96.346085 ,    9.560503 , ...,  -80.03364  ,\n",
       "          58.144325 ,   46.05656  ],\n",
       "       [-105.24153  ,    9.551741 ,  207.90834  , ...,   -7.9082127,\n",
       "          46.529602 ,   54.2076   ],\n",
       "       ...,\n",
       "       [ 102.44922  ,  -80.040215 ,   -7.9333763, ...,  188.06876  ,\n",
       "        -148.24524  , -225.19109  ],\n",
       "       [-115.876495 ,   58.149853 ,   46.548485 , ..., -148.24515  ,\n",
       "         155.4599   ,  173.8306   ],\n",
       "       [ -37.515766 ,   46.060238 ,   54.239174 , ..., -225.18677  ,\n",
       "         173.82985  ,  501.0203   ]], dtype=float32)"
      ]
     },
     "execution_count": 20,
     "metadata": {},
     "output_type": "execute_result"
    }
   ],
   "source": [
    "jnp.linalg.inv(post_var)"
   ]
  },
  {
   "cell_type": "code",
   "execution_count": null,
   "id": "f358cb7a-494c-4545-860b-2244b34ad546",
   "metadata": {},
   "outputs": [],
   "source": []
  },
  {
   "cell_type": "code",
   "execution_count": 197,
   "id": "e4957359-8c43-419d-9950-26fe2c9b5f07",
   "metadata": {},
   "outputs": [],
   "source": [
    "import numpy as np\n",
    "\n",
    "def log_posterior(theta, X, Y, prior_cov, noise):\n",
    "    \"\"\"\n",
    "    :param prior_cov: D*1 array\n",
    "    :param theta: D*1 array\n",
    "    :param X: N*(D-1) array\n",
    "    :param Y: N*1 array\n",
    "    :param noise: std for Gaussian likelihood\n",
    "    :return:\n",
    "    \"\"\"\n",
    "    D = prior_cov.shape[0]\n",
    "    N = Y.shape[0]\n",
    "    prior_cov = jnp.diag(prior_cov.squeeze())\n",
    "    log_prior = jax.scipy.stats.multivariate_normal.logpdf(theta.squeeze(),\n",
    "                                                           mean=jnp.zeros([D]),\n",
    "                                                           cov=prior_cov).sum()\n",
    "    X_with_one = jnp.hstack([X, jnp.ones([X.shape[0], 1])])\n",
    "    log_llk = jax.scipy.stats.multivariate_normal.logpdf((X_with_one @ theta - Y).squeeze(),\n",
    "                                                         mean=jnp.zeros([N]),\n",
    "                                                         cov=noise ** 2).sum()\n",
    "    return log_prior + log_llk\n",
    "\n",
    "def posterior_full(X, Y, prior_cov, noise):\n",
    "    \"\"\"\n",
    "    :param prior_cov: D*1 array\n",
    "    :param X: N*(D-1) array\n",
    "    :param Y: N*1 array\n",
    "    :param noise: float\n",
    "    :return:\n",
    "    \"\"\"\n",
    "    X_with_one = jnp.hstack([X, jnp.ones([X.shape[0], 1])])\n",
    "    prior_cov = jnp.diag(prior_cov.squeeze())\n",
    "    prior_cov_inv = jnp.diag(1. / prior_cov.squeeze())\n",
    "    beta_inv = noise ** 2\n",
    "    beta = 1. / beta_inv\n",
    "    post_cov = jnp.linalg.inv(prior_cov_inv + beta * X_with_one.T @ X_with_one)\n",
    "    post_mean = beta * post_cov @ X_with_one.T @ Y\n",
    "    return post_mean, post_cov\n",
    "\n",
    "\n",
    "def generate_data(rng_key, D, N, noise):\n",
    "    \"\"\"\n",
    "    :param rng_key:\n",
    "    :param D: int\n",
    "    :param N: int\n",
    "    :param noise: std for Gaussian likelihood\n",
    "    :return: X is N*(D-1), Y is N*1\n",
    "    \"\"\"\n",
    "    rng_key, _ = jax.random.split(rng_key)\n",
    "    X = jax.random.uniform(rng_key, shape=(N, D - 1), minval=-1.0, maxval=1.0)\n",
    "    X_with_one = jnp.hstack([X, jnp.ones([X.shape[0], 1])])\n",
    "    rng_key, _ = jax.random.split(rng_key)\n",
    "    theta_true = jax.random.normal(rng_key, shape=(D, 1))\n",
    "    rng_key, _ = jax.random.split(rng_key)\n",
    "    Y = X_with_one @ theta_true + jax.random.normal(rng_key, shape=(N, 1)) * noise\n",
    "    return X, Y\n",
    "\n",
    "\n",
    "log_posterior_vmap = jax.vmap(log_posterior, in_axes=(0, None, None, None, None), out_axes=0)\n",
    "\n",
    "from tensorflow_probability.substrates import jax as tfp\n",
    "\n",
    "def MCMC(rng_key, nsamples, init_params, log_prob, post_mean, post_var):\n",
    "    rng_key, _ = jax.random.split(rng_key)\n",
    "\n",
    "    @jax.jit\n",
    "    def run_chain(rng_key, state):\n",
    "        num_burnin_steps = int(5e3)\n",
    "        kernel = tfp.mcmc.SimpleStepSizeAdaptation(\n",
    "            tfp.mcmc.HamiltonianMonteCarlo(target_log_prob_fn=log_prob,\n",
    "                                           num_leapfrog_steps=30,\n",
    "                                           step_size=1e-2),\n",
    "                                           num_adaptation_steps=int(num_burnin_steps * 0.8))\n",
    "\n",
    "        # kernel = tfp.mcmc.NoUTurnSampler(log_prob, 1e-3)\n",
    "        # kernel = tfp.mcmc.RandomWalkMetropolis(log_prob)\n",
    "        return tfp.mcmc.sample_chain(num_results=nsamples,\n",
    "                                     num_burnin_steps=num_burnin_steps,\n",
    "                                     current_state=state,\n",
    "                                     kernel=kernel,\n",
    "                                     trace_fn=None,\n",
    "                                     seed=rng_key)\n",
    "\n",
    "    states = run_chain(rng_key, init_params)\n",
    "    # Debug code\n",
    "    fig = plt.figure(figsize=(15, 6))\n",
    "    ax_0, ax_1 = fig.subplots(1, 2)\n",
    "    prior_std = jnp.sqrt(jnp.diag(post_var))\n",
    "\n",
    "    x = jnp.linspace(post_mean[0] - 3 * prior_std[0], post_mean[0] + 3 * prior_std[0], 100)\n",
    "    beta_0_post = states[:, 0, :]\n",
    "    ax_0.plot(x, jax.scipy.stats.norm.pdf(x, post_mean[0], prior_std[0]), color='black', linewidth=5)\n",
    "    ax_0.hist(np.array(beta_0_post), bins=10, alpha=0.8, density=True)\n",
    "\n",
    "    x = jnp.linspace(post_mean[1] - 3 * prior_std[1], post_mean[1] + 3 * prior_std[1], 100)\n",
    "    beta_1_post = states[:, 1, :]\n",
    "    ax_1.plot(x, jax.scipy.stats.norm.pdf(x, post_mean[1], prior_std[1]), color='black', linewidth=5)\n",
    "    ax_1.hist(np.array(beta_1_post), bins=10, alpha=0.8, density=True)\n",
    "\n",
    "    plt.show()\n",
    "    # pause = True\n",
    "    return states\n"
   ]
  },
  {
   "cell_type": "code",
   "execution_count": 198,
   "id": "0c94112c-3909-4b78-8916-5ba417d2df19",
   "metadata": {},
   "outputs": [],
   "source": [
    "from functools import partial\n",
    "\n",
    "seed = 1\n",
    "rng_key = jax.random.PRNGKey(seed)\n",
    "D = 2\n",
    "N = 5\n",
    "prior_covariance = 5.0\n",
    "noise = 0.1\n",
    "X, Y = generate_data(rng_key, D, N, noise)\n",
    "\n",
    "# This is the test point\n",
    "alpha_test = jax.random.uniform(rng_key, shape=(D, 1), minval=-1.0, maxval=1.0)\n",
    "cov_test = jnp.array([[prior_covariance] * D]).T + alpha_test\n",
    "log_prob = partial(log_posterior, X=X, Y=Y, prior_cov=cov_test, noise=noise)\n",
    "grad_log_prob = jax.grad(log_prob, argnums=0)\n",
    "grad_log_prob_vmap = jax.vmap(grad_log_prob, in_axes=(0, ), out_axes=0)\n",
    "\n",
    "post_mean, post_var = posterior_full(X, Y, cov_test, noise)\n",
    "g_test_true = post_mean.sum()\n",
    "\n",
    "init_params = jnp.array([[0.] * D]).T"
   ]
  },
  {
   "cell_type": "code",
   "execution_count": 199,
   "id": "0b4448be-c502-4c04-bd6c-6d20d2fe03ae",
   "metadata": {},
   "outputs": [
    {
     "data": {
      "image/png": "[encoded data removed]",
      "text/plain": [
       "<Figure size 1080x432 with 2 Axes>"
      ]
     },
     "metadata": {
      "needs_background": "light"
     },
     "output_type": "display_data"
    }
   ],
   "source": [
    "init_params = jnp.array([[0.1] * D]).T\n",
    "states_test = MCMC(rng_key, N_MCMC, init_params, log_prob, post_mean, post_var)\n",
    "states_test = jnp.unique(states_test, axis=0)\n",
    "rng_key, _ = jax.random.split(rng_key)\n",
    "states_test = jax.random.permutation(rng_key, states_test)"
   ]
  },
  {
   "cell_type": "code",
   "execution_count": 147,
   "id": "b8f75829-de12-4ab1-9388-3dae1450c5a3",
   "metadata": {},
   "outputs": [],
   "source": [
    "def log_true_posterior(theta, mean, cov):\n",
    "    return jax.scipy.stats.multivariate_normal.logpdf(theta.squeeze(),\n",
    "                                                      mean=mean,\n",
    "                                                      cov=cov).sum()\n",
    "\n",
    "log_true_posterior = partial(log_true_posterior, mean=post_mean, cov=post_var)\n",
    "log_true_posterior_vmap = jax.vmap(log_true_posterior, in_axes=(0, ), out_axes=0)\n",
    "\n",
    "grad_log_true_posterior = jax.grad(log_true_posterior)\n",
    "grad_log_true_posterior_vmap = jax.vmap(grad_log_true_posterior, in_axes=(0, ), out_axes=0)"
   ]
  },
  {
   "cell_type": "code",
   "execution_count": 129,
   "id": "96af78be-25bc-4fbb-80cc-de50aecb98f4",
   "metadata": {},
   "outputs": [
    {
     "data": {
      "text/plain": [
       "<matplotlib.collections.PathCollection at 0x7ff302b5c7c0>"
      ]
     },
     "execution_count": 129,
     "metadata": {},
     "output_type": "execute_result"
    },
    {
     "data": {
      "image/png": "[encoded data removed]",
      "text/plain": [
       "<Figure size 432x288 with 1 Axes>"
      ]
     },
     "metadata": {
      "needs_background": "light"
     },
     "output_type": "display_data"
    },
    {
     "data": {
      "image/png": "[encoded data removed]",
      "text/plain": [
       "<Figure size 432x288 with 1 Axes>"
      ]
     },
     "metadata": {
      "needs_background": "light"
     },
     "output_type": "display_data"
    }
   ],
   "source": [
    "x, y = jnp.mgrid[-0.5:0.2:.01, -1:0:.01]\n",
    "pos = jnp.dstack((x, y)).reshape([-1, 2])\n",
    "V = log_posterior_vmap(pos, X, Y, cov_test, noise)\n",
    "\n",
    "fig2 = plt.figure()\n",
    "ax2 = fig2.add_subplot(111)\n",
    "ax2.contourf(x, y, V.reshape([70, 100]), levels=20)\n",
    "ax2.scatter(post_mean[0], post_mean[1])\n",
    "\n",
    "\n",
    "\n",
    "x, y = jnp.mgrid[-0.5:0.2:.01, -1:0:.01]\n",
    "pos = jnp.dstack((x, y)).reshape([-1, 2])\n",
    "grad_V = grad_log_prob_vmap(pos).sum(-1)\n",
    "\n",
    "fig2 = plt.figure()\n",
    "ax2 = fig2.add_subplot(111)\n",
    "ax2.contourf(x, y, grad_V.reshape([70, 100]), levels=20)\n",
    "ax2.scatter(post_mean[0], post_mean[1])"
   ]
  },
  {
   "cell_type": "code",
   "execution_count": 149,
   "id": "fb01434a-7d79-4047-8483-49160af094f7",
   "metadata": {},
   "outputs": [
    {
     "data": {
      "text/plain": [
       "<matplotlib.collections.PathCollection at 0x7ff3041c2310>"
      ]
     },
     "execution_count": 149,
     "metadata": {},
     "output_type": "execute_result"
    },
    {
     "data": {
      "image/png": "[encoded data removed]",
      "text/plain": [
       "<Figure size 432x288 with 1 Axes>"
      ]
     },
     "metadata": {
      "needs_background": "light"
     },
     "output_type": "display_data"
    },
    {
     "data": {
      "image/png": "[encoded data removed]",
      "text/plain": [
       "<Figure size 432x288 with 1 Axes>"
      ]
     },
     "metadata": {
      "needs_background": "light"
     },
     "output_type": "display_data"
    }
   ],
   "source": [
    "x, y = jnp.mgrid[-0.5:0.2:.01, -1:0:.01]\n",
    "pos = jnp.dstack((x, y)).reshape([-1, 2])\n",
    "V = log_true_posterior_vmap(pos)\n",
    "\n",
    "fig2 = plt.figure()\n",
    "ax2 = fig2.add_subplot(111)\n",
    "ax2.contourf(x, y, V.reshape([70, 100]), levels=20)\n",
    "ax2.scatter(post_mean[0], post_mean[1])\n",
    "\n",
    "\n",
    "x, y = jnp.mgrid[-0.5:0.2:.01, -1:0:.01]\n",
    "pos = jnp.dstack((x, y)).reshape([-1, 2])\n",
    "grad_V = grad_log_true_posterior_vmap(pos).sum(-1)\n",
    "\n",
    "fig2 = plt.figure()\n",
    "ax2 = fig2.add_subplot(111)\n",
    "ax2.contourf(x, y, grad_V.reshape([70, 100]), levels=20)\n",
    "ax2.scatter(post_mean[0], post_mean[1])"
   ]
  },
  {
   "cell_type": "code",
   "execution_count": 169,
   "id": "dc69ce60-d2cb-4c8b-bbc6-62ba44dddb1f",
   "metadata": {},
   "outputs": [
    {
     "name": "stdout",
     "output_type": "stream",
     "text": [
      "[ 59.167038 221.34514 ]\n",
      "[ 58.991753 221.25073 ]\n"
     ]
    }
   ],
   "source": [
    "print(grad_log_true_posterior(pos[0, :]))\n",
    "\n",
    "print(grad_log_prob(pos[0, :]))"
   ]
  },
  {
   "cell_type": "code",
   "execution_count": 167,
   "id": "8096c218-c5bd-4be2-9cd7-7c04e6ecbd98",
   "metadata": {},
   "outputs": [
    {
     "data": {
      "text/plain": [
       "(7000, 2)"
      ]
     },
     "execution_count": 167,
     "metadata": {},
     "output_type": "execute_result"
    }
   ],
   "source": [
    "pos.shape"
   ]
  },
  {
   "cell_type": "code",
   "execution_count": 161,
   "id": "19969017-c254-4dde-a4b0-90be4ea01a03",
   "metadata": {},
   "outputs": [
    {
     "data": {
      "text/plain": [
       "Array([-0.09493171, -0.01821168], dtype=float32)"
      ]
     },
     "execution_count": 161,
     "metadata": {},
     "output_type": "execute_result"
    }
   ],
   "source": [
    "grad_log_prob(post_mean)"
   ]
  },
  {
   "cell_type": "code",
   "execution_count": 160,
   "id": "601d3be1-fa4c-46d8-bf03-4117ac537a56",
   "metadata": {},
   "outputs": [
    {
     "data": {
      "text/plain": [
       "Array([0., 0.], dtype=float32)"
      ]
     },
     "execution_count": 160,
     "metadata": {},
     "output_type": "execute_result"
    }
   ],
   "source": [
    "grad_log_true_posterior(post_mean)"
   ]
  },
  {
   "cell_type": "code",
   "execution_count": 52,
   "id": "8f965b31-25a3-4e66-b2ba-d80f230f8037",
   "metadata": {},
   "outputs": [
    {
     "data": {
      "text/plain": [
       "(2,)"
      ]
     },
     "execution_count": 52,
     "metadata": {},
     "output_type": "execute_result"
    }
   ],
   "source": [
    "post_mean.shape"
   ]
  },
  {
   "cell_type": "code",
   "execution_count": 130,
   "id": "9c568bf4-f714-4b00-89c0-56fc5de8108d",
   "metadata": {},
   "outputs": [],
   "source": [
    "def log_posterior_1(theta, X, Y, prior_cov, noise):\n",
    "    \"\"\"\n",
    "    :param prior_cov: D*1 array\n",
    "    :param theta: D*1 array\n",
    "    :param X: N*(D-1) array\n",
    "    :param Y: N*1 array\n",
    "    :param noise: std for Gaussian likelihood\n",
    "    :return:\n",
    "    \"\"\"\n",
    "    D = prior_cov.shape[0]\n",
    "    N = Y.shape[0]\n",
    "    prior_cov = jnp.diag(prior_cov.squeeze())\n",
    "    log_prior = jax.scipy.stats.multivariate_normal.logpdf(theta.squeeze(),\n",
    "                                                           mean=jnp.zeros([D]),\n",
    "                                                           cov=prior_cov).sum()\n",
    "    return log_prior + log_llk\n",
    "\n",
    "\n",
    "def log_posterior_2(theta, X, Y, prior_cov, noise):\n",
    "    \"\"\"\n",
    "    :param prior_cov: D*1 array\n",
    "    :param theta: D*1 array\n",
    "    :param X: N*(D-1) array\n",
    "    :param Y: N*1 array\n",
    "    :param noise: std for Gaussian likelihood\n",
    "    :return:\n",
    "    \"\"\"\n",
    "    D = prior_cov.shape[0]\n",
    "    N = Y.shape[0]\n",
    "    prior_cov = jnp.diag(prior_cov.squeeze())\n",
    "    log_prior = jax.scipy.stats.multivariate_normal.logpdf(theta,\n",
    "                                                           mean=jnp.zeros([D]),\n",
    "                                                           cov=prior_cov).sum()\n",
    "    return log_prior + log_llk"
   ]
  },
  {
   "cell_type": "code",
   "execution_count": 131,
   "id": "f9041479-fd14-4955-b15f-9c15e6c9b11c",
   "metadata": {},
   "outputs": [],
   "source": [
    "log_prob_1 = partial(log_posterior_1, X=X, Y=Y, prior_cov=cov_test, noise=noise)\n",
    "grad_log_prob_1 = jax.grad(log_prob_1, argnums=0)\n",
    "\n",
    "log_prob_2 = partial(log_posterior_2, X=X, Y=Y, prior_cov=cov_test, noise=noise)\n",
    "grad_log_prob_2 = jax.grad(log_prob_2, argnums=0)"
   ]
  },
  {
   "cell_type": "code",
   "execution_count": 132,
   "id": "42f17e13-5ac1-4b85-9226-bad7ec59c369",
   "metadata": {},
   "outputs": [
    {
     "data": {
      "text/plain": [
       "Array([[0.1],\n",
       "       [0.1]], dtype=float32)"
      ]
     },
     "execution_count": 132,
     "metadata": {},
     "output_type": "execute_result"
    }
   ],
   "source": [
    "init_params"
   ]
  },
  {
   "cell_type": "code",
   "execution_count": 133,
   "id": "4370ad6d-e1f3-441f-a09e-3680b7e68925",
   "metadata": {},
   "outputs": [
    {
     "data": {
      "text/plain": [
       "Array([[-0.0203769 ],\n",
       "       [-0.01674181]], dtype=float32)"
      ]
     },
     "execution_count": 133,
     "metadata": {},
     "output_type": "execute_result"
    }
   ],
   "source": [
    "grad_log_prob_1(init_params)"
   ]
  },
  {
   "cell_type": "code",
   "execution_count": null,
   "id": "c7dd4c9f-67e4-474b-b938-b3e460b3358c",
   "metadata": {},
   "outputs": [],
   "source": []
  },
  {
   "cell_type": "code",
   "execution_count": null,
   "id": "9cb07aad-8534-4174-966c-d8ef4385f340",
   "metadata": {},
   "outputs": [],
   "source": [
    "log_prior = jax.scipy.stats.multivariate_normal.logpdf(theta.squeeze(),\n",
    "                                                           mean=jnp.zeros([D]),\n",
    "                                                           cov=prior_cov).sum()"
   ]
  },
  {
   "cell_type": "code",
   "execution_count": 154,
   "id": "b258b967-74ae-4458-abef-02aa7a82f560",
   "metadata": {},
   "outputs": [],
   "source": [
    "f = partial(jax.scipy.stats.multivariate_normal.logpdf, mean=0., cov=1.)\n",
    "f_vmap = jax.vmap(f, in_axes=(0, ), out_axes=0)\n"
   ]
  },
  {
   "cell_type": "code",
   "execution_count": 155,
   "id": "9e743c79-7a28-4c2f-b664-f180ece98672",
   "metadata": {},
   "outputs": [
    {
     "data": {
      "image/png": "[encoded data removed]",
      "text/plain": [
       "<Figure size 432x288 with 1 Axes>"
      ]
     },
     "metadata": {
      "needs_background": "light"
     },
     "output_type": "display_data"
    }
   ],
   "source": [
    "plt.figure()\n",
    "a = jnp.linspace(-1, 1, 100)\n",
    "plt.plot(a, f(a))\n",
    "plt.show()"
   ]
  },
  {
   "cell_type": "code",
   "execution_count": 156,
   "id": "54130d6b-e1b9-44e4-9525-97bf9da4f896",
   "metadata": {},
   "outputs": [
    {
     "data": {
      "text/plain": [
       "Array(-0.9189385, dtype=float32, weak_type=True)"
      ]
     },
     "execution_count": 156,
     "metadata": {},
     "output_type": "execute_result"
    }
   ],
   "source": [
    "jnp.log(1. / jnp.sqrt(2 * jnp.pi) * jnp.exp(0))"
   ]
  },
  {
   "cell_type": "code",
   "execution_count": 157,
   "id": "0ce5b2e9-5ca7-446e-863c-499b4bb45902",
   "metadata": {},
   "outputs": [],
   "source": [
    "grad_f = jax.grad(f)\n",
    "\n",
    "grad_f_vmap = jax.vmap(grad_f, in_axes=(0, ), out_axes=0)\n"
   ]
  },
  {
   "cell_type": "code",
   "execution_count": 159,
   "id": "bd57c32c-e172-48fc-839a-0b4109e47b90",
   "metadata": {},
   "outputs": [
    {
     "data": {
      "image/png": "[encoded data removed]",
      "text/plain": [
       "<Figure size 432x288 with 1 Axes>"
      ]
     },
     "metadata": {
      "needs_background": "light"
     },
     "output_type": "display_data"
    }
   ],
   "source": [
    "plt.figure()\n",
    "a = jnp.linspace(-1, 1, 100)\n",
    "plt.plot(a, grad_f_vmap(a))\n",
    "plt.show()"
   ]
  },
  {
   "cell_type": "code",
   "execution_count": null,
   "id": "27945a22-515a-4974-8977-e3a6ff9acdeb",
   "metadata": {},
   "outputs": [],
   "source": []
  },
  {
   "cell_type": "code",
   "execution_count": null,
   "id": "24393397-4112-4ed4-abc1-e74262346048",
   "metadata": {},
   "outputs": [],
   "source": []
  },
  {
   "cell_type": "code",
   "execution_count": null,
   "id": "59f51d54-9c47-4cec-82c9-79a40bf3aa07",
   "metadata": {},
   "outputs": [],
   "source": []
  },
  {
   "cell_type": "code",
   "execution_count": 176,
   "id": "b0929d67-180c-4424-9ee9-c417abb85253",
   "metadata": {},
   "outputs": [],
   "source": [
    "def log_posterior(theta, X, Y, prior_cov, noise):\n",
    "    \"\"\"\n",
    "    :param prior_cov: D*1 array\n",
    "    :param theta: D*1 array\n",
    "    :param X: N*(D-1) array\n",
    "    :param Y: N*1 array\n",
    "    :param noise: std for Gaussian likelihood\n",
    "    :return:\n",
    "    \"\"\"\n",
    "    D = prior_cov.shape[0]\n",
    "    N = Y.shape[0]\n",
    "    prior_cov = jnp.diag(prior_cov.squeeze())\n",
    "    log_prior = jax.scipy.stats.multivariate_normal.logpdf(theta.squeeze(),\n",
    "                                                           mean=jnp.zeros([D]),\n",
    "                                                           cov=prior_cov).sum()\n",
    "    X_with_one = jnp.hstack([X, jnp.ones([X.shape[0], 1])])\n",
    "    log_llk = jax.scipy.stats.multivariate_normal.logpdf((X_with_one @ theta - Y).squeeze(),\n",
    "                                                         mean=jnp.zeros([N]),\n",
    "                                                         cov=noise ** 2).sum()\n",
    "    return log_prior\n",
    "\n",
    "\n",
    "log_prob = partial(log_posterior, X=X, Y=Y, prior_cov=cov_test, noise=noise)\n",
    "grad_log_posterior = jax.grad(log_prob)"
   ]
  },
  {
   "cell_type": "code",
   "execution_count": 171,
   "id": "15ddd85c-1f05-44a9-b980-b290f38f00ba",
   "metadata": {},
   "outputs": [],
   "source": [
    "theta = jnp.array([[0.1] * D]).T"
   ]
  },
  {
   "cell_type": "code",
   "execution_count": 178,
   "id": "c1470398-4fb7-4432-aebc-90c5a76c4af6",
   "metadata": {},
   "outputs": [
    {
     "data": {
      "text/plain": [
       "(2, 1)"
      ]
     },
     "execution_count": 178,
     "metadata": {},
     "output_type": "execute_result"
    }
   ],
   "source": [
    "theta.shape"
   ]
  },
  {
   "cell_type": "code",
   "execution_count": 173,
   "id": "76ad2e09-0cd5-4393-bf32-16a039553c27",
   "metadata": {},
   "outputs": [
    {
     "data": {
      "text/plain": [
       "Array([[4.9075174],\n",
       "       [5.973068 ]], dtype=float32)"
      ]
     },
     "execution_count": 173,
     "metadata": {},
     "output_type": "execute_result"
    }
   ],
   "source": [
    "cov_test"
   ]
  },
  {
   "cell_type": "code",
   "execution_count": 179,
   "id": "baab5fc9-3719-4802-9faf-923049ca8fd2",
   "metadata": {},
   "outputs": [
    {
     "data": {
      "text/plain": [
       "Array([[-0.0203769 ],\n",
       "       [-0.01674181]], dtype=float32)"
      ]
     },
     "execution_count": 179,
     "metadata": {},
     "output_type": "execute_result"
    }
   ],
   "source": [
    "-jnp.diag(1. / cov_test.squeeze()) @ theta"
   ]
  },
  {
   "cell_type": "code",
   "execution_count": 177,
   "id": "3735e51e-da9a-45b8-b137-6f86912878c9",
   "metadata": {},
   "outputs": [
    {
     "data": {
      "text/plain": [
       "Array([[-0.0203769 ],\n",
       "       [-0.01674181]], dtype=float32)"
      ]
     },
     "execution_count": 177,
     "metadata": {},
     "output_type": "execute_result"
    }
   ],
   "source": [
    "grad_log_posterior(theta)"
   ]
  },
  {
   "cell_type": "code",
   "execution_count": null,
   "id": "1c4c58d5-a4af-4f00-8397-bf2545ab837d",
   "metadata": {},
   "outputs": [],
   "source": []
  },
  {
   "cell_type": "code",
   "execution_count": null,
   "id": "9b90995a-f315-4214-b583-5d835a2648cc",
   "metadata": {},
   "outputs": [],
   "source": []
  },
  {
   "cell_type": "code",
   "execution_count": 180,
   "id": "d291cd13-d581-4eba-be62-1d5d6f7020c2",
   "metadata": {},
   "outputs": [],
   "source": [
    "def log_posterior(theta, X, Y, prior_cov, noise):\n",
    "    \"\"\"\n",
    "    :param prior_cov: D*1 array\n",
    "    :param theta: D*1 array\n",
    "    :param X: N*(D-1) array\n",
    "    :param Y: N*1 array\n",
    "    :param noise: std for Gaussian likelihood\n",
    "    :return:\n",
    "    \"\"\"\n",
    "    D = prior_cov.shape[0]\n",
    "    N = Y.shape[0]\n",
    "    prior_cov = jnp.diag(prior_cov.squeeze())\n",
    "    log_prior = jax.scipy.stats.multivariate_normal.logpdf(theta.squeeze(),\n",
    "                                                           mean=jnp.zeros([D]),\n",
    "                                                           cov=prior_cov).sum()\n",
    "    X_with_one = jnp.hstack([X, jnp.ones([X.shape[0], 1])])\n",
    "    log_llk = jax.scipy.stats.multivariate_normal.logpdf((X_with_one @ theta - Y).squeeze(),\n",
    "                                                         mean=jnp.zeros([N]),\n",
    "                                                         cov=noise ** 2).sum()\n",
    "    return log_llk\n",
    "\n",
    "\n",
    "log_prob = partial(log_posterior, X=X, Y=Y, prior_cov=cov_test, noise=noise)\n",
    "grad_log_posterior = jax.grad(log_prob)"
   ]
  },
  {
   "cell_type": "code",
   "execution_count": 182,
   "id": "74998494-bb8e-4939-a482-4d59f6bdb5ac",
   "metadata": {},
   "outputs": [
    {
     "data": {
      "text/plain": [
       "Array([[22.32974 ],\n",
       "       [19.979633],\n",
       "       [20.570786],\n",
       "       [20.407553],\n",
       "       [20.963993]], dtype=float32)"
      ]
     },
     "execution_count": 182,
     "metadata": {},
     "output_type": "execute_result"
    }
   ],
   "source": [
    "- (Y - X_with_one @ theta).T @ X / (noise ** 2)"
   ]
  },
  {
   "cell_type": "code",
   "execution_count": 186,
   "id": "9821f745-32c1-4fed-ab17-b425392f8d28",
   "metadata": {},
   "outputs": [
    {
     "data": {
      "text/plain": [
       "(5, 5)"
      ]
     },
     "execution_count": 186,
     "metadata": {},
     "output_type": "execute_result"
    }
   ],
   "source": [
    "(Y - X_with_one @ theta).shape"
   ]
  },
  {
   "cell_type": "code",
   "execution_count": 185,
   "id": "5c0edf19-3b0d-4754-b13d-e5d8a22df6f4",
   "metadata": {},
   "outputs": [
    {
     "data": {
      "text/plain": [
       "(5,)"
      ]
     },
     "execution_count": 185,
     "metadata": {},
     "output_type": "execute_result"
    }
   ],
   "source": [
    "Y - "
   ]
  },
  {
   "cell_type": "code",
   "execution_count": null,
   "id": "072a71cb-6d2c-43fc-9dfb-0ec819ad5dc2",
   "metadata": {},
   "outputs": [],
   "source": []
  }
 ],
 "metadata": {
  "kernelspec": {
   "display_name": "Python 3 (ipykernel)",
   "language": "python",
   "name": "python3"
  },
  "language_info": {
   "codemirror_mode": {
    "name": "ipython",
    "version": 3
   },
   "file_extension": ".py",
   "mimetype": "text/x-python",
   "name": "python",
   "nbconvert_exporter": "python",
   "pygments_lexer": "ipython3",
   "version": "3.8.5"
  }
 },
 "nbformat": 4,
 "nbformat_minor": 5
}
