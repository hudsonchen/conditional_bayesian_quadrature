{
 "cells": [
  {
   "cell_type": "code",
   "execution_count": 17,
   "id": "6c3bf0ba-88c4-4f46-872e-169c09e2f32f",
   "metadata": {},
   "outputs": [],
   "source": [
    "import numpy as np\n",
    "import matplotlib.pyplot as plt\n",
    "import jax\n",
    "import jax.numpy as jnp\n",
    "from tensorflow_probability.substrates import jax as tfp\n",
    "from functools import partial\n"
   ]
  },
  {
   "cell_type": "code",
   "execution_count": 18,
   "id": "4f943db1-d4ad-4cc2-bed0-0b5867869115",
   "metadata": {},
   "outputs": [],
   "source": [
    "@jax.jit\n",
    "def kme_RBF_Gaussian(mu, Sigma, l, y):\n",
    "    \"\"\"\n",
    "    :param mu: Gaussian mean, (D, )\n",
    "    :param Sigma: Gaussian covariance, (D, D)\n",
    "    :param l: lengthscale, scalar\n",
    "    :param y: sample: (N, D)\n",
    "    :return:\n",
    "    \"\"\"\n",
    "    kme_RBF_Gaussian_func_ = partial(kme_RBF_Gaussian_func, mu, Sigma, l)\n",
    "    kme_RBF_Gaussian_vmap_func = jax.vmap(kme_RBF_Gaussian_func_)\n",
    "    return kme_RBF_Gaussian_vmap_func(y)\n",
    "\n",
    "\n",
    "@jax.jit\n",
    "def kme_RBF_Gaussian_func(mu, Sigma, l, y):\n",
    "    \"\"\"\n",
    "    :param mu: Gaussian mean, (D, )\n",
    "    :param Sigma: Gaussian covariance, (D, D)\n",
    "    :param l: lengthscale, scalar\n",
    "    :param y: sample: D,\n",
    "    :return: scalar\n",
    "    \"\"\"\n",
    "    # From the kernel mean embedding document\n",
    "    D = mu.shape[0]\n",
    "    l_ = l ** 2\n",
    "    Lambda = jnp.eye(D) * l_\n",
    "    Lambda_inv = jnp.eye(D) / l_\n",
    "    part1 = jnp.linalg.det(jnp.eye(D) + Sigma @ Lambda_inv)\n",
    "    part2 = jnp.exp(-0.5 * (mu - y).T @ jnp.linalg.inv(Lambda + Sigma) @ (mu - y))\n",
    "    return part1 ** (-0.5) * part2\n",
    "\n",
    "@jax.jit\n",
    "def my_RBF(x, y, l):\n",
    "    \"\"\"\n",
    "    :param x: N*D\n",
    "    :param y: M*D\n",
    "    :param l: scalar\n",
    "    :return: N*M\n",
    "    \"\"\"\n",
    "    kernel = tfp.math.psd_kernels.ExponentiatedQuadratic(amplitude=1., length_scale=l)\n",
    "    K = kernel.matrix(x, y)\n",
    "    return K"
   ]
  },
  {
   "cell_type": "code",
   "execution_count": 68,
   "id": "85474387-e269-4656-872e-64f15cf15fbf",
   "metadata": {},
   "outputs": [],
   "source": [
    "seed = 1\n",
    "rng_key = jax.random.PRNGKey(seed)\n",
    "D = 10\n",
    "N = 10\n",
    "\n",
    "rng_key, _ = jax.random.split(rng_key)\n",
    "mean = jax.random.uniform(rng_key, shape=(D, ), minval=0.0, maxval=1.0)\n",
    "\n",
    "rng_key, _ = jax.random.split(rng_key)\n",
    "dummy = jax.random.uniform(rng_key, shape=(D, 100), minval=0.0, maxval=0.1)\n",
    "var = dummy @ dummy.T + jnp.eye(D)\n",
    "\n",
    "l = 1.0\n",
    "rng_key, _ = jax.random.split(rng_key)\n",
    "y = jax.random.multivariate_normal(rng_key, mean=mean, cov=var, shape=(N, ))\n",
    "rng_key, _ = jax.random.split(rng_key)\n",
    "y_fixed = jax.random.multivariate_normal(rng_key, mean=mean, cov=var, shape=(10, ))\n",
    "\n",
    "K = my_RBF(y_fixed, y, l)\n",
    "kme = kme_RBF_Gaussian(mean, var, l, y_fixed)"
   ]
  },
  {
   "cell_type": "code",
   "execution_count": 69,
   "id": "54d659e8-0870-456a-969d-0b528df2ee3e",
   "metadata": {},
   "outputs": [
    {
     "data": {
      "text/plain": [
       "Array([8.7965076e-04, 4.5721470e-03, 1.2602427e-04, 2.1201411e-05,\n",
       "       2.3726935e-03, 4.6493388e-03, 4.3867859e-03, 2.3953275e-04,\n",
       "       1.1579233e-03, 3.4512789e-04], dtype=float32)"
      ]
     },
     "execution_count": 69,
     "metadata": {},
     "output_type": "execute_result"
    }
   ],
   "source": [
    "K.mean(1)"
   ]
  },
  {
   "cell_type": "code",
   "execution_count": 70,
   "id": "412982f6-1f7f-4d04-90bd-45c8fb860790",
   "metadata": {},
   "outputs": [
    {
     "data": {
      "text/plain": [
       "Array([0.0010185 , 0.01007888, 0.00100589, 0.00078874, 0.00124499,\n",
       "       0.0027315 , 0.00986949, 0.00081317, 0.00297458, 0.00039722],      dtype=float32)"
      ]
     },
     "execution_count": 70,
     "metadata": {},
     "output_type": "execute_result"
    }
   ],
   "source": [
    "kme"
   ]
  },
  {
   "cell_type": "code",
   "execution_count": 57,
   "id": "4e7b4b3a-cfc5-4775-9c86-eace2b6cbb57",
   "metadata": {},
   "outputs": [
    {
     "data": {
      "text/plain": [
       "Array([[1.3641884 , 0.2633632 , 0.2464004 , 0.27786878, 0.26133367,\n",
       "        0.25889683, 0.2586669 , 0.2575637 , 0.30468386, 0.25391233],\n",
       "       [0.2633632 , 1.3181638 , 0.22231829, 0.2663336 , 0.24106838,\n",
       "        0.2320017 , 0.23834854, 0.2182107 , 0.2695743 , 0.22789618],\n",
       "       [0.2464004 , 0.22231829, 1.3087564 , 0.23935854, 0.2408936 ,\n",
       "        0.22616975, 0.21328543, 0.21933575, 0.26172552, 0.21886317],\n",
       "       [0.27786878, 0.2663336 , 0.23935854, 1.3690783 , 0.26243916,\n",
       "        0.25589228, 0.23990871, 0.23971394, 0.30577105, 0.24893215],\n",
       "       [0.26133367, 0.24106838, 0.2408936 , 0.26243916, 1.3118457 ,\n",
       "        0.24977423, 0.2408855 , 0.2263063 , 0.2831559 , 0.23346937],\n",
       "       [0.25889683, 0.2320017 , 0.22616975, 0.25589228, 0.24977423,\n",
       "        1.3196143 , 0.24970306, 0.23052216, 0.27194983, 0.23551844],\n",
       "       [0.2586669 , 0.23834854, 0.21328543, 0.23990871, 0.2408855 ,\n",
       "        0.24970306, 1.3046267 , 0.22181647, 0.28493407, 0.24839784],\n",
       "       [0.2575637 , 0.2182107 , 0.21933575, 0.23971394, 0.2263063 ,\n",
       "        0.23052216, 0.22181647, 1.3139527 , 0.25833708, 0.21118562],\n",
       "       [0.30468386, 0.2695743 , 0.26172552, 0.30577105, 0.2831559 ,\n",
       "        0.27194983, 0.28493407, 0.25833708, 1.3839077 , 0.27405697],\n",
       "       [0.25391233, 0.22789618, 0.21886317, 0.24893215, 0.23346937,\n",
       "        0.23551844, 0.24839784, 0.21118562, 0.27405697, 1.3101339 ]],      dtype=float32)"
      ]
     },
     "execution_count": 57,
     "metadata": {},
     "output_type": "execute_result"
    }
   ],
   "source": [
    "var"
   ]
  },
  {
   "cell_type": "code",
   "execution_count": null,
   "id": "3e753cd4-9585-4d5c-8049-efc4aac10ae9",
   "metadata": {},
   "outputs": [],
   "source": []
  }
 ],
 "metadata": {
  "kernelspec": {
   "display_name": "Python 3 (ipykernel)",
   "language": "python",
   "name": "python3"
  },
  "language_info": {
   "codemirror_mode": {
    "name": "ipython",
    "version": 3
   },
   "file_extension": ".py",
   "mimetype": "text/x-python",
   "name": "python",
   "nbconvert_exporter": "python",
   "pygments_lexer": "ipython3",
   "version": "3.8.5"
  }
 },
 "nbformat": 4,
 "nbformat_minor": 5
}
