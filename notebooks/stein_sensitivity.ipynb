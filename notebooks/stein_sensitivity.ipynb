{
 "cells": [
  {
   "cell_type": "code",
   "execution_count": 8,
   "id": "2a6c801b-3560-4eee-84d7-a3228453ce7b",
   "metadata": {},
   "outputs": [],
   "source": [
    "from sobol_seq import i4_sobol_generate\n"
   ]
  },
  {
   "cell_type": "code",
   "execution_count": 37,
   "id": "e94209bc-3c2b-49bf-80c8-3f1f7c2a397c",
   "metadata": {},
   "outputs": [],
   "source": [
    "\n",
    "import jax.numpy as jnp\n",
    "import jax\n",
    "from tensorflow_probability.substrates import jax as tfp\n",
    "from functools import partial\n",
    "from jax.scipy.stats import norm\n",
    "\n",
    "\n",
    "def stein_Matern(x, y, l, d_log_px, d_log_py):\n",
    "    \"\"\"\n",
    "    :param x: N*D\n",
    "    :param y: M*D\n",
    "    :param l: scalar\n",
    "    :param d_log_px: N*D\n",
    "    :param d_log_py: M*D\n",
    "    :return: N*M\n",
    "    \"\"\"\n",
    "    N, D = x.shape\n",
    "    M = y.shape[0]\n",
    "\n",
    "    batch_kernel = tfp.math.psd_kernels.MaternThreeHalves(amplitude=1., length_scale=l)\n",
    "    grad_x_K_fn = jax.grad(batch_kernel.apply, argnums=0)\n",
    "    vec_grad_x_K_fn = jax.vmap(grad_x_K_fn, in_axes=(0, 0), out_axes=0)\n",
    "    grad_y_K_fn = jax.grad(batch_kernel.apply, argnums=1)\n",
    "    vec_grad_y_K_fn = jax.vmap(grad_y_K_fn, in_axes=(0, 0), out_axes=0)\n",
    "\n",
    "    grad_xy_K_fn = jax.jacfwd(jax.jacrev(batch_kernel.apply, argnums=1), argnums=0)\n",
    "\n",
    "    def diag_sum_grad_xy_K_fn(x, y):\n",
    "        return jnp.diag(grad_xy_K_fn(x, y)).sum()\n",
    "\n",
    "    vec_grad_xy_K_fn = jax.vmap(diag_sum_grad_xy_K_fn, in_axes=(0, 0), out_axes=0)\n",
    "\n",
    "    x_dummy = jnp.stack([x] * N, axis=1).reshape(N * M, D)\n",
    "    y_dummy = jnp.stack([y] * M, axis=0).reshape(N * M, D)\n",
    "\n",
    "    K = batch_kernel.matrix(x, y)\n",
    "    dx_K = vec_grad_x_K_fn(x_dummy, y_dummy).reshape(N, M, D)\n",
    "    dy_K = vec_grad_y_K_fn(x_dummy, y_dummy).reshape(N, M, D)\n",
    "    dxdy_K = vec_grad_xy_K_fn(x_dummy, y_dummy).reshape(N, M)\n",
    "\n",
    "    part1 = d_log_px @ d_log_py.T * K\n",
    "    part2 = (d_log_py[None, :] * dx_K).sum(-1)\n",
    "    part3 = (d_log_px[:, None, :] * dy_K).sum(-1)\n",
    "    part4 = dxdy_K\n",
    "\n",
    "    return part1 + part2 + part3 + part4\n",
    "\n",
    "\n",
    "def score_fn(y, mu, sigma):\n",
    "    \"\"\"\n",
    "    return \\nabla_y log p(y|mu, sigma)\n",
    "    :param y: (N, D)\n",
    "    :param mu: (D, )\n",
    "    :param sigma: (D, D)\n",
    "    :return: (N, D)\n",
    "    \"\"\"\n",
    "    return -(y - mu[None, :]) @ jnp.linalg.inv(sigma)\n",
    "\n",
    "def log_llk(y, mu, sigma):\n",
    "    return jax.scipy.stats.multivariate_normal.logpdf(y, mu, sigma).sum()\n",
    "    \n",
    "\n",
    "def qmc_gaussian(mu, sigma, nsamples):\n",
    "    \"\"\"\n",
    "    :param mu: (D, )\n",
    "    :param sigma: (D, D)\n",
    "    :param nsamples:\n",
    "    :return: samples: (nsamples, D)\n",
    "    \"\"\"\n",
    "    D = mu.shape[0]\n",
    "    u = i4_sobol_generate(D, nsamples)\n",
    "    L = jnp.linalg.cholesky(sigma)\n",
    "    samples = mu[:, None] + (norm.ppf(u) @ L).T\n",
    "    samples = samples.T\n",
    "    return samples, u"
   ]
  },
  {
   "cell_type": "code",
   "execution_count": 32,
   "id": "e0ebf9d0-4944-4c29-bdda-cd8f55e5a77c",
   "metadata": {},
   "outputs": [
    {
     "data": {
      "text/plain": [
       "()"
      ]
     },
     "execution_count": 32,
     "metadata": {},
     "output_type": "execute_result"
    }
   ],
   "source": [
    "log_llk(samples, mu, sigma).shape"
   ]
  },
  {
   "cell_type": "code",
   "execution_count": 34,
   "id": "e2c94471-98c0-49aa-9da9-51eaf4cf2621",
   "metadata": {},
   "outputs": [
    {
     "data": {
      "text/plain": [
       "Array([[ 0.        ,  0.        ],\n",
       "       [-0.83907676,  1.0036637 ],\n",
       "       [ 0.83907676, -1.0036637 ],\n",
       "       ...,\n",
       "       [-0.5193622 ,  0.45856872],\n",
       "       [ 1.2219273 , -1.7677315 ],\n",
       "       [ 1.146997  ,  0.55294514]], dtype=float32)"
      ]
     },
     "execution_count": 34,
     "metadata": {},
     "output_type": "execute_result"
    }
   ],
   "source": [
    "grad = jax.grad(log_llk, argnums=0)(samples, mu, sigma)\n",
    "grad"
   ]
  },
  {
   "cell_type": "code",
   "execution_count": 38,
   "id": "2fe157b6-c4b1-49a6-8292-9b8e8b51cf24",
   "metadata": {},
   "outputs": [],
   "source": [
    "seed = 0\n",
    "rng_key = jax.random.PRNGKey(seed)\n",
    "N = 100\n",
    "\n",
    "mu = jnp.array([0.1, 0.1])\n",
    "sigma = jnp.array([[1.0, 0.5], [0.5, 1.0]])\n",
    "samples, _ = qmc_gaussian(mu, sigma, N)\n",
    "score = score_fn(samples, mu, sigma)\n"
   ]
  },
  {
   "cell_type": "code",
   "execution_count": 40,
   "id": "5d3a667e-8cb4-4dbd-b7b9-360304403fd6",
   "metadata": {},
   "outputs": [],
   "source": [
    "l = 1.0\n",
    "K = stein_Matern(samples, samples, l, score, score)"
   ]
  },
  {
   "cell_type": "code",
   "execution_count": 41,
   "id": "a5565c39-3de5-4756-adf2-0c4d4f61ec25",
   "metadata": {},
   "outputs": [
    {
     "data": {
      "text/plain": [
       "Array([-0.01541214, -0.02288976, -0.02268224, -0.05494424,  0.023611  ,\n",
       "       -0.15775913,  0.06250537,  0.09608445,  0.00113019, -0.01712696,\n",
       "       -0.02659494, -0.00278812,  0.09662905, -0.02559544,  0.00747745,\n",
       "        0.14961518, -0.1373193 , -0.01368134, -0.07155657, -0.13544227,\n",
       "        0.16497128, -0.02587449, -0.07058392,  0.09313472, -0.01122014,\n",
       "        0.09472355, -0.153085  , -0.00428645,  0.04264457, -0.17822246,\n",
       "        0.21884274,  0.23187469, -0.06738494, -0.20360675, -0.04399686,\n",
       "       -0.09875187,  0.1334598 , -0.03871112, -0.08141498, -0.00494679,\n",
       "        0.02810924,  0.15093832, -0.10725578, -0.04930729, -0.03664687,\n",
       "       -0.1280179 ,  0.05464987,  0.19470344, -0.04909984,  0.06619162,\n",
       "       -0.18760559, -0.06878809,  0.06685413, -0.15949498, -0.0099932 ,\n",
       "        0.10129671, -0.10415832, -0.01529307, -0.07082627, -0.04559669,\n",
       "        0.04281029, -0.09472591,  0.14663856,  0.24400835, -0.12239994,\n",
       "       -0.10217958, -0.03305624, -0.12522101,  0.12372877, -0.07569377,\n",
       "       -0.00146898,  0.06559433,  0.02704474,  0.17489913, -0.15606938,\n",
       "       -0.05124668,  0.0209971 , -0.17518441,  0.12304571,  0.10204151,\n",
       "       -0.04909258,  0.04596388, -0.1369526 , -0.01442977,  0.10833233,\n",
       "       -0.0301464 , -0.01636614,  0.10546359,  0.0012303 , -0.03442803,\n",
       "       -0.02501294,  0.00152363,  0.09411581, -0.02642235,  0.02795035,\n",
       "        0.13363566, -0.08312881, -0.00487144, -0.13910775, -0.09213533],      dtype=float32)"
      ]
     },
     "execution_count": 41,
     "metadata": {},
     "output_type": "execute_result"
    }
   ],
   "source": [
    "K.mean(1)"
   ]
  },
  {
   "cell_type": "code",
   "execution_count": null,
   "id": "bca8e699-deaa-4a0e-9b48-2a0231644fe9",
   "metadata": {},
   "outputs": [],
   "source": []
  }
 ],
 "metadata": {
  "kernelspec": {
   "display_name": "Python 3 (ipykernel)",
   "language": "python",
   "name": "python3"
  },
  "language_info": {
   "codemirror_mode": {
    "name": "ipython",
    "version": 3
   },
   "file_extension": ".py",
   "mimetype": "text/x-python",
   "name": "python",
   "nbconvert_exporter": "python",
   "pygments_lexer": "ipython3",
   "version": "3.8.5"
  }
 },
 "nbformat": 4,
 "nbformat_minor": 5
}
