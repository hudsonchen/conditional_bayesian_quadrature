{
 "cells": [
  {
   "cell_type": "code",
   "execution_count": 124,
   "id": "7cd7978d-8ba7-47b7-9403-058344268547",
   "metadata": {},
   "outputs": [
    {
     "name": "stdout",
     "output_type": "stream",
     "text": [
      "1.3199613975955582\n"
     ]
    }
   ],
   "source": [
    "import jax.numpy as jnp\n",
    "import jax\n",
    "from jax import random\n",
    "from jax.config import config\n",
    "import scipy\n",
    "import time\n",
    "config.update('jax_platform_name', 'cpu')\n",
    "config.update(\"jax_enable_x64\", True)\n",
    "\n",
    "\n",
    "# Example usage\n",
    "rng_key = random.PRNGKey(int(time.time()))\n",
    "matrix = random.normal(rng_key, (300, 300))\n",
    "matrix = matrix @ matrix.T  # Make it positive definite\n",
    "eps = 1.0\n",
    "\n",
    "true_inv = jnp.linalg.inv(matrix + eps * jnp.eye(matrix.shape[0]))\n",
    "\n",
    "\n",
    "def nystrom_inv(matrix, eps):\n",
    "    rng_key = random.PRNGKey(int(time.time()))\n",
    "    n = matrix.shape[0]\n",
    "    m = int(n / 2)\n",
    "    matrix_mean = jnp.mean(matrix)\n",
    "    print(matrix_mean)\n",
    "    matrix = matrix / matrix_mean  # Scale the matrix to avoid numerical issues\n",
    "\n",
    "    # Randomly select m columns\n",
    "    idx = jax.random.choice(rng_key, n, (m, ), replace=False)\n",
    "\n",
    "    W = matrix[idx, :][:, idx]\n",
    "    U, s, V = jnp.linalg.svd(W)\n",
    "\n",
    "    U_recon = jnp.sqrt(m / n) * matrix[:, idx] @ U @ jnp.diag(1. / s)\n",
    "    S_recon = s * (n / m)\n",
    "\n",
    "    Sigma_inv = (1. / eps) * jnp.eye(n)\n",
    "    approx_inv = Sigma_inv - Sigma_inv @ U_recon @ jnp.linalg.inv(jnp.diag(1. / S_recon) + U_recon.T @ Sigma_inv @ U_recon) @ U_recon.T @ Sigma_inv\n",
    "    approx_inv = approx_inv / matrix_mean  # Don't forget the scaling!\n",
    "    return approx_inv\n",
    "\n",
    "approx_inv = nystrom_inv(matrix, eps)\n"
   ]
  },
  {
   "cell_type": "code",
   "execution_count": 125,
   "id": "0dddc473",
   "metadata": {},
   "outputs": [
    {
     "data": {
      "text/plain": [
       "Array([[ 1.08978205e+02, -1.23373788e+01, -8.13510099e+00, ...,\n",
       "         4.04342212e-03, -3.56795748e-03,  1.29558924e+01],\n",
       "       [-1.63963069e+01,  1.10719134e+02,  7.12116009e+00, ...,\n",
       "        -7.74298233e-04, -7.67300391e-03,  4.33908983e+00],\n",
       "       [-6.51365148e+00,  4.71249212e+00,  9.51654783e+01, ...,\n",
       "         1.04407898e-02, -2.05619611e-03,  2.54714329e+00],\n",
       "       ...,\n",
       "       [-3.02762780e+00,  1.94127847e+00, -6.08021967e+00, ...,\n",
       "         9.20572149e-01,  5.25785276e-03, -5.66609409e+00],\n",
       "       [ 7.30895218e+00,  8.93898723e-02, -1.85999542e-01, ...,\n",
       "         5.25785276e-03,  9.03769115e-01,  3.99285519e-01],\n",
       "       [ 1.33902740e+01,  3.18381293e+00, -3.63972978e+00, ...,\n",
       "         9.76412491e-03, -2.22158272e-03,  8.58261381e+01]],      dtype=float64)"
      ]
     },
     "execution_count": 125,
     "metadata": {},
     "output_type": "execute_result"
    }
   ],
   "source": [
    "approx_inv @ (matrix + eps * jnp.eye(matrix.shape[0]))"
   ]
  },
  {
   "cell_type": "code",
   "execution_count": 117,
   "id": "b1ded882",
   "metadata": {},
   "outputs": [
    {
     "data": {
      "text/plain": [
       "Array([[ 1.00000000e+00,  1.01307851e-15,  8.34228520e-15, ...,\n",
       "        -1.79977561e-15,  7.07767178e-16, -1.22124533e-15],\n",
       "       [-1.07552856e-15,  1.00000000e+00, -7.20951077e-15, ...,\n",
       "         9.12464548e-16,  3.02535774e-15, -1.33226763e-15],\n",
       "       [-2.19269047e-15,  1.08246745e-15,  1.00000000e+00, ...,\n",
       "         6.80011603e-16, -1.88737914e-15,  8.88178420e-16],\n",
       "       ...,\n",
       "       [-9.06284596e-16, -5.41190356e-15, -1.59377719e-16, ...,\n",
       "         1.00000000e+00, -2.26164573e-16,  1.30104261e-15],\n",
       "       [ 2.28289609e-15, -4.64905892e-16,  7.14706072e-16, ...,\n",
       "        -9.20270804e-16,  1.00000000e+00, -3.33066907e-16],\n",
       "       [ 2.77555756e-16,  0.00000000e+00, -2.85882429e-15, ...,\n",
       "        -2.91433544e-16, -2.66453526e-15,  1.00000000e+00]],      dtype=float64)"
      ]
     },
     "execution_count": 117,
     "metadata": {},
     "output_type": "execute_result"
    }
   ],
   "source": [
    "true_inv @ (matrix + eps * jnp.eye(matrix.shape[0]))"
   ]
  },
  {
   "cell_type": "code",
   "execution_count": null,
   "id": "5500ee26",
   "metadata": {},
   "outputs": [],
   "source": []
  }
 ],
 "metadata": {
  "kernelspec": {
   "display_name": "Python 3 (ipykernel)",
   "language": "python",
   "name": "python3"
  },
  "language_info": {
   "codemirror_mode": {
    "name": "ipython",
    "version": 3
   },
   "file_extension": ".py",
   "mimetype": "text/x-python",
   "name": "python",
   "nbconvert_exporter": "python",
   "pygments_lexer": "ipython3",
   "version": "3.9.17"
  }
 },
 "nbformat": 4,
 "nbformat_minor": 5
}
