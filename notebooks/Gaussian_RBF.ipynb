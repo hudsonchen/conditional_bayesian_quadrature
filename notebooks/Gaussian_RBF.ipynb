{
 "cells": [
  {
   "cell_type": "code",
   "execution_count": 1,
   "id": "ff15cd13-98db-432a-b65d-636953278858",
   "metadata": {},
   "outputs": [],
   "source": [
    "import jax\n",
    "import jax.numpy as jnp\n",
    "from tensorflow_probability.substrates import jax as tfp\n",
    "from functools import partial\n"
   ]
  },
  {
   "cell_type": "code",
   "execution_count": 13,
   "id": "a5902862-ca49-4a33-9ed3-dd65241c6f77",
   "metadata": {},
   "outputs": [],
   "source": [
    "seed = 1\n",
    "rng_key = jax.random.PRNGKey(seed)\n",
    "\n",
    "N = 1000\n",
    "D = 2\n",
    "\n",
    "rng_key, _ = jax.random.split(rng_key)\n",
    "mu = jax.random.uniform(rng_key, shape=(D,))\n",
    "\n",
    "rng_key, _ = jax.random.split(rng_key)\n",
    "x_dummy = jax.random.uniform(rng_key, shape=(100, D))\n",
    "Sigma = x_dummy.T @ x_dummy + jnp.eye(D)\n",
    "\n",
    "rng_key, _ = jax.random.split(rng_key)\n",
    "x = jax.random.multivariate_normal(rng_key, mean=mu, cov=Sigma, shape=(N, ))\n",
    "\n",
    "rng_key, _ = jax.random.split(rng_key)\n",
    "y = jax.random.multivariate_normal(rng_key, mean=mu, cov=Sigma, shape=(N, ))\n",
    "\n",
    "l = 1.0\n"
   ]
  },
  {
   "cell_type": "code",
   "execution_count": 28,
   "id": "8a0c7d5e-9dad-47f2-812c-b668f0caad0e",
   "metadata": {},
   "outputs": [],
   "source": [
    "def kme_RBF_Gaussian(mu, Sigma, l, y):\n",
    "    \"\"\"\n",
    "    :param mu: Gaussian mean, (D, )\n",
    "    :param sigma: Gaussian covariance, (D, D)\n",
    "    :param l: lengthscale, scalar\n",
    "    :param y: sample: (N, D)\n",
    "    :return:\n",
    "    \"\"\"\n",
    "    kme_RBF_Gaussian_func_ = partial(kme_RBF_Gaussian_func, mu, Sigma, l)\n",
    "    kme_RBF_Gaussian_vmap_func = jax.vmap(kme_RBF_Gaussian_func_)\n",
    "    return kme_RBF_Gaussian_vmap_func(y)\n",
    "\n",
    "\n",
    "def kme_RBF_Gaussian_func(mu, Sigma, l, y):\n",
    "    \"\"\"\n",
    "    :param mu: Gaussian mean, (D, )\n",
    "    :param sigma: Gaussian covariance, (D, D)\n",
    "    :param l: lengthscale, scalar\n",
    "    :param y: sample: D,\n",
    "    :return: scalar\n",
    "    \"\"\"\n",
    "    # From the kernel mean embedding document\n",
    "    D = mu.shape[0]\n",
    "    Lambda = jnp.eye(D) * l\n",
    "    Lambda_inv = jnp.eye(D) / l\n",
    "    part1 = jnp.linalg.det(jnp.eye(D) + Sigma @ Lambda_inv)\n",
    "    part2 = jnp.exp(-0.5 * (mu - y).T @ jnp.linalg.inv(Lambda + Sigma) @ (mu - y))\n",
    "    return part1 ** (-0.5) * part2\n",
    "\n",
    "def my_RBF(x, y, l):\n",
    "    \"\"\"\n",
    "    :param x: N*D\n",
    "    :param y: M*D\n",
    "    :param l: scalar\n",
    "    :return: N*M\n",
    "    \"\"\"\n",
    "    kernel = tfp.math.psd_kernels.ExponentiatedQuadratic(amplitude=1., length_scale=l)\n",
    "    K = kernel.matrix(x, y)\n",
    "    return K"
   ]
  },
  {
   "cell_type": "code",
   "execution_count": 29,
   "id": "47672d0c-2c8d-41a7-ba2a-18c2dcc3b93f",
   "metadata": {},
   "outputs": [],
   "source": [
    "empirical = my_RBF(x, y, l).mean(0)"
   ]
  },
  {
   "cell_type": "code",
   "execution_count": 30,
   "id": "b90300b5-7dec-405b-941d-5b57457b6c59",
   "metadata": {},
   "outputs": [],
   "source": [
    "analytical = empirical * 0\n",
    "for i in range(N):\n",
    "    Y = y[i, :]\n",
    "    analytical_dummy = kme_RBF_Gaussian_func(mu, Sigma, l, Y)\n",
    "    analytical = analytical.at[i].set(analytical_dummy)"
   ]
  },
  {
   "cell_type": "code",
   "execution_count": 31,
   "id": "77d013cc-52dd-4cdd-bf9f-dc9e6d5c0486",
   "metadata": {},
   "outputs": [
    {
     "data": {
      "text/plain": [
       "Array([0.04002754, 0.00739984, 0.03849194, 0.00446801, 0.02718731,\n",
       "       0.01028908, 0.01717951, 0.00129134, 0.01635272, 0.00551911],      dtype=float32)"
      ]
     },
     "execution_count": 31,
     "metadata": {},
     "output_type": "execute_result"
    }
   ],
   "source": [
    "analytical[:10]"
   ]
  },
  {
   "cell_type": "code",
   "execution_count": 32,
   "id": "2f05407d-bab1-413e-8dd1-293329bd1566",
   "metadata": {},
   "outputs": [
    {
     "data": {
      "text/plain": [
       "Array([0.03678151, 0.00621564, 0.04432947, 0.00332187, 0.03083159,\n",
       "       0.00990483, 0.01637228, 0.00169566, 0.01606366, 0.00648652],      dtype=float32)"
      ]
     },
     "execution_count": 32,
     "metadata": {},
     "output_type": "execute_result"
    }
   ],
   "source": [
    "empirical[:10]"
   ]
  },
  {
   "cell_type": "code",
   "execution_count": 34,
   "id": "1a1f6da9-ed28-4942-9974-5b114207d679",
   "metadata": {},
   "outputs": [
    {
     "data": {
      "text/plain": [
       "Array([0.04002754, 0.00739984, 0.03849194, 0.00446801, 0.02718731,\n",
       "       0.01028908, 0.01717951, 0.00129134, 0.01635272, 0.00551911],      dtype=float32)"
      ]
     },
     "execution_count": 34,
     "metadata": {},
     "output_type": "execute_result"
    }
   ],
   "source": [
    "kme_RBF_Gaussian(mu, Sigma, l, y)[:10]"
   ]
  },
  {
   "cell_type": "code",
   "execution_count": 37,
   "id": "d4658528-9528-4904-aa7d-10a5bd7b0e00",
   "metadata": {},
   "outputs": [
    {
     "data": {
      "text/plain": [
       "(2, 2)"
      ]
     },
     "execution_count": 37,
     "metadata": {},
     "output_type": "execute_result"
    }
   ],
   "source": [
    "Sigma.shape"
   ]
  },
  {
   "cell_type": "code",
   "execution_count": 70,
   "id": "e69f8f62-4e27-490c-9bc1-fa5a4c22bcd4",
   "metadata": {},
   "outputs": [],
   "source": [
    "kme_RBF_Gaussian_func_ = partial(kme_RBF_Gaussian_func, mu, sigma, l)\n",
    "kme_RBF_Gaussian_vmap_func = jax.vmap(kme_RBF_Gaussian_func_)"
   ]
  },
  {
   "cell_type": "code",
   "execution_count": 73,
   "id": "0ff3c83e-fe64-404b-9d54-8a5ad50ba457",
   "metadata": {},
   "outputs": [
    {
     "data": {
      "text/plain": [
       "Array([0.7683728 , 0.7709943 , 0.7710005 , 0.7691586 , 0.64575416,\n",
       "       0.6365243 , 0.7714575 , 0.7085045 , 0.642029  , 0.67188025],      dtype=float32)"
      ]
     },
     "execution_count": 73,
     "metadata": {},
     "output_type": "execute_result"
    }
   ],
   "source": [
    "kme_RBF_Gaussian_vmap_func(y)[:10]"
   ]
  },
  {
   "cell_type": "code",
   "execution_count": null,
   "id": "26bfd01a-5139-43fc-80d0-ff190b5b9abb",
   "metadata": {},
   "outputs": [],
   "source": []
  }
 ],
 "metadata": {
  "kernelspec": {
   "display_name": "Python 3 (ipykernel)",
   "language": "python",
   "name": "python3"
  },
  "language_info": {
   "codemirror_mode": {
    "name": "ipython",
    "version": 3
   },
   "file_extension": ".py",
   "mimetype": "text/x-python",
   "name": "python",
   "nbconvert_exporter": "python",
   "pygments_lexer": "ipython3",
   "version": "3.8.5"
  }
 },
 "nbformat": 4,
 "nbformat_minor": 5
}
